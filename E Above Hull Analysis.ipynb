{
 "cells": [
  {
   "cell_type": "markdown",
   "metadata": {},
   "source": [
    "# PBAs: E Above Hull Analysis"
   ]
  },
  {
   "cell_type": "code",
   "execution_count": 1,
   "metadata": {},
   "outputs": [],
   "source": [
    "import numpy as np\n",
    "import pandas as pd\n",
    "import matplotlib.pyplot as plt\n",
    "%matplotlib inline"
   ]
  },
  {
   "cell_type": "markdown",
   "metadata": {},
   "source": [
    "## Pre-processing and Loading"
   ]
  },
  {
   "cell_type": "markdown",
   "metadata": {},
   "source": [
    "Before we can load the json into python, we need to change a few formatting issues with the file:"
   ]
  },
  {
   "cell_type": "code",
   "execution_count": 2,
   "metadata": {},
   "outputs": [],
   "source": [
    "with open('pba.json', 'r') as file :\n",
    "  pba_json = file.read()"
   ]
  },
  {
   "cell_type": "code",
   "execution_count": 3,
   "metadata": {},
   "outputs": [
    {
     "name": "stdout",
     "output_type": "stream",
     "text": [
      ",\n",
      "{\n",
      "    \"_id\" : ObjectId(\"58d009ea48a464edfdfb435d\")\n",
      "}\n",
      "\n",
      ",\n",
      "{\n",
      "    \"_id\" : ObjectId(\"58e5d103d95cbb63a6\n"
     ]
    }
   ],
   "source": [
    "#Getting rid of the /* i */ and replacing with a comma:\n",
    "for i in range(1,700):\n",
    "    j = str(i)\n",
    "    pba_json = pba_json.replace('/* ' + j + ' */', ',')\n",
    "\n",
    "print(pba_json[:100])"
   ]
  },
  {
   "cell_type": "code",
   "execution_count": 4,
   "metadata": {},
   "outputs": [],
   "source": [
    "#Adding square brackets:\n",
    "pba_json = '[\\n' + pba_json + '\\n]'\n",
    "#Deleting first comma:\n",
    "pba_json = pba_json[:2] + pba_json[3:]"
   ]
  },
  {
   "cell_type": "code",
   "execution_count": 5,
   "metadata": {},
   "outputs": [],
   "source": [
    "#Getting rid of the ObjectId() tag from the _id value:\n",
    "pba_json = pba_json.replace(\"ObjectId(\", \"\")\n",
    "pba_json = pba_json.replace(\")\", \"\")"
   ]
  },
  {
   "cell_type": "code",
   "execution_count": 6,
   "metadata": {},
   "outputs": [],
   "source": [
    "#Saving to file as pba_1.json\n",
    "pba_1 = open('pba_1.json', 'w')\n",
    "pba_1.write(pba_json)\n",
    "pba_1.close()"
   ]
  },
  {
   "cell_type": "markdown",
   "metadata": {},
   "source": [
    "Now we are ready to load the file using monty.serialization.loadfn, which loads the json into a list of dictionary entries."
   ]
  },
  {
   "cell_type": "code",
   "execution_count": 7,
   "metadata": {},
   "outputs": [],
   "source": [
    "from monty.serialization import loadfn"
   ]
  },
  {
   "cell_type": "code",
   "execution_count": 8,
   "metadata": {},
   "outputs": [],
   "source": [
    "data_1 = loadfn('pba_1.json')"
   ]
  },
  {
   "cell_type": "code",
   "execution_count": 9,
   "metadata": {},
   "outputs": [
    {
     "data": {
      "text/plain": [
       "536"
      ]
     },
     "execution_count": 9,
     "metadata": {},
     "output_type": "execute_result"
    }
   ],
   "source": [
    "len(data_1)"
   ]
  },
  {
   "cell_type": "code",
   "execution_count": 10,
   "metadata": {},
   "outputs": [
    {
     "data": {
      "text/plain": [
       "{'_id': '58e5d103d95cbb63a64878f0', 'input': {'structure': Structure Summary\n",
       "  Lattice\n",
       "      abc : 9.9509025313318 9.9509025313318 9.9509025313318\n",
       "   angles : 89.99613296435679 90.00386703564321 90.00386703564321\n",
       "   volume : 985.3429511575596\n",
       "        A : 9.95090252 -0.0003358 -0.0003358\n",
       "        B : -0.0003358 9.95090252 0.0003358\n",
       "        C : -0.0003358 0.0003358 9.95090252\n",
       "  PeriodicSite: Ca (7.4762, 7.4759, 7.4759) [0.7514, 0.7513, 0.7513]\n",
       "  PeriodicSite: Ca (2.4747, 2.4744, 7.4759) [0.2487, 0.2486, 0.7513]\n",
       "  PeriodicSite: Ca (2.4747, 7.4759, 2.4744) [0.2487, 0.7513, 0.2486]\n",
       "  PeriodicSite: Ca (2.4705, 7.4801, 7.4801) [0.2483, 0.7517, 0.7517]\n",
       "  PeriodicSite: Fe (0.0067, 9.9439, 9.9439) [0.0007, 0.9993, 0.9993]\n",
       "  PeriodicSite: Fe (4.9721, 4.9785, 9.9466) [0.4997, 0.5003, 0.9996]\n",
       "  PeriodicSite: Fe (0.0039, 4.9785, 4.9785) [0.0004, 0.5003, 0.5003]\n",
       "  PeriodicSite: Fe (4.9721, 9.9466, 4.9785) [0.4997, 0.9996, 0.5003]\n",
       "  PeriodicSite: Co (4.9696, 9.9460, 9.9460) [0.4995, 0.9995, 0.9995]\n",
       "  PeriodicSite: Co (0.0045, 4.9809, 9.9460) [0.0005, 0.5005, 0.9995]\n",
       "  PeriodicSite: Co (0.0045, 9.9460, 4.9809) [0.0005, 0.9995, 0.5005]\n",
       "  PeriodicSite: Co (4.9732, 4.9773, 4.9773) [0.4998, 0.5002, 0.5002]\n",
       "  PeriodicSite: C (3.0806, -0.0001, -0.0001) [0.3096, 0.0000, 0.0000]\n",
       "  PeriodicSite: C (6.8661, 9.9481, 9.9481) [0.6901, 0.9997, 0.9997]\n",
       "  PeriodicSite: C (0.0024, 3.0845, 9.9481) [0.0003, 0.3099, 0.9997]\n",
       "  PeriodicSite: C (9.9507, 6.8700, -0.0001) [1.0000, 0.6904, 0.0000]\n",
       "  PeriodicSite: C (0.0024, 9.9481, 3.0845) [0.0003, 0.9997, 0.3099]\n",
       "  PeriodicSite: C (9.9507, -0.0001, 6.8700) [1.0000, 0.0000, 0.6904]\n",
       "  PeriodicSite: C (1.9026, 4.9857, 9.9413) [0.1912, 0.5010, 0.9990]\n",
       "  PeriodicSite: C (8.0553, 4.9841, 9.9415) [0.8096, 0.5009, 0.9991]\n",
       "  PeriodicSite: C (0.0090, 1.8952, 4.9841) [0.0009, 0.1904, 0.5009]\n",
       "  PeriodicSite: C (0.0093, 8.0480, 4.9857) [0.0010, 0.8088, 0.5010]\n",
       "  PeriodicSite: C (4.9664, 9.9415, 1.8952) [0.4991, 0.9991, 0.1904]\n",
       "  PeriodicSite: C (4.9649, 9.9413, 8.0480) [0.4990, 0.9990, 0.8088]\n",
       "  PeriodicSite: C (4.9664, 1.8952, 9.9415) [0.4991, 0.1904, 0.9991]\n",
       "  PeriodicSite: C (4.9649, 8.0480, 9.9413) [0.4990, 0.8088, 0.9990]\n",
       "  PeriodicSite: C (1.9026, 9.9413, 4.9857) [0.1912, 0.9990, 0.5010]\n",
       "  PeriodicSite: C (8.0553, 9.9415, 4.9841) [0.8096, 0.9991, 0.5009]\n",
       "  PeriodicSite: C (0.0093, 4.9857, 8.0480) [0.0010, 0.5010, 0.8088]\n",
       "  PeriodicSite: C (0.0090, 4.9841, 1.8952) [0.0009, 0.5009, 0.1904]\n",
       "  PeriodicSite: C (3.0764, 4.9784, 4.9784) [0.3092, 0.5003, 0.5003]\n",
       "  PeriodicSite: C (6.8701, 4.9786, 4.9786) [0.6904, 0.5003, 0.5003]\n",
       "  PeriodicSite: C (4.9720, 3.0805, 4.9786) [0.4997, 0.3096, 0.5003]\n",
       "  PeriodicSite: C (4.9722, 6.8741, 4.9784) [0.4997, 0.6908, 0.5003]\n",
       "  PeriodicSite: C (4.9720, 4.9786, 3.0805) [0.4997, 0.5003, 0.3096]\n",
       "  PeriodicSite: C (4.9722, 4.9784, 6.8741) [0.4997, 0.5003, 0.6908]\n",
       "  PeriodicSite: N (1.9015, 9.9428, 9.9428) [0.1912, 0.9992, 0.9992]\n",
       "  PeriodicSite: N (8.0417, 9.9313, 9.9313) [0.8082, 0.9980, 0.9980]\n",
       "  PeriodicSite: N (0.0192, 1.9089, 9.9313) [0.0020, 0.1918, 0.9980]\n",
       "  PeriodicSite: N (0.0078, 8.0490, 9.9428) [0.0008, 0.8088, 0.9992]\n",
       "  PeriodicSite: N (0.0192, 9.9313, 1.9089) [0.0020, 0.9980, 0.1918]\n",
       "  PeriodicSite: N (0.0078, 9.9428, 8.0490) [0.0008, 0.9992, 0.8088]\n",
       "  PeriodicSite: N (3.0819, 4.9812, 9.9447) [0.3098, 0.5006, 0.9994]\n",
       "  PeriodicSite: N (6.8792, 4.9928, 9.9335) [0.6914, 0.5017, 0.9983]\n",
       "  PeriodicSite: N (0.0171, 3.0714, 4.9928) [0.0017, 0.3086, 0.5017]\n",
       "  PeriodicSite: N (0.0059, 6.8686, 4.9812) [0.0006, 0.6902, 0.5006]\n",
       "  PeriodicSite: N (4.9578, 9.9335, 3.0714) [0.4983, 0.9983, 0.3086]\n",
       "  PeriodicSite: N (4.9693, 9.9447, 6.8686) [0.4994, 0.9994, 0.6902]\n",
       "  PeriodicSite: N (4.9578, 3.0714, 9.9335) [0.4983, 0.3086, 0.9983]\n",
       "  PeriodicSite: N (4.9693, 6.8686, 9.9447) [0.4994, 0.6902, 0.9994]\n",
       "  PeriodicSite: N (3.0819, 9.9447, 4.9812) [0.3098, 0.9994, 0.5006]\n",
       "  PeriodicSite: N (6.8792, 9.9335, 4.9928) [0.6914, 0.9983, 0.5017]\n",
       "  PeriodicSite: N (0.0059, 4.9812, 6.8686) [0.0006, 0.5006, 0.6902]\n",
       "  PeriodicSite: N (0.0171, 4.9928, 3.0714) [0.0017, 0.5017, 0.3086]\n",
       "  PeriodicSite: N (1.8966, 4.9829, 4.9829) [0.1906, 0.5007, 0.5007]\n",
       "  PeriodicSite: N (8.0461, 4.9929, 4.9929) [0.8086, 0.5018, 0.5018]\n",
       "  PeriodicSite: N (4.9576, 1.9045, 4.9929) [0.4982, 0.1914, 0.5018]\n",
       "  PeriodicSite: N (4.9677, 8.0540, 4.9829) [0.4993, 0.8094, 0.5007]\n",
       "  PeriodicSite: N (4.9576, 4.9929, 1.9045) [0.4982, 0.5018, 0.1914]\n",
       "  PeriodicSite: N (4.9677, 4.9829, 8.0540) [0.4993, 0.5007, 0.8094],\n",
       "  'is_hubbard': False,\n",
       "  'hubbards': {},\n",
       "  'is_lasph': False,\n",
       "  'potcar_spec': [{'titel': 'PAW_PBE Ca_sv 06Sep2000',\n",
       "    'hash': 'eb006721e214c04b3c13146e81b3a27d'},\n",
       "   {'titel': 'PAW_PBE Fe_pv 06Sep2000',\n",
       "    'hash': '5963411539032ec3298fa675a32c5e64'},\n",
       "   {'titel': 'PAW_PBE Co 06Sep2000',\n",
       "    'hash': 'b169bca4e137294d2ab3df8cbdd09083'},\n",
       "   {'titel': 'PAW_PBE C 08Apr2002',\n",
       "    'hash': 'c0a8167dbb174fe492a3db7f5006c0f8'},\n",
       "   {'titel': 'PAW_PBE N 08Apr2002',\n",
       "    'hash': 'b98fd027ddebc67da4063ff2cabbc04b'}],\n",
       "  'xc_override': None,\n",
       "  'pseudo_potential': {'functional': 'pbe',\n",
       "   'pot_type': 'paw',\n",
       "   'labels': ['Ca_sv', 'Fe_pv', 'Co', 'C', 'N']},\n",
       "  'parameters': {'SYSTEM': 'unknown system',\n",
       "   'LCOMPAT': False,\n",
       "   'PREC': 'accura',\n",
       "   'ENMAX': 520.0,\n",
       "   'ENAUG': 644.873,\n",
       "   'EDIFF': 0.003,\n",
       "   'IALGO': 68,\n",
       "   'IWAVPR': 11,\n",
       "   'NBANDS': 244,\n",
       "   'NELECT': 348.0,\n",
       "   'TURBO': 0,\n",
       "   'IRESTART': 0,\n",
       "   'NREBOOT': 0,\n",
       "   'NMIN': 0,\n",
       "   'EREF': 0.0,\n",
       "   'ISMEAR': -5,\n",
       "   'SIGMA': 0.05,\n",
       "   'KSPACING': 0.5,\n",
       "   'KGAMMA': True,\n",
       "   'LREAL': True,\n",
       "   'ROPT': [-0.00025, -0.00025, -0.00025, -0.00025, -0.00025],\n",
       "   'LMAXPAW': -100,\n",
       "   'LMAXMIX': 2,\n",
       "   'NLSPLINE': False,\n",
       "   'ISTART': 0,\n",
       "   'ICHARG': 1,\n",
       "   'INIWAV': 1,\n",
       "   'ISPIN': 2,\n",
       "   'LNONCOLLINEAR': False,\n",
       "   'MAGMOM': [0.6,\n",
       "    0.6,\n",
       "    0.6,\n",
       "    0.6,\n",
       "    5.0,\n",
       "    5.0,\n",
       "    5.0,\n",
       "    5.0,\n",
       "    5.0,\n",
       "    5.0,\n",
       "    5.0,\n",
       "    5.0,\n",
       "    0.6,\n",
       "    0.6,\n",
       "    0.6,\n",
       "    0.6,\n",
       "    0.6,\n",
       "    0.6,\n",
       "    0.6,\n",
       "    0.6,\n",
       "    0.6,\n",
       "    0.6,\n",
       "    0.6,\n",
       "    0.6,\n",
       "    0.6,\n",
       "    0.6,\n",
       "    0.6,\n",
       "    0.6,\n",
       "    0.6,\n",
       "    0.6,\n",
       "    0.6,\n",
       "    0.6,\n",
       "    0.6,\n",
       "    0.6,\n",
       "    0.6,\n",
       "    0.6,\n",
       "    0.6,\n",
       "    0.6,\n",
       "    0.6,\n",
       "    0.6,\n",
       "    0.6,\n",
       "    0.6,\n",
       "    0.6,\n",
       "    0.6,\n",
       "    0.6,\n",
       "    0.6,\n",
       "    0.6,\n",
       "    0.6,\n",
       "    0.6,\n",
       "    0.6,\n",
       "    0.6,\n",
       "    0.6,\n",
       "    0.6,\n",
       "    0.6,\n",
       "    0.6,\n",
       "    0.6,\n",
       "    0.6,\n",
       "    0.6,\n",
       "    0.6,\n",
       "    0.6],\n",
       "   'NUPDOWN': -1.0,\n",
       "   'LSORBIT': False,\n",
       "   'SAXIS': [0.0, 0.0, 1.0],\n",
       "   'LSPIRAL': False,\n",
       "   'QSPIRAL': [0.0, 0.0, 0.0],\n",
       "   'LZEROZ': False,\n",
       "   'LASPH': False,\n",
       "   'LMETAGGA': False,\n",
       "   'NELM': 100,\n",
       "   'NELMDL': 0,\n",
       "   'NELMIN': 2,\n",
       "   'ENINI': 520.0,\n",
       "   'LDIAG': True,\n",
       "   'LSUBROT': False,\n",
       "   'WEIMIN': 0.001,\n",
       "   'EBREAK': 7.7e-07,\n",
       "   'DEPER': 0.3,\n",
       "   'NRMM': 4,\n",
       "   'TIME': 0.4,\n",
       "   'AMIX': 0.4,\n",
       "   'BMIX': 1.0,\n",
       "   'AMIN': 0.1,\n",
       "   'AMIX_MAG': 1.6,\n",
       "   'BMIX_MAG': 1.0,\n",
       "   'IMIX': 4,\n",
       "   'MIXFIRST': False,\n",
       "   'MAXMIX': -45,\n",
       "   'WC': 100.0,\n",
       "   'INIMIX': 1,\n",
       "   'MIXPRE': 1,\n",
       "   'MREMOVE': 5,\n",
       "   'LDIPOL': False,\n",
       "   'LMONO': False,\n",
       "   'IDIPOL': 0,\n",
       "   'EPSILON': 1.0,\n",
       "   'DIPOL': [-100.0, -100.0, -100.0],\n",
       "   'EFIELD': 0.0,\n",
       "   'NGX': 80,\n",
       "   'NGY': 80,\n",
       "   'NGZ': 80,\n",
       "   'NGXF': 160,\n",
       "   'NGYF': 160,\n",
       "   'NGZF': 160,\n",
       "   'ADDGRID': False,\n",
       "   'NSW': 99,\n",
       "   'IBRION': 2,\n",
       "   'MDALGO': 0,\n",
       "   'ISIF': 3,\n",
       "   'PSTRESS': 0.0,\n",
       "   'EDIFFG': 0.0075,\n",
       "   'NFREE': 1,\n",
       "   'POTIM': 0.125,\n",
       "   'SMASS': -3.0,\n",
       "   'SCALEE': 1.0,\n",
       "   'TEBEG': 0.0001,\n",
       "   'TEEND': 0.0001,\n",
       "   'NBLOCK': 1,\n",
       "   'KBLOCK': 99,\n",
       "   'NPACO': 256,\n",
       "   'APACO': 16.0,\n",
       "   'ISYM': 2,\n",
       "   'SYMPREC': 1e-05,\n",
       "   'LORBIT': 11,\n",
       "   'RWIGS': [-1.0, -1.0, -1.0, -1.0, -1.0],\n",
       "   'NEDOS': 301,\n",
       "   'EMIN': 10.0,\n",
       "   'EMAX': -10.0,\n",
       "   'EFERMI': 0.0,\n",
       "   'NWRITE': 2,\n",
       "   'LWAVE': False,\n",
       "   'LDOWNSAMPLE': False,\n",
       "   'LCHARG': True,\n",
       "   'LPARD': False,\n",
       "   'LVTOT': False,\n",
       "   'LVHAR': False,\n",
       "   'LELF': False,\n",
       "   'LOPTICS': False,\n",
       "   'STM': [0.0, 0.0, 0.0, 0.0, 0.0, 0.0, 0.0],\n",
       "   'NPAR': 4,\n",
       "   'NSIM': 4,\n",
       "   'NBLK': -1,\n",
       "   'LPLANE': True,\n",
       "   'LSCALAPACK': True,\n",
       "   'LSCAAWARE': False,\n",
       "   'LSCALU': False,\n",
       "   'LASYNC': False,\n",
       "   'LORBITALREAL': False,\n",
       "   'IDIOT': 3,\n",
       "   'ISPECIAL': 0,\n",
       "   'LMUSIC': False,\n",
       "   'POMASS': [40.078, 55.847, 58.933, 12.011, 14.001],\n",
       "   'DARWINR': [0.0, 0.0, 0.0, 0.0, 0.0],\n",
       "   'DARWINV': [1.0, 1.0, 1.0, 1.0, 1.0],\n",
       "   'LCORR': True,\n",
       "   'GGA_COMPAT': True,\n",
       "   'LBERRY': False,\n",
       "   'ICORELEVEL': 0,\n",
       "   'LDAU': False,\n",
       "   'I_CONSTRAINED_M': 0,\n",
       "   'GGA': '--',\n",
       "   'VOSKOWN': 0,\n",
       "   'LHFCALC': False,\n",
       "   'PRECFOCK': '',\n",
       "   'LSYMGRAD': False,\n",
       "   'LHFONE': False,\n",
       "   'LRHFCALC': False,\n",
       "   'LTHOMAS': False,\n",
       "   'LMODELHF': False,\n",
       "   'ENCUT4O': -1.0,\n",
       "   'EXXOEP': 0,\n",
       "   'FOURORBIT': 0,\n",
       "   'AEXX': 0.0,\n",
       "   'HFALPHA': 0.0,\n",
       "   'MCALPHA': 0.0,\n",
       "   'ALDAX': 1.0,\n",
       "   'AGGAX': 1.0,\n",
       "   'ALDAC': 1.0,\n",
       "   'AGGAC': 1.0,\n",
       "   'NKREDX': 1,\n",
       "   'NKREDY': 1,\n",
       "   'NKREDZ': 1,\n",
       "   'SHIFTRED': False,\n",
       "   'ODDONLY': False,\n",
       "   'EVENONLY': False,\n",
       "   'LMAXFOCK': 0,\n",
       "   'NMAXFOCKAE': 0,\n",
       "   'LFOCKAEDFT': False,\n",
       "   'HFSCREEN': 0.0,\n",
       "   'HFSCREENC': 0.0,\n",
       "   'NBANDSGWLOW': 0,\n",
       "   'LUSE_VDW': False,\n",
       "   'Zab_VDW': -0.8491,\n",
       "   'PARAM1': 0.1234,\n",
       "   'PARAM2': 1.0,\n",
       "   'PARAM3': 0.0,\n",
       "   'MODEL_GW': 0,\n",
       "   'MODEL_EPS0': 9.8534295,\n",
       "   'MODEL_ALPHA': 1.0,\n",
       "   'LEPSILON': False,\n",
       "   'LRPA': False,\n",
       "   'LNABLA': False,\n",
       "   'LVEL': False,\n",
       "   'KINTER': 0,\n",
       "   'CSHIFT': 0.1,\n",
       "   'OMEGAMAX': -1.0,\n",
       "   'DEG_THRESHOLD': 0.002,\n",
       "   'RTIME': -0.1,\n",
       "   'WPLASMAI': 0.0,\n",
       "   'DFIELD': [0.0, 0.0, 0.0],\n",
       "   'WPLASMA': [0.0, 0.0, 0.0, 0.0, 0.0, 0.0, 0.0, 0.0, 0.0],\n",
       "   'NUCIND': False,\n",
       "   'MAGPOS': [0.0, 0.0, 0.0],\n",
       "   'LNICSALL': True,\n",
       "   'ORBITALMAG': False,\n",
       "   'LMAGBLOCH': False,\n",
       "   'LCHIMAG': False,\n",
       "   'LGAUGE': True,\n",
       "   'MAGATOM': 0,\n",
       "   'MAGDIPOL': [0.0, 0.0, 0.0],\n",
       "   'AVECCONST': [0.0, 0.0, 0.0],\n",
       "   'LADDER': False,\n",
       "   'LRPAFORCE': False,\n",
       "   'LFXC': False,\n",
       "   'LHARTREE': True,\n",
       "   'IBSE': 0,\n",
       "   'KPOINT': [-1, 0, 0, 0],\n",
       "   'LTCTE': False,\n",
       "   'LTETE': False,\n",
       "   'LTRIPLET': False,\n",
       "   'LFXCEPS': False,\n",
       "   'LFXHEG': False,\n",
       "   'NATURALO': 2,\n",
       "   'L2ORDER': False,\n",
       "   'LMP2LT': False,\n",
       "   'LUSEW': False,\n",
       "   'ENCUTGW': -2.0,\n",
       "   'ENCUTGWSOFT': -2.0,\n",
       "   'ENCUTLF': -1.0,\n",
       "   'LMAXMP2': -1,\n",
       "   'SCISSOR': 0.0,\n",
       "   'NOMEGA': 0,\n",
       "   'NOMEGAR': 0,\n",
       "   'NBANDSGW': -1,\n",
       "   'NBANDSO': -1,\n",
       "   'NBANDSV': -1,\n",
       "   'NELMHF': 1,\n",
       "   'DIM': 3,\n",
       "   'ANTIRES': 0,\n",
       "   'OMEGAMIN': -30.0,\n",
       "   'OMEGATL': -200.0,\n",
       "   'OMEGAGRID': 140,\n",
       "   'SELFENERGY': False,\n",
       "   'LSPECTRAL': False,\n",
       "   'LSPECTRALGW': False,\n",
       "   'LSINGLES': False,\n",
       "   'LFERMIGW': False,\n",
       "   'ODDONLYGW': False,\n",
       "   'EVENONLYGW': False,\n",
       "   'NKREDLFX': 1,\n",
       "   'NKREDLFY': 1,\n",
       "   'NKREDLFZ': 1,\n",
       "   'MAXMEM': 2800,\n",
       "   'TELESCOPE': 0,\n",
       "   'TAUPAR': 1,\n",
       "   'OMEGAPAR': -1,\n",
       "   'LAMBDA': 1.0,\n",
       "   'OFIELD_KAPPA': 0.0,\n",
       "   'OFIELD_K': [0.0, 0.0, 0.0],\n",
       "   'OFIELD_Q6_NEAR': 0.0,\n",
       "   'OFIELD_Q6_FAR': 0.0,\n",
       "   'OFIELD_A': 0.0},\n",
       "  'incar': {'PREC': 'accurate',\n",
       "   'ALGO': 'Fast',\n",
       "   'ISPIN': 2,\n",
       "   'ICHARG': 1,\n",
       "   'NELM': 100,\n",
       "   'IBRION': 2,\n",
       "   'EDIFF': 0.003,\n",
       "   'EDIFFG': 0.0075,\n",
       "   'NSW': 99,\n",
       "   'ISIF': 3,\n",
       "   'ENCUT': 520.0,\n",
       "   'POTIM': 0.125,\n",
       "   'MAGMOM': [0.6,\n",
       "    0.6,\n",
       "    0.6,\n",
       "    0.6,\n",
       "    5.0,\n",
       "    5.0,\n",
       "    5.0,\n",
       "    5.0,\n",
       "    5.0,\n",
       "    5.0,\n",
       "    5.0,\n",
       "    5.0,\n",
       "    0.6,\n",
       "    0.6,\n",
       "    0.6,\n",
       "    0.6,\n",
       "    0.6,\n",
       "    0.6,\n",
       "    0.6,\n",
       "    0.6,\n",
       "    0.6,\n",
       "    0.6,\n",
       "    0.6,\n",
       "    0.6,\n",
       "    0.6,\n",
       "    0.6,\n",
       "    0.6,\n",
       "    0.6,\n",
       "    0.6,\n",
       "    0.6,\n",
       "    0.6,\n",
       "    0.6,\n",
       "    0.6,\n",
       "    0.6,\n",
       "    0.6,\n",
       "    0.6,\n",
       "    0.6,\n",
       "    0.6,\n",
       "    0.6,\n",
       "    0.6,\n",
       "    0.6,\n",
       "    0.6,\n",
       "    0.6,\n",
       "    0.6,\n",
       "    0.6,\n",
       "    0.6,\n",
       "    0.6,\n",
       "    0.6,\n",
       "    0.6,\n",
       "    0.6,\n",
       "    0.6,\n",
       "    0.6,\n",
       "    0.6,\n",
       "    0.6,\n",
       "    0.6,\n",
       "    0.6,\n",
       "    0.6,\n",
       "    0.6,\n",
       "    0.6,\n",
       "    0.6],\n",
       "   'LREAL': 'Auto',\n",
       "   'ISMEAR': -5,\n",
       "   'SIGMA': 0.05,\n",
       "   'LWAVE': False,\n",
       "   'LORBIT': 11,\n",
       "   'KPOINT_BSE': [-1, 0, 0, 0]}}, 'output': {'structure': Structure Summary\n",
       "  Lattice\n",
       "      abc : 9.954064818489028 9.954064818489028 9.954064818489028\n",
       "   angles : 89.99506122985619 90.00493877014381 90.00493877014381\n",
       "   volume : 986.2826388570319\n",
       "        A : 9.9540648 -0.000429 -0.000429\n",
       "        B : -0.000429 9.9540648 0.000429\n",
       "        C : -0.000429 0.000429 9.9540648\n",
       "  PeriodicSite: Ca (7.4793, 7.4786, 7.4786) [0.7514, 0.7513, 0.7513]\n",
       "  PeriodicSite: Ca (2.4750, 2.4743, 7.4786) [0.2487, 0.2486, 0.7513]\n",
       "  PeriodicSite: Ca (2.4750, 7.4786, 2.4743) [0.2487, 0.7513, 0.2486]\n",
       "  PeriodicSite: Ca (2.4700, 7.4836, 7.4836) [0.2482, 0.7518, 0.7518]\n",
       "  PeriodicSite: Fe (0.0055, 9.9481, 9.9481) [0.0006, 0.9994, 0.9994]\n",
       "  PeriodicSite: Fe (4.9737, 4.9800, 9.9502) [0.4997, 0.5003, 0.9996]\n",
       "  PeriodicSite: Fe (0.0034, 4.9800, 4.9800) [0.0004, 0.5003, 0.5003]\n",
       "  PeriodicSite: Fe (4.9737, 9.9502, 4.9800) [0.4997, 0.9996, 0.5003]\n",
       "  PeriodicSite: Co (4.9704, 9.9490, 9.9490) [0.4994, 0.9995, 0.9995]\n",
       "  PeriodicSite: Co (0.0046, 4.9832, 9.9490) [0.0005, 0.5006, 0.9995]\n",
       "  PeriodicSite: Co (0.0046, 9.9490, 4.9832) [0.0005, 0.9995, 0.5006]\n",
       "  PeriodicSite: Co (4.9741, 4.9796, 4.9796) [0.4997, 0.5003, 0.5003]\n",
       "  PeriodicSite: C (3.0816, 9.9536, 9.9536) [0.3097, 0.9999, 0.9999]\n",
       "  PeriodicSite: C (6.8691, 9.9502, 9.9502) [0.6902, 0.9996, 0.9996]\n",
       "  PeriodicSite: C (0.0034, 3.0845, 9.9502) [0.0004, 0.3098, 0.9996]\n",
       "  PeriodicSite: C (0.0001, 6.8720, 9.9536) [0.0001, 0.6903, 0.9999]\n",
       "  PeriodicSite: C (0.0034, 9.9502, 3.0845) [0.0004, 0.9996, 0.3098]\n",
       "  PeriodicSite: C (0.0001, 9.9536, 6.8720) [0.0001, 0.9999, 0.6903]\n",
       "  PeriodicSite: C (1.9023, 4.9874, 9.9443) [0.1912, 0.5010, 0.9990]\n",
       "  PeriodicSite: C (8.0566, 4.9860, 9.9443) [0.8094, 0.5009, 0.9990]\n",
       "  PeriodicSite: C (0.0094, 1.8970, 4.9860) [0.0010, 0.1906, 0.5009]\n",
       "  PeriodicSite: C (0.0093, 8.0514, 4.9874) [0.0010, 0.8088, 0.5010]\n",
       "  PeriodicSite: C (4.9676, 9.9443, 1.8970) [0.4991, 0.9990, 0.1906]\n",
       "  PeriodicSite: C (4.9662, 9.9443, 8.0514) [0.4990, 0.9990, 0.8088]\n",
       "  PeriodicSite: C (4.9676, 1.8970, 9.9443) [0.4991, 0.1906, 0.9990]\n",
       "  PeriodicSite: C (4.9662, 8.0514, 9.9443) [0.4990, 0.8088, 0.9990]\n",
       "  PeriodicSite: C (1.9023, 9.9443, 4.9874) [0.1912, 0.9990, 0.5010]\n",
       "  PeriodicSite: C (8.0566, 9.9443, 4.9860) [0.8094, 0.9990, 0.5009]\n",
       "  PeriodicSite: C (0.0093, 4.9874, 8.0514) [0.0010, 0.5010, 0.8088]\n",
       "  PeriodicSite: C (0.0094, 4.9860, 1.8970) [0.0010, 0.5009, 0.1906]\n",
       "  PeriodicSite: C (3.0783, 4.9805, 4.9805) [0.3093, 0.5003, 0.5003]\n",
       "  PeriodicSite: C (6.8731, 4.9809, 4.9809) [0.6905, 0.5004, 0.5004]\n",
       "  PeriodicSite: C (4.9728, 3.0806, 4.9809) [0.4996, 0.3095, 0.5004]\n",
       "  PeriodicSite: C (4.9731, 6.8754, 4.9805) [0.4997, 0.6907, 0.5003]\n",
       "  PeriodicSite: C (4.9728, 4.9809, 3.0806) [0.4996, 0.5004, 0.3095]\n",
       "  PeriodicSite: C (4.9731, 4.9805, 6.8754) [0.4997, 0.5003, 0.6907]\n",
       "  PeriodicSite: N (1.9009, 9.9458, 9.9458) [0.1911, 0.9991, 0.9991]\n",
       "  PeriodicSite: N (8.0434, 9.9337, 9.9337) [0.8081, 0.9979, 0.9979]\n",
       "  PeriodicSite: N (0.0200, 1.9102, 9.9337) [0.0021, 0.1919, 0.9979]\n",
       "  PeriodicSite: N (0.0079, 8.0527, 9.9458) [0.0009, 0.8089, 0.9991]\n",
       "  PeriodicSite: N (0.0200, 9.9337, 1.9102) [0.0021, 0.9979, 0.1919]\n",
       "  PeriodicSite: N (0.0079, 9.9458, 8.0527) [0.0009, 0.9991, 0.8089]\n",
       "  PeriodicSite: N (3.0829, 4.9834, 9.9469) [0.3098, 0.5006, 0.9993]\n",
       "  PeriodicSite: N (6.8824, 4.9954, 9.9355) [0.6915, 0.5018, 0.9981]\n",
       "  PeriodicSite: N (0.0181, 3.0712, 4.9954) [0.0019, 0.3085, 0.5018]\n",
       "  PeriodicSite: N (0.0067, 6.8707, 4.9834) [0.0007, 0.6902, 0.5006]\n",
       "  PeriodicSite: N (4.9583, 9.9355, 3.0712) [0.4982, 0.9981, 0.3085]\n",
       "  PeriodicSite: N (4.9703, 9.9469, 6.8707) [0.4994, 0.9993, 0.6902]\n",
       "  PeriodicSite: N (4.9583, 3.0712, 9.9355) [0.4982, 0.3085, 0.9981]\n",
       "  PeriodicSite: N (4.9703, 6.8707, 9.9469) [0.4994, 0.6902, 0.9993]\n",
       "  PeriodicSite: N (3.0829, 9.9469, 4.9834) [0.3098, 0.9993, 0.5006]\n",
       "  PeriodicSite: N (6.8824, 9.9355, 4.9954) [0.6915, 0.9981, 0.5018]\n",
       "  PeriodicSite: N (0.0067, 4.9834, 6.8707) [0.0007, 0.5006, 0.6902]\n",
       "  PeriodicSite: N (0.0181, 4.9954, 3.0712) [0.0019, 0.5018, 0.3085]\n",
       "  PeriodicSite: N (1.8974, 4.9849, 4.9849) [0.1907, 0.5008, 0.5008]\n",
       "  PeriodicSite: N (8.0471, 4.9951, 4.9951) [0.8085, 0.5018, 0.5018]\n",
       "  PeriodicSite: N (4.9586, 1.9065, 4.9951) [0.4982, 0.1915, 0.5018]\n",
       "  PeriodicSite: N (4.9687, 8.0563, 4.9849) [0.4992, 0.8093, 0.5008]\n",
       "  PeriodicSite: N (4.9586, 4.9951, 1.9065) [0.4982, 0.5018, 0.1915]\n",
       "  PeriodicSite: N (4.9687, 4.9849, 8.0563) [0.4992, 0.5008, 0.8093],\n",
       "  'density': 2.09417539174175,\n",
       "  'energy': -476.8670732,\n",
       "  'energy_per_atom': -7.94778455333333,\n",
       "  'bandgap': 0.0,\n",
       "  'cbm': None,\n",
       "  'vbm': None,\n",
       "  'is_gap_direct': False,\n",
       "  'is_metal': True,\n",
       "  'spacegroup': {'source': 'spglib',\n",
       "   'symbol': 'P-43m',\n",
       "   'number': 215,\n",
       "   'point_group': '-43m',\n",
       "   'crystal_system': 'cubic',\n",
       "   'hall': 'P -4 2 3'}}}"
      ]
     },
     "execution_count": 10,
     "metadata": {},
     "output_type": "execute_result"
    }
   ],
   "source": [
    "data_1[1]"
   ]
  },
  {
   "cell_type": "markdown",
   "metadata": {},
   "source": [
    "Now that the pba data is loaded into python, we can begin to building pymatgen entries for each structure."
   ]
  },
  {
   "cell_type": "markdown",
   "metadata": {},
   "source": [
    "## Using Pymatgen"
   ]
  },
  {
   "cell_type": "code",
   "execution_count": 11,
   "metadata": {},
   "outputs": [],
   "source": [
    "import pymatgen as mg"
   ]
  },
  {
   "cell_type": "markdown",
   "metadata": {},
   "source": [
    "### Creating pymatgen entries"
   ]
  },
  {
   "cell_type": "markdown",
   "metadata": {},
   "source": [
    "Next, we want to make pymatgen entries using the composition and energy values. Here is an example of a ComputedEntry:"
   ]
  },
  {
   "cell_type": "code",
   "execution_count": 12,
   "metadata": {},
   "outputs": [
    {
     "name": "stdout",
     "output_type": "stream",
     "text": [
      "ComputedEntry None - Ni4 O2\n",
      "Energy = -28.0000\n",
      "Correction = 0.0000\n",
      "Parameters:\n",
      "potcar_symbols = ['pbe Ni_pv', 'pbe O']\n",
      "hubbards = {'Ni': 6.2, 'O': 0.0}\n",
      "Data:\n",
      "oxide_type = oxide\n"
     ]
    }
   ],
   "source": [
    "from pymatgen.entries.computed_entries import ComputedEntry\n",
    "\n",
    "my_entry = ComputedEntry(composition=\"Ni4O2\",\n",
    "                  energy=-28,\n",
    "                  parameters={\"potcar_symbols\": ['pbe Ni_pv', 'pbe O'],\n",
    "                              \"hubbards\":{'Ni': 6.2, 'O': 0.0}},\n",
    "                  data={\"oxide_type\":\"oxide\"})\n",
    "\n",
    "print(my_entry)"
   ]
  },
  {
   "cell_type": "markdown",
   "metadata": {},
   "source": [
    "The first step to creating a ComputedEntry is gettting the composition, which can be given either as a dict or as a string."
   ]
  },
  {
   "cell_type": "code",
   "execution_count": 13,
   "metadata": {},
   "outputs": [],
   "source": [
    "struct=data_1[1]['input']['structure']"
   ]
  },
  {
   "cell_type": "code",
   "execution_count": 59,
   "metadata": {},
   "outputs": [
    {
     "data": {
      "text/plain": [
       "Comp: Ca6 Fe4 Co4 C24 N24"
      ]
     },
     "execution_count": 59,
     "metadata": {},
     "output_type": "execute_result"
    }
   ],
   "source": [
    "struct.composition"
   ]
  },
  {
   "cell_type": "code",
   "execution_count": null,
   "metadata": {},
   "outputs": [],
   "source": [
    "Next, we access the energy value from the 'output' section of the main "
   ]
  },
  {
   "cell_type": "code",
   "execution_count": 41,
   "metadata": {},
   "outputs": [
    {
     "data": {
      "text/plain": [
       "-476.8670732"
      ]
     },
     "execution_count": 41,
     "metadata": {},
     "output_type": "execute_result"
    }
   ],
   "source": [
    "out = data_1[1]['output']\n",
    "out['energy']"
   ]
  },
  {
   "cell_type": "markdown",
   "metadata": {},
   "source": [
    "Practice making my own pymatgen entry with the pba in data_1[1]:"
   ]
  },
  {
   "cell_type": "code",
   "execution_count": 42,
   "metadata": {},
   "outputs": [
    {
     "name": "stdout",
     "output_type": "stream",
     "text": [
      "ComputedEntry None - Ca4 Fe4 Co4 C24 N24\n",
      "Energy = -476.8671\n",
      "Correction = 0.0000\n",
      "Parameters:\n",
      "Data:\n"
     ]
    }
   ],
   "source": [
    "struct=data_1[1]['input']['structure']\n",
    "pba_1 = ComputedEntry(composition=struct.composition,\n",
    "                  energy=data_1[1]['output']['energy'])\n",
    "\n",
    "print(pba_1)"
   ]
  },
  {
   "cell_type": "code",
   "execution_count": 52,
   "metadata": {},
   "outputs": [
    {
     "data": {
      "text/plain": [
       "range(0, 5)"
      ]
     },
     "execution_count": 52,
     "metadata": {},
     "output_type": "execute_result"
    }
   ],
   "source": [
    "range(0, 5)"
   ]
  },
  {
   "cell_type": "markdown",
   "metadata": {},
   "source": [
    "Let's use this method to make a list of pba entries:"
   ]
  },
  {
   "cell_type": "code",
   "execution_count": 58,
   "metadata": {},
   "outputs": [
    {
     "data": {
      "text/plain": [
       "ComputedEntry None - Ca4 Fe4 Co4 C24 N24\n",
       "Energy = -476.8671\n",
       "Correction = 0.0000\n",
       "Parameters:\n",
       "Data:"
      ]
     },
     "execution_count": 58,
     "metadata": {},
     "output_type": "execute_result"
    }
   ],
   "source": [
    "pba_entries = []\n",
    "for i in range(0, len(data_1)):\n",
    "    if 'input' not in data_1[i]:\n",
    "        pba_entries.append(np.NaN)\n",
    "    else:\n",
    "        struct = data_1[i]['input']['structure']\n",
    "        pba_entry = ComputedEntry(composition = struct.composition,\n",
    "                                 energy = data_1[i]['output']['energy'])\n",
    "        pba_entries.append(pba_entry)\n",
    "pba_entries[1]"
   ]
  },
  {
   "cell_type": "markdown",
   "metadata": {},
   "source": [
    "Next, let's try to add this to the main entries list that was generated from the Materials Project. We will then try to apply the MPC corrections to this list, then get e_above_hull values."
   ]
  },
  {
   "cell_type": "code",
   "execution_count": null,
   "metadata": {},
   "outputs": [],
   "source": []
  },
  {
   "cell_type": "code",
   "execution_count": 16,
   "metadata": {},
   "outputs": [],
   "source": [
    "from pymatgen import MPRester"
   ]
  },
  {
   "cell_type": "code",
   "execution_count": 17,
   "metadata": {},
   "outputs": [],
   "source": [
    "mpr = MPRester(api_key='clRGHmBDgp1xt9zA') #need API key (froom MP website -> dashboard)"
   ]
  },
  {
   "cell_type": "code",
   "execution_count": 18,
   "metadata": {},
   "outputs": [],
   "source": [
    "entries = mpr.get_entries_in_chemsys('Ca-Fe-Co-C-N'.split('-'))\n",
    "#this gets all of the entries containing these elements"
   ]
  },
  {
   "cell_type": "code",
   "execution_count": 19,
   "metadata": {},
   "outputs": [
    {
     "data": {
      "text/plain": [
       "212"
      ]
     },
     "execution_count": 19,
     "metadata": {},
     "output_type": "execute_result"
    }
   ],
   "source": [
    "len(entries)"
   ]
  },
  {
   "cell_type": "code",
   "execution_count": 30,
   "metadata": {},
   "outputs": [
    {
     "data": {
      "text/plain": [
       "ComputedEntry mp-45 - Ca1\n",
       "Energy = -2.0218\n",
       "Correction = 0.0000\n",
       "Parameters:\n",
       "run_type = GGA\n",
       "is_hubbard = False\n",
       "pseudo_potential = {'functional': 'PBE', 'labels': ['Ca_sv'], 'pot_type': 'paw'}\n",
       "hubbards = {}\n",
       "potcar_symbols = ['PBE Ca_sv']\n",
       "oxide_type = None\n",
       "Data:\n",
       "oxide_type = None"
      ]
     },
     "execution_count": 30,
     "metadata": {},
     "output_type": "execute_result"
    }
   ],
   "source": [
    "entries[1]"
   ]
  },
  {
   "cell_type": "code",
   "execution_count": 31,
   "metadata": {},
   "outputs": [
    {
     "data": {
      "text/plain": [
       "pymatgen.entries.computed_entries.ComputedEntry"
      ]
     },
     "execution_count": 31,
     "metadata": {},
     "output_type": "execute_result"
    }
   ],
   "source": [
    "type(entries[1])"
   ]
  },
  {
   "cell_type": "markdown",
   "metadata": {},
   "source": [
    "Now we have to take into account the corrections\n",
    "\n",
    "NELECT become nelect in parameters\n",
    "\n",
    "see email for all parameters and how to access in the dictionary"
   ]
  },
  {
   "cell_type": "code",
   "execution_count": null,
   "metadata": {},
   "outputs": [],
   "source": []
  },
  {
   "cell_type": "code",
   "execution_count": 21,
   "metadata": {},
   "outputs": [],
   "source": [
    "from pymatgen.entries.compatibility import MaterialsProjectCompatibility"
   ]
  },
  {
   "cell_type": "code",
   "execution_count": 22,
   "metadata": {},
   "outputs": [],
   "source": [
    "mpc = MaterialsProjectCompatibility()"
   ]
  },
  {
   "cell_type": "code",
   "execution_count": 23,
   "metadata": {},
   "outputs": [],
   "source": [
    "entries_1 = mpc.process_entries(entries)\n",
    "#use correction term here in building phase diagram\n",
    "#put this entries_1 into the phase diagram method"
   ]
  },
  {
   "cell_type": "markdown",
   "metadata": {},
   "source": [
    "Will then have energy above hull values, which is what we will analyze. \n",
    "\n",
    "see example for method on how to access e above hull (higher e above hull is less stable)"
   ]
  },
  {
   "cell_type": "markdown",
   "metadata": {},
   "source": [
    "eventually put into df with A, P, R, # of A, and e above hull (we need an e above hull for every A = 1 to 8)\n",
    "\n",
    "Remember that we only need the e above hull data for the pbas, we don't need that calculation for all of the other strucutres with the same A,P,R etc.\n",
    "\n",
    "Not sure how to calculate the e above hull for materials that aren't already in the materials project database?"
   ]
  },
  {
   "cell_type": "markdown",
   "metadata": {},
   "source": [
    "### Starting the analysis"
   ]
  },
  {
   "cell_type": "code",
   "execution_count": 24,
   "metadata": {},
   "outputs": [],
   "source": [
    "from pymatgen import MPRester\n",
    "mpr = MPRester(api_key='clRGHmBDgp1xt9zA')\n",
    "from pymatgen.entries.compatibility import MaterialsProjectCompatibility\n",
    "mpc = MaterialsProjectCompatibility()\n",
    "from pymatgen.analysis.phase_diagram import PhaseDiagram, PDPlotter"
   ]
  },
  {
   "cell_type": "code",
   "execution_count": 25,
   "metadata": {},
   "outputs": [],
   "source": [
    "for i in range(1,2): #range(len(data_1)): #Looping through the length of the data_1 list\n",
    "    if 'input' in data_1[i]:\n",
    "        struct = data_1[i]['input']['structure']\n",
    "        entries = mpr.get_entries_in_chemsys(struct.composition.as_dict().keys())\n",
    "        entries_1 = mpc.process_entries(entries)\n",
    "        pd = PhaseDiagram(entries)"
   ]
  },
  {
   "cell_type": "code",
   "execution_count": 26,
   "metadata": {
    "scrolled": true
   },
   "outputs": [
    {
     "ename": "ValueError",
     "evalue": "Only 1-4 components supported!",
     "output_type": "error",
     "traceback": [
      "\u001b[1;31m---------------------------------------------------------------------------\u001b[0m",
      "\u001b[1;31mValueError\u001b[0m                                Traceback (most recent call last)",
      "\u001b[1;32m<ipython-input-26-ac3bbc77ff11>\u001b[0m in \u001b[0;36m<module>\u001b[1;34m()\u001b[0m\n\u001b[1;32m----> 1\u001b[1;33m \u001b[0mplotter\u001b[0m \u001b[1;33m=\u001b[0m \u001b[0mPDPlotter\u001b[0m\u001b[1;33m(\u001b[0m\u001b[0mpd\u001b[0m\u001b[1;33m,\u001b[0m \u001b[0mshow_unstable\u001b[0m\u001b[1;33m=\u001b[0m\u001b[1;32mTrue\u001b[0m\u001b[1;33m)\u001b[0m\u001b[1;33m\u001b[0m\u001b[0m\n\u001b[0m\u001b[0;32m      2\u001b[0m \u001b[0mplotter\u001b[0m\u001b[1;33m.\u001b[0m\u001b[0mshow\u001b[0m\u001b[1;33m(\u001b[0m\u001b[1;33m)\u001b[0m\u001b[1;33m\u001b[0m\u001b[0m\n",
      "\u001b[1;32m~\\Anaconda3\\lib\\site-packages\\pymatgen\\analysis\\phase_diagram.py\u001b[0m in \u001b[0;36m__init__\u001b[1;34m(self, phasediagram, show_unstable, **plotkwargs)\u001b[0m\n\u001b[0;32m   1347\u001b[0m         \u001b[0mself\u001b[0m\u001b[1;33m.\u001b[0m\u001b[0m_dim\u001b[0m \u001b[1;33m=\u001b[0m \u001b[0mlen\u001b[0m\u001b[1;33m(\u001b[0m\u001b[0mself\u001b[0m\u001b[1;33m.\u001b[0m\u001b[0m_pd\u001b[0m\u001b[1;33m.\u001b[0m\u001b[0melements\u001b[0m\u001b[1;33m)\u001b[0m\u001b[1;33m\u001b[0m\u001b[0m\n\u001b[0;32m   1348\u001b[0m         \u001b[1;32mif\u001b[0m \u001b[0mself\u001b[0m\u001b[1;33m.\u001b[0m\u001b[0m_dim\u001b[0m \u001b[1;33m>\u001b[0m \u001b[1;36m4\u001b[0m\u001b[1;33m:\u001b[0m\u001b[1;33m\u001b[0m\u001b[0m\n\u001b[1;32m-> 1349\u001b[1;33m             \u001b[1;32mraise\u001b[0m \u001b[0mValueError\u001b[0m\u001b[1;33m(\u001b[0m\u001b[1;34m\"Only 1-4 components supported!\"\u001b[0m\u001b[1;33m)\u001b[0m\u001b[1;33m\u001b[0m\u001b[0m\n\u001b[0m\u001b[0;32m   1350\u001b[0m         \u001b[0mself\u001b[0m\u001b[1;33m.\u001b[0m\u001b[0mlines\u001b[0m \u001b[1;33m=\u001b[0m \u001b[0muniquelines\u001b[0m\u001b[1;33m(\u001b[0m\u001b[0mself\u001b[0m\u001b[1;33m.\u001b[0m\u001b[0m_pd\u001b[0m\u001b[1;33m.\u001b[0m\u001b[0mfacets\u001b[0m\u001b[1;33m)\u001b[0m \u001b[1;32mif\u001b[0m \u001b[0mself\u001b[0m\u001b[1;33m.\u001b[0m\u001b[0m_dim\u001b[0m \u001b[1;33m>\u001b[0m \u001b[1;36m1\u001b[0m \u001b[1;32melse\u001b[0m\u001b[0;31m \u001b[0m\u001b[0;31m\\\u001b[0m\u001b[1;33m\u001b[0m\u001b[0m\n\u001b[0;32m   1351\u001b[0m             \u001b[1;33m[\u001b[0m\u001b[1;33m[\u001b[0m\u001b[0mself\u001b[0m\u001b[1;33m.\u001b[0m\u001b[0m_pd\u001b[0m\u001b[1;33m.\u001b[0m\u001b[0mfacets\u001b[0m\u001b[1;33m[\u001b[0m\u001b[1;36m0\u001b[0m\u001b[1;33m]\u001b[0m\u001b[1;33m[\u001b[0m\u001b[1;36m0\u001b[0m\u001b[1;33m]\u001b[0m\u001b[1;33m,\u001b[0m \u001b[0mself\u001b[0m\u001b[1;33m.\u001b[0m\u001b[0m_pd\u001b[0m\u001b[1;33m.\u001b[0m\u001b[0mfacets\u001b[0m\u001b[1;33m[\u001b[0m\u001b[1;36m0\u001b[0m\u001b[1;33m]\u001b[0m\u001b[1;33m[\u001b[0m\u001b[1;36m0\u001b[0m\u001b[1;33m]\u001b[0m\u001b[1;33m]\u001b[0m\u001b[1;33m]\u001b[0m\u001b[1;33m\u001b[0m\u001b[0m\n",
      "\u001b[1;31mValueError\u001b[0m: Only 1-4 components supported!"
     ]
    }
   ],
   "source": [
    "plotter = PDPlotter(pd, show_unstable=True)\n",
    "plotter.show()"
   ]
  },
  {
   "cell_type": "code",
   "execution_count": 27,
   "metadata": {},
   "outputs": [
    {
     "data": {
      "text/plain": [
       "['Ca',\n",
       " 'Ca',\n",
       " 'Ca',\n",
       " 'Ca',\n",
       " 'Ca',\n",
       " 'Ca',\n",
       " 'Ca',\n",
       " 'Ca',\n",
       " 'Ca',\n",
       " 'Fe',\n",
       " 'Fe',\n",
       " 'Fe',\n",
       " 'Fe',\n",
       " 'Fe',\n",
       " 'Fe',\n",
       " 'Fe',\n",
       " 'Co',\n",
       " 'Co',\n",
       " 'Co',\n",
       " 'Co',\n",
       " 'Co',\n",
       " 'C',\n",
       " 'C',\n",
       " 'C',\n",
       " 'C',\n",
       " 'C',\n",
       " 'C',\n",
       " 'C',\n",
       " 'C',\n",
       " 'C',\n",
       " 'C',\n",
       " 'C',\n",
       " 'C',\n",
       " 'C',\n",
       " 'C',\n",
       " 'C',\n",
       " 'C',\n",
       " 'C',\n",
       " 'C',\n",
       " 'C',\n",
       " 'C',\n",
       " 'C',\n",
       " 'C',\n",
       " 'C',\n",
       " 'C',\n",
       " 'C',\n",
       " 'C',\n",
       " 'C',\n",
       " 'C',\n",
       " 'C',\n",
       " 'C',\n",
       " 'C',\n",
       " 'C',\n",
       " 'C',\n",
       " 'C',\n",
       " 'C',\n",
       " 'C',\n",
       " 'C',\n",
       " 'C',\n",
       " 'C',\n",
       " 'C',\n",
       " 'C',\n",
       " 'C',\n",
       " 'N2',\n",
       " 'N2',\n",
       " 'N2',\n",
       " 'N2',\n",
       " 'N2',\n",
       " 'N2',\n",
       " 'N2',\n",
       " 'N2',\n",
       " 'N2',\n",
       " 'N2',\n",
       " 'N2',\n",
       " 'N2',\n",
       " 'CaC2',\n",
       " 'CaC2',\n",
       " 'CaC2',\n",
       " 'CaC2',\n",
       " 'CaC2',\n",
       " 'CaC2',\n",
       " 'CaC2',\n",
       " 'CaC2',\n",
       " 'CaC2',\n",
       " 'CaC2',\n",
       " 'CaC2',\n",
       " 'CaC2',\n",
       " 'CaC2',\n",
       " 'CaC4',\n",
       " 'CaC2',\n",
       " 'Ca3N2',\n",
       " 'CaN6',\n",
       " 'Ca11N8',\n",
       " 'Ca3N2',\n",
       " 'Ca3N2',\n",
       " 'CaN',\n",
       " 'CaN2',\n",
       " 'Ca3N2',\n",
       " 'Ca2N',\n",
       " 'Ca3N2',\n",
       " 'Ca3N2',\n",
       " 'Ca3N2',\n",
       " 'Fe13Co3',\n",
       " 'Fe3Co',\n",
       " 'Fe11Co5',\n",
       " 'Fe9Co7',\n",
       " 'Fe15Co',\n",
       " 'FeCo',\n",
       " 'FeCo3',\n",
       " 'Fe7Co',\n",
       " 'Fe5Co3',\n",
       " 'FeCo',\n",
       " 'FeCo9',\n",
       " 'Fe5C2',\n",
       " 'Fe3C',\n",
       " 'Fe5C2',\n",
       " 'Fe7C3',\n",
       " 'Fe3C',\n",
       " 'Fe2C',\n",
       " 'Fe3C',\n",
       " 'Fe4C',\n",
       " 'Fe5C2',\n",
       " 'Fe2C',\n",
       " 'Fe4C',\n",
       " 'Fe4C',\n",
       " 'Fe3C',\n",
       " 'Fe7C3',\n",
       " 'Fe3N',\n",
       " 'Fe2N',\n",
       " 'Fe8N3',\n",
       " 'Fe24N11',\n",
       " 'Fe2N',\n",
       " 'Fe12N5',\n",
       " 'FeN',\n",
       " 'FeN',\n",
       " 'Fe8N',\n",
       " 'FeN',\n",
       " 'Fe4N',\n",
       " 'FeN',\n",
       " 'Fe2N',\n",
       " 'FeN',\n",
       " 'Fe3N',\n",
       " 'Fe3N',\n",
       " 'FeN2',\n",
       " 'FeN',\n",
       " 'Fe8N',\n",
       " 'Co2C',\n",
       " 'Co3C',\n",
       " 'CoN',\n",
       " 'CoN',\n",
       " 'CoN3',\n",
       " 'CoN',\n",
       " 'CoN',\n",
       " 'Co2N',\n",
       " 'C5N4',\n",
       " 'C3N4',\n",
       " 'CN',\n",
       " 'C3N',\n",
       " 'C3N4',\n",
       " 'C3N4',\n",
       " 'C3N4',\n",
       " 'C2N',\n",
       " 'C3N',\n",
       " 'C3N',\n",
       " 'C3N',\n",
       " 'C3N',\n",
       " 'C3N',\n",
       " 'C3N',\n",
       " 'C3N',\n",
       " 'C3N4',\n",
       " 'CN2',\n",
       " 'C3N',\n",
       " 'C3N',\n",
       " 'C3N',\n",
       " 'CN2',\n",
       " 'CN2',\n",
       " 'CN2',\n",
       " 'C3N4',\n",
       " 'C3N4',\n",
       " 'C3N4',\n",
       " 'C3N4',\n",
       " 'C2N3',\n",
       " 'C3N',\n",
       " 'C3N',\n",
       " 'C3N',\n",
       " 'C3N',\n",
       " 'C3N4',\n",
       " 'Ca3(FeN2)2',\n",
       " 'Ca11(FeN5)2',\n",
       " 'Ca2FeN2',\n",
       " 'Ca2FeN2',\n",
       " 'Ca(FeN)2',\n",
       " 'Ca3FeN3',\n",
       " 'Ca6FeN5',\n",
       " 'Ca6FeN5',\n",
       " 'Ca2CoN2',\n",
       " 'Ca2CoN2',\n",
       " 'CaCoN2',\n",
       " 'Ca3(CoN2)2',\n",
       " 'Ca(CoN)2',\n",
       " 'Ca2CoN2',\n",
       " 'Ca5(CoN2)2',\n",
       " 'Ca5(CoN2)2',\n",
       " 'Ca3CoN3',\n",
       " 'Ca4CN4',\n",
       " 'Ca(C2N3)2',\n",
       " 'CaCN2',\n",
       " 'Ca11(CN5)2',\n",
       " 'FeCN2',\n",
       " 'Co(C2N3)2',\n",
       " 'CoCN2',\n",
       " 'FeCo2(CN)6']"
      ]
     },
     "execution_count": 27,
     "metadata": {},
     "output_type": "execute_result"
    }
   ],
   "source": [
    "e_hull = [] #will eventually make this a dataframe\n",
    "compositions = []\n",
    "for e in entries_1:\n",
    "    e_hull.append(pd.get_e_above_hull(e))\n",
    "    compositions.append(e.composition.reduced_formula)\n",
    "compositions"
   ]
  },
  {
   "cell_type": "code",
   "execution_count": null,
   "metadata": {},
   "outputs": [],
   "source": []
  },
  {
   "cell_type": "code",
   "execution_count": null,
   "metadata": {},
   "outputs": [],
   "source": []
  }
 ],
 "metadata": {
  "kernelspec": {
   "display_name": "Python 3",
   "language": "python",
   "name": "python3"
  },
  "language_info": {
   "codemirror_mode": {
    "name": "ipython",
    "version": 3
   },
   "file_extension": ".py",
   "mimetype": "text/x-python",
   "name": "python",
   "nbconvert_exporter": "python",
   "pygments_lexer": "ipython3",
   "version": "3.6.5"
  }
 },
 "nbformat": 4,
 "nbformat_minor": 2
}
