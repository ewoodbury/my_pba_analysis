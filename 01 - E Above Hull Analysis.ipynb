{
 "cells": [
  {
   "cell_type": "markdown",
   "metadata": {},
   "source": [
    "# PBAs: E Above Hull Analysis"
   ]
  },
  {
   "cell_type": "markdown",
   "metadata": {},
   "source": [
    "In this notebook, I conduct an analysis of the energy above hull data for the PBAs. In materials science, energy above hull is a measure of a chemical structure's stability, where a lower energy above hull is more stable. "
   ]
  },
  {
   "cell_type": "code",
   "execution_count": 1,
   "metadata": {},
   "outputs": [],
   "source": [
    "import numpy as np\n",
    "import pandas as pd\n",
    "import matplotlib.pyplot as plt\n",
    "%matplotlib inline"
   ]
  },
  {
   "cell_type": "markdown",
   "metadata": {},
   "source": [
    "## Pre-processing and Loading"
   ]
  },
  {
   "cell_type": "markdown",
   "metadata": {},
   "source": [
    "Before we can load the json into python, we need to change a few formatting issues with the file:"
   ]
  },
  {
   "cell_type": "code",
   "execution_count": 2,
   "metadata": {},
   "outputs": [],
   "source": [
    "# with open('pba.json', 'r') as file :\n",
    "#   pba_json = file.read()"
   ]
  },
  {
   "cell_type": "code",
   "execution_count": 3,
   "metadata": {},
   "outputs": [],
   "source": [
    "# #Getting rid of the /* i */ and replacing with a comma:\n",
    "# for i in range(1,700):\n",
    "#     j = str(i)\n",
    "#     pba_json = pba_json.replace('/* ' + j + ' */', ',')\n",
    "\n",
    "# print(pba_json[:100])"
   ]
  },
  {
   "cell_type": "code",
   "execution_count": 4,
   "metadata": {},
   "outputs": [],
   "source": [
    "# #Adding square brackets:\n",
    "# pba_json = '[\\n' + pba_json + '\\n]'\n",
    "# #Deleting first comma:\n",
    "# pba_json = pba_json[:2] + pba_json[3:]"
   ]
  },
  {
   "cell_type": "code",
   "execution_count": 5,
   "metadata": {},
   "outputs": [],
   "source": [
    "# #Getting rid of the ObjectId() tag from the _id value:\n",
    "# pba_json = pba_json.replace(\"ObjectId(\", \"\")\n",
    "# pba_json = pba_json.replace(\")\", \"\")"
   ]
  },
  {
   "cell_type": "code",
   "execution_count": 6,
   "metadata": {},
   "outputs": [],
   "source": [
    "# #Saving to file as pba_1.json\n",
    "# pba_1 = open('pba_1.json', 'w')\n",
    "# pba_1.write(pba_json)\n",
    "# pba_1.close()"
   ]
  },
  {
   "cell_type": "markdown",
   "metadata": {},
   "source": [
    "Now we are ready to load the file using monty.serialization.loadfn, which loads the json into a list of dictionary entries."
   ]
  },
  {
   "cell_type": "code",
   "execution_count": 7,
   "metadata": {},
   "outputs": [],
   "source": [
    "from monty.serialization import loadfn"
   ]
  },
  {
   "cell_type": "code",
   "execution_count": 8,
   "metadata": {},
   "outputs": [],
   "source": [
    "data_1 = loadfn('pba_1.json')"
   ]
  },
  {
   "cell_type": "code",
   "execution_count": 9,
   "metadata": {},
   "outputs": [
    {
     "data": {
      "text/plain": [
       "536"
      ]
     },
     "execution_count": 9,
     "metadata": {},
     "output_type": "execute_result"
    }
   ],
   "source": [
    "len(data_1)"
   ]
  },
  {
   "cell_type": "code",
   "execution_count": 93,
   "metadata": {},
   "outputs": [],
   "source": [
    "#data_1[1]"
   ]
  },
  {
   "cell_type": "markdown",
   "metadata": {},
   "source": [
    "Now that the pba data is loaded into python, we can begin to building pymatgen entries for each structure."
   ]
  },
  {
   "cell_type": "markdown",
   "metadata": {},
   "source": [
    "## Exploring Pymatgen"
   ]
  },
  {
   "cell_type": "code",
   "execution_count": 11,
   "metadata": {},
   "outputs": [],
   "source": [
    "import pymatgen as mg"
   ]
  },
  {
   "cell_type": "markdown",
   "metadata": {},
   "source": [
    "### Creating pymatgen entries"
   ]
  },
  {
   "cell_type": "markdown",
   "metadata": {},
   "source": [
    "Next, we want to make pymatgen entries using the composition and energy values. Here is an example of a ComputedEntry:"
   ]
  },
  {
   "cell_type": "code",
   "execution_count": 12,
   "metadata": {},
   "outputs": [
    {
     "name": "stdout",
     "output_type": "stream",
     "text": [
      "ComputedEntry None - Ni4 O2\n",
      "Energy = -28.0000\n",
      "Correction = 0.0000\n",
      "Parameters:\n",
      "potcar_symbols = ['pbe Ni_pv', 'pbe O']\n",
      "hubbards = {'Ni': 6.2, 'O': 0.0}\n",
      "Data:\n",
      "oxide_type = oxide\n"
     ]
    }
   ],
   "source": [
    "from pymatgen.entries.computed_entries import ComputedEntry\n",
    "\n",
    "my_entry = ComputedEntry(composition=\"Ni4O2\",\n",
    "                  energy=-28,\n",
    "                  parameters={\"potcar_symbols\": ['pbe Ni_pv', 'pbe O'],\n",
    "                              \"hubbards\":{'Ni': 6.2, 'O': 0.0}},\n",
    "                  data={\"oxide_type\":\"oxide\"})\n",
    "\n",
    "print(my_entry)"
   ]
  },
  {
   "cell_type": "markdown",
   "metadata": {},
   "source": [
    "The first step to creating a ComputedEntry is gettting the composition, which can be given either as a dict or as a string."
   ]
  },
  {
   "cell_type": "code",
   "execution_count": 13,
   "metadata": {},
   "outputs": [],
   "source": [
    "struct=data_1[1]['input']['structure']\n",
    "#print(struct)"
   ]
  },
  {
   "cell_type": "code",
   "execution_count": 14,
   "metadata": {},
   "outputs": [
    {
     "data": {
      "text/plain": [
       "pymatgen.core.structure.Structure"
      ]
     },
     "execution_count": 14,
     "metadata": {},
     "output_type": "execute_result"
    }
   ],
   "source": [
    "type(struct)"
   ]
  },
  {
   "cell_type": "code",
   "execution_count": 15,
   "metadata": {},
   "outputs": [
    {
     "data": {
      "text/plain": [
       "Comp: Ca4 Fe4 Co4 C24 N24"
      ]
     },
     "execution_count": 15,
     "metadata": {},
     "output_type": "execute_result"
    }
   ],
   "source": [
    "struct.composition"
   ]
  },
  {
   "cell_type": "markdown",
   "metadata": {},
   "source": [
    "Next, we find how to access the energy value from the 'output' section of the main data_1 file:"
   ]
  },
  {
   "cell_type": "code",
   "execution_count": 16,
   "metadata": {},
   "outputs": [
    {
     "data": {
      "text/plain": [
       "-476.8670732"
      ]
     },
     "execution_count": 16,
     "metadata": {},
     "output_type": "execute_result"
    }
   ],
   "source": [
    "out = data_1[1]['output']\n",
    "out['energy']"
   ]
  },
  {
   "cell_type": "markdown",
   "metadata": {},
   "source": [
    "Now we can create a pymatgen entry with the pba structure in data_1[1]:"
   ]
  },
  {
   "cell_type": "code",
   "execution_count": 17,
   "metadata": {
    "scrolled": true
   },
   "outputs": [
    {
     "name": "stdout",
     "output_type": "stream",
     "text": [
      "ComputedEntry None - Ca4 Fe4 Co4 C24 N24\n",
      "Energy = -476.8671\n",
      "Correction = 0.0000\n",
      "Parameters:\n",
      "nelect = 348.0\n",
      "hubbards = {}\n",
      "potcar_spec = [{'titel': 'PAW_PBE Ca_sv 06Sep2000', 'hash': 'eb006721e214c04b3c13146e81b3a27d'}, {'titel': 'PAW_PBE Fe_pv 06Sep2000', 'hash': '5963411539032ec3298fa675a32c5e64'}, {'titel': 'PAW_PBE Co 06Sep2000', 'hash': 'b169bca4e137294d2ab3df8cbdd09083'}, {'titel': 'PAW_PBE C 08Apr2002', 'hash': 'c0a8167dbb174fe492a3db7f5006c0f8'}, {'titel': 'PAW_PBE N 08Apr2002', 'hash': 'b98fd027ddebc67da4063ff2cabbc04b'}]\n",
      "is_hubbard = False\n",
      "Data:\n"
     ]
    }
   ],
   "source": [
    "struct=data_1[1]['input']['structure']\n",
    "pba_1 = ComputedEntry(composition=struct.composition,\n",
    "                  energy=data_1[1]['output']['energy'],\n",
    "                      parameters = {\"nelect\": data_1[1]['input']['parameters']['NELECT'],\n",
    "                                    \"hubbards\": data_1[1]['input']['hubbards'],\n",
    "                                    \"potcar_spec\": data_1[1]['input']['potcar_spec'],\n",
    "                                    \"is_hubbard\": data_1[1]['input']['is_hubbard']})\n",
    "\n",
    "print(pba_1)"
   ]
  },
  {
   "cell_type": "markdown",
   "metadata": {},
   "source": [
    "Shyam also said to add the 'run_type' to the parameters of each entry using the command d\\[\"run_type\"] =  \"calcs_reversed.0.run_type\". As far as I can tell, the pba files in the dictionary do not have any parameters for 'run_type' or 'calcs_reversed', so for now I'll just leave it out of the parameters.\n",
    "\n",
    "Using Ctrl-f with run_type through the data_1[i] files did not return any results:"
   ]
  },
  {
   "cell_type": "code",
   "execution_count": 18,
   "metadata": {},
   "outputs": [
    {
     "data": {
      "text/plain": [
       "{'_id': '58e66ecdd95cbb63a64888cb', 'input': {'structure': Structure Summary\n",
       "  Lattice\n",
       "      abc : 10.166 10.166 10.166\n",
       "   angles : 90.0 90.0 90.0\n",
       "   volume : 1050.6312542960002\n",
       "        A : 10.166 0.0 0.0\n",
       "        B : 0.0 10.166 0.0\n",
       "        C : 0.0 0.0 10.166\n",
       "  PeriodicSite: K (7.6245, 7.6245, 7.6245) [0.7500, 0.7500, 0.7500]\n",
       "  PeriodicSite: K (2.5415, 2.5415, 7.6245) [0.2500, 0.2500, 0.7500]\n",
       "  PeriodicSite: K (2.5415, 7.6245, 2.5415) [0.2500, 0.7500, 0.2500]\n",
       "  PeriodicSite: K (7.6245, 2.5415, 2.5415) [0.7500, 0.2500, 0.2500]\n",
       "  PeriodicSite: Zn (0.0000, 0.0000, 0.0000) [0.0000, 0.0000, 0.0000]\n",
       "  PeriodicSite: Zn (5.0830, 5.0830, 0.0000) [0.5000, 0.5000, 0.0000]\n",
       "  PeriodicSite: Zn (0.0000, 5.0830, 5.0830) [0.0000, 0.5000, 0.5000]\n",
       "  PeriodicSite: Zn (5.0830, 0.0000, 5.0830) [0.5000, 0.0000, 0.5000]\n",
       "  PeriodicSite: Fe (5.0830, 0.0000, 0.0000) [0.5000, 0.0000, 0.0000]\n",
       "  PeriodicSite: Fe (0.0000, 5.0830, 0.0000) [0.0000, 0.5000, 0.0000]\n",
       "  PeriodicSite: Fe (0.0000, 0.0000, 5.0830) [0.0000, 0.0000, 0.5000]\n",
       "  PeriodicSite: Fe (5.0830, 5.0830, 5.0830) [0.5000, 0.5000, 0.5000]\n",
       "  PeriodicSite: C (3.1596, 0.0000, 0.0000) [0.3108, 0.0000, 0.0000]\n",
       "  PeriodicSite: C (7.0064, 0.0000, 0.0000) [0.6892, 0.0000, 0.0000]\n",
       "  PeriodicSite: C (0.0000, 3.1596, 0.0000) [0.0000, 0.3108, 0.0000]\n",
       "  PeriodicSite: C (0.0000, 7.0064, 0.0000) [0.0000, 0.6892, 0.0000]\n",
       "  PeriodicSite: C (0.0000, 0.0000, 3.1596) [0.0000, 0.0000, 0.3108]\n",
       "  PeriodicSite: C (0.0000, 0.0000, 7.0064) [0.0000, 0.0000, 0.6892]\n",
       "  PeriodicSite: C (2.0383, 5.0830, 0.0000) [0.2005, 0.5000, 0.0000]\n",
       "  PeriodicSite: C (8.1277, 5.0830, 0.0000) [0.7995, 0.5000, 0.0000]\n",
       "  PeriodicSite: C (0.0000, 2.0383, 5.0830) [0.0000, 0.2005, 0.5000]\n",
       "  PeriodicSite: C (0.0000, 8.1277, 5.0830) [0.0000, 0.7995, 0.5000]\n",
       "  PeriodicSite: C (5.0830, 0.0000, 2.0383) [0.5000, 0.0000, 0.2005]\n",
       "  PeriodicSite: C (5.0830, 0.0000, 8.1277) [0.5000, 0.0000, 0.7995]\n",
       "  PeriodicSite: C (5.0830, 2.0383, 0.0000) [0.5000, 0.2005, 0.0000]\n",
       "  PeriodicSite: C (5.0830, 8.1277, 0.0000) [0.5000, 0.7995, 0.0000]\n",
       "  PeriodicSite: C (2.0383, 0.0000, 5.0830) [0.2005, 0.0000, 0.5000]\n",
       "  PeriodicSite: C (8.1277, 0.0000, 5.0830) [0.7995, 0.0000, 0.5000]\n",
       "  PeriodicSite: C (0.0000, 5.0830, 8.1277) [0.0000, 0.5000, 0.7995]\n",
       "  PeriodicSite: C (0.0000, 5.0830, 2.0383) [0.0000, 0.5000, 0.2005]\n",
       "  PeriodicSite: C (3.1596, 5.0830, 5.0830) [0.3108, 0.5000, 0.5000]\n",
       "  PeriodicSite: C (7.0064, 5.0830, 5.0830) [0.6892, 0.5000, 0.5000]\n",
       "  PeriodicSite: C (5.0830, 3.1596, 5.0830) [0.5000, 0.3108, 0.5000]\n",
       "  PeriodicSite: C (5.0830, 7.0064, 5.0830) [0.5000, 0.6892, 0.5000]\n",
       "  PeriodicSite: C (5.0830, 5.0830, 3.1596) [0.5000, 0.5000, 0.3108]\n",
       "  PeriodicSite: C (5.0830, 5.0830, 7.0064) [0.5000, 0.5000, 0.6892]\n",
       "  PeriodicSite: N (2.0383, 0.0000, 0.0000) [0.2005, 0.0000, 0.0000]\n",
       "  PeriodicSite: N (8.1277, 0.0000, 0.0000) [0.7995, 0.0000, 0.0000]\n",
       "  PeriodicSite: N (0.0000, 2.0383, 0.0000) [0.0000, 0.2005, 0.0000]\n",
       "  PeriodicSite: N (0.0000, 8.1277, 0.0000) [0.0000, 0.7995, 0.0000]\n",
       "  PeriodicSite: N (0.0000, 0.0000, 2.0383) [0.0000, 0.0000, 0.2005]\n",
       "  PeriodicSite: N (0.0000, 0.0000, 8.1277) [0.0000, 0.0000, 0.7995]\n",
       "  PeriodicSite: N (3.1596, 5.0830, 0.0000) [0.3108, 0.5000, 0.0000]\n",
       "  PeriodicSite: N (7.0064, 5.0830, 0.0000) [0.6892, 0.5000, 0.0000]\n",
       "  PeriodicSite: N (0.0000, 3.1596, 5.0830) [0.0000, 0.3108, 0.5000]\n",
       "  PeriodicSite: N (0.0000, 7.0064, 5.0830) [0.0000, 0.6892, 0.5000]\n",
       "  PeriodicSite: N (5.0830, 0.0000, 3.1596) [0.5000, 0.0000, 0.3108]\n",
       "  PeriodicSite: N (5.0830, 0.0000, 7.0064) [0.5000, 0.0000, 0.6892]\n",
       "  PeriodicSite: N (5.0830, 3.1596, 0.0000) [0.5000, 0.3108, 0.0000]\n",
       "  PeriodicSite: N (5.0830, 7.0064, 0.0000) [0.5000, 0.6892, 0.0000]\n",
       "  PeriodicSite: N (3.1596, 0.0000, 5.0830) [0.3108, 0.0000, 0.5000]\n",
       "  PeriodicSite: N (7.0064, 0.0000, 5.0830) [0.6892, 0.0000, 0.5000]\n",
       "  PeriodicSite: N (0.0000, 5.0830, 7.0064) [0.0000, 0.5000, 0.6892]\n",
       "  PeriodicSite: N (0.0000, 5.0830, 3.1596) [0.0000, 0.5000, 0.3108]\n",
       "  PeriodicSite: N (2.0383, 5.0830, 5.0830) [0.2005, 0.5000, 0.5000]\n",
       "  PeriodicSite: N (8.1277, 5.0830, 5.0830) [0.7995, 0.5000, 0.5000]\n",
       "  PeriodicSite: N (5.0830, 2.0383, 5.0830) [0.5000, 0.2005, 0.5000]\n",
       "  PeriodicSite: N (5.0830, 8.1277, 5.0830) [0.5000, 0.7995, 0.5000]\n",
       "  PeriodicSite: N (5.0830, 5.0830, 2.0383) [0.5000, 0.5000, 0.2005]\n",
       "  PeriodicSite: N (5.0830, 5.0830, 8.1277) [0.5000, 0.5000, 0.7995],\n",
       "  'is_hubbard': False,\n",
       "  'hubbards': {},\n",
       "  'is_lasph': False,\n",
       "  'potcar_spec': [{'titel': 'PAW_PBE K_sv 06Sep2000',\n",
       "    'hash': '3e84f86d37f203a4fb01de36af57e430'},\n",
       "   {'titel': 'PAW_PBE Zn 06Sep2000',\n",
       "    'hash': 'e35ee27f8483a63bb68dbc236a343af3'},\n",
       "   {'titel': 'PAW_PBE Fe_pv 06Sep2000',\n",
       "    'hash': '5963411539032ec3298fa675a32c5e64'},\n",
       "   {'titel': 'PAW_PBE C 08Apr2002',\n",
       "    'hash': 'c0a8167dbb174fe492a3db7f5006c0f8'},\n",
       "   {'titel': 'PAW_PBE N 08Apr2002',\n",
       "    'hash': 'b98fd027ddebc67da4063ff2cabbc04b'}],\n",
       "  'xc_override': None,\n",
       "  'pseudo_potential': {'functional': 'pbe',\n",
       "   'pot_type': 'paw',\n",
       "   'labels': ['K_sv', 'Zn', 'Fe_pv', 'C', 'N']},\n",
       "  'parameters': {'SYSTEM': 'unknown system',\n",
       "   'LCOMPAT': False,\n",
       "   'PREC': 'accura',\n",
       "   'ENMAX': 520.0,\n",
       "   'ENAUG': 644.873,\n",
       "   'EDIFF': 0.003,\n",
       "   'IALGO': 68,\n",
       "   'IWAVPR': 11,\n",
       "   'NBANDS': 240,\n",
       "   'NELECT': 356.0,\n",
       "   'TURBO': 0,\n",
       "   'IRESTART': 0,\n",
       "   'NREBOOT': 0,\n",
       "   'NMIN': 0,\n",
       "   'EREF': 0.0,\n",
       "   'ISMEAR': -5,\n",
       "   'SIGMA': 0.05,\n",
       "   'KSPACING': 0.5,\n",
       "   'KGAMMA': True,\n",
       "   'LREAL': True,\n",
       "   'ROPT': [-0.00025, -0.00025, -0.00025, -0.00025, -0.00025],\n",
       "   'LMAXPAW': -100,\n",
       "   'LMAXMIX': 2,\n",
       "   'NLSPLINE': False,\n",
       "   'ISTART': 0,\n",
       "   'ICHARG': 1,\n",
       "   'INIWAV': 1,\n",
       "   'ISPIN': 2,\n",
       "   'LNONCOLLINEAR': False,\n",
       "   'MAGMOM': [0.6,\n",
       "    0.6,\n",
       "    0.6,\n",
       "    0.6,\n",
       "    0.6,\n",
       "    0.6,\n",
       "    0.6,\n",
       "    0.6,\n",
       "    5.0,\n",
       "    5.0,\n",
       "    5.0,\n",
       "    5.0,\n",
       "    0.6,\n",
       "    0.6,\n",
       "    0.6,\n",
       "    0.6,\n",
       "    0.6,\n",
       "    0.6,\n",
       "    0.6,\n",
       "    0.6,\n",
       "    0.6,\n",
       "    0.6,\n",
       "    0.6,\n",
       "    0.6,\n",
       "    0.6,\n",
       "    0.6,\n",
       "    0.6,\n",
       "    0.6,\n",
       "    0.6,\n",
       "    0.6,\n",
       "    0.6,\n",
       "    0.6,\n",
       "    0.6,\n",
       "    0.6,\n",
       "    0.6,\n",
       "    0.6,\n",
       "    0.6,\n",
       "    0.6,\n",
       "    0.6,\n",
       "    0.6,\n",
       "    0.6,\n",
       "    0.6,\n",
       "    0.6,\n",
       "    0.6,\n",
       "    0.6,\n",
       "    0.6,\n",
       "    0.6,\n",
       "    0.6,\n",
       "    0.6,\n",
       "    0.6,\n",
       "    0.6,\n",
       "    0.6,\n",
       "    0.6,\n",
       "    0.6,\n",
       "    0.6,\n",
       "    0.6,\n",
       "    0.6,\n",
       "    0.6,\n",
       "    0.6,\n",
       "    0.6],\n",
       "   'NUPDOWN': -1.0,\n",
       "   'LSORBIT': False,\n",
       "   'SAXIS': [0.0, 0.0, 1.0],\n",
       "   'LSPIRAL': False,\n",
       "   'QSPIRAL': [0.0, 0.0, 0.0],\n",
       "   'LZEROZ': False,\n",
       "   'LASPH': False,\n",
       "   'LMETAGGA': False,\n",
       "   'NELM': 100,\n",
       "   'NELMDL': 0,\n",
       "   'NELMIN': 2,\n",
       "   'ENINI': 520.0,\n",
       "   'LDIAG': True,\n",
       "   'LSUBROT': False,\n",
       "   'WEIMIN': 0.001,\n",
       "   'EBREAK': 3.13e-06,\n",
       "   'DEPER': 0.3,\n",
       "   'NRMM': 4,\n",
       "   'TIME': 0.4,\n",
       "   'AMIX': 0.4,\n",
       "   'BMIX': 1.0,\n",
       "   'AMIN': 0.1,\n",
       "   'AMIX_MAG': 1.6,\n",
       "   'BMIX_MAG': 1.0,\n",
       "   'IMIX': 4,\n",
       "   'MIXFIRST': False,\n",
       "   'MAXMIX': -45,\n",
       "   'WC': 100.0,\n",
       "   'INIMIX': 1,\n",
       "   'MIXPRE': 1,\n",
       "   'MREMOVE': 5,\n",
       "   'LDIPOL': False,\n",
       "   'LMONO': False,\n",
       "   'IDIPOL': 0,\n",
       "   'EPSILON': 1.0,\n",
       "   'DIPOL': [-100.0, -100.0, -100.0],\n",
       "   'EFIELD': 0.0,\n",
       "   'NGX': 80,\n",
       "   'NGY': 80,\n",
       "   'NGZ': 80,\n",
       "   'NGXF': 160,\n",
       "   'NGYF': 160,\n",
       "   'NGZF': 160,\n",
       "   'ADDGRID': False,\n",
       "   'NSW': 99,\n",
       "   'IBRION': 2,\n",
       "   'MDALGO': 0,\n",
       "   'ISIF': 3,\n",
       "   'PSTRESS': 0.0,\n",
       "   'EDIFFG': 0.03,\n",
       "   'NFREE': 1,\n",
       "   'POTIM': 0.25,\n",
       "   'SMASS': -3.0,\n",
       "   'SCALEE': 1.0,\n",
       "   'TEBEG': 0.0001,\n",
       "   'TEEND': 0.0001,\n",
       "   'NBLOCK': 1,\n",
       "   'KBLOCK': 99,\n",
       "   'NPACO': 256,\n",
       "   'APACO': 16.0,\n",
       "   'ISYM': 2,\n",
       "   'SYMPREC': 1e-05,\n",
       "   'LORBIT': 11,\n",
       "   'RWIGS': [-1.0, -1.0, -1.0, -1.0, -1.0],\n",
       "   'NEDOS': 301,\n",
       "   'EMIN': 10.0,\n",
       "   'EMAX': -10.0,\n",
       "   'EFERMI': 0.0,\n",
       "   'NWRITE': 2,\n",
       "   'LWAVE': False,\n",
       "   'LDOWNSAMPLE': False,\n",
       "   'LCHARG': True,\n",
       "   'LPARD': False,\n",
       "   'LVTOT': False,\n",
       "   'LVHAR': False,\n",
       "   'LELF': False,\n",
       "   'LOPTICS': False,\n",
       "   'STM': [0.0, 0.0, 0.0, 0.0, 0.0, 0.0, 0.0],\n",
       "   'NPAR': 4,\n",
       "   'NSIM': 4,\n",
       "   'NBLK': -1,\n",
       "   'LPLANE': True,\n",
       "   'LSCALAPACK': True,\n",
       "   'LSCAAWARE': False,\n",
       "   'LSCALU': False,\n",
       "   'LASYNC': False,\n",
       "   'LORBITALREAL': False,\n",
       "   'IDIOT': 3,\n",
       "   'ISPECIAL': 0,\n",
       "   'LMUSIC': False,\n",
       "   'POMASS': [39.098, 65.39, 55.847, 12.011, 14.001],\n",
       "   'DARWINR': [0.0, 0.0, 0.0, 0.0, 0.0],\n",
       "   'DARWINV': [1.0, 1.0, 1.0, 1.0, 1.0],\n",
       "   'LCORR': True,\n",
       "   'GGA_COMPAT': True,\n",
       "   'LBERRY': False,\n",
       "   'ICORELEVEL': 0,\n",
       "   'LDAU': False,\n",
       "   'I_CONSTRAINED_M': 0,\n",
       "   'GGA': '--',\n",
       "   'VOSKOWN': 0,\n",
       "   'LHFCALC': False,\n",
       "   'PRECFOCK': '',\n",
       "   'LSYMGRAD': False,\n",
       "   'LHFONE': False,\n",
       "   'LRHFCALC': False,\n",
       "   'LTHOMAS': False,\n",
       "   'LMODELHF': False,\n",
       "   'ENCUT4O': -1.0,\n",
       "   'EXXOEP': 0,\n",
       "   'FOURORBIT': 0,\n",
       "   'AEXX': 0.0,\n",
       "   'HFALPHA': 0.0,\n",
       "   'MCALPHA': 0.0,\n",
       "   'ALDAX': 1.0,\n",
       "   'AGGAX': 1.0,\n",
       "   'ALDAC': 1.0,\n",
       "   'AGGAC': 1.0,\n",
       "   'NKREDX': 1,\n",
       "   'NKREDY': 1,\n",
       "   'NKREDZ': 1,\n",
       "   'SHIFTRED': False,\n",
       "   'ODDONLY': False,\n",
       "   'EVENONLY': False,\n",
       "   'LMAXFOCK': 0,\n",
       "   'NMAXFOCKAE': 0,\n",
       "   'LFOCKAEDFT': False,\n",
       "   'HFSCREEN': 0.0,\n",
       "   'HFSCREENC': 0.0,\n",
       "   'NBANDSGWLOW': 0,\n",
       "   'LUSE_VDW': False,\n",
       "   'Zab_VDW': -0.8491,\n",
       "   'PARAM1': 0.1234,\n",
       "   'PARAM2': 1.0,\n",
       "   'PARAM3': 0.0,\n",
       "   'MODEL_GW': 0,\n",
       "   'MODEL_EPS0': 10.50631254,\n",
       "   'MODEL_ALPHA': 1.0,\n",
       "   'LEPSILON': False,\n",
       "   'LRPA': False,\n",
       "   'LNABLA': False,\n",
       "   'LVEL': False,\n",
       "   'KINTER': 0,\n",
       "   'CSHIFT': 0.1,\n",
       "   'OMEGAMAX': -1.0,\n",
       "   'DEG_THRESHOLD': 0.002,\n",
       "   'RTIME': -0.1,\n",
       "   'WPLASMAI': 0.0,\n",
       "   'DFIELD': [0.0, 0.0, 0.0],\n",
       "   'WPLASMA': [0.0, 0.0, 0.0, 0.0, 0.0, 0.0, 0.0, 0.0, 0.0],\n",
       "   'NUCIND': False,\n",
       "   'MAGPOS': [0.0, 0.0, 0.0],\n",
       "   'LNICSALL': True,\n",
       "   'ORBITALMAG': False,\n",
       "   'LMAGBLOCH': False,\n",
       "   'LCHIMAG': False,\n",
       "   'LGAUGE': True,\n",
       "   'MAGATOM': 0,\n",
       "   'MAGDIPOL': [0.0, 0.0, 0.0],\n",
       "   'AVECCONST': [0.0, 0.0, 0.0],\n",
       "   'LADDER': False,\n",
       "   'LRPAFORCE': False,\n",
       "   'LFXC': False,\n",
       "   'LHARTREE': True,\n",
       "   'IBSE': 0,\n",
       "   'KPOINT': [-1, 0, 0, 0],\n",
       "   'LTCTE': False,\n",
       "   'LTETE': False,\n",
       "   'LTRIPLET': False,\n",
       "   'LFXCEPS': False,\n",
       "   'LFXHEG': False,\n",
       "   'NATURALO': 2,\n",
       "   'L2ORDER': False,\n",
       "   'LMP2LT': False,\n",
       "   'LUSEW': False,\n",
       "   'ENCUTGW': -2.0,\n",
       "   'ENCUTGWSOFT': -2.0,\n",
       "   'ENCUTLF': -1.0,\n",
       "   'LMAXMP2': -1,\n",
       "   'SCISSOR': 0.0,\n",
       "   'NOMEGA': 0,\n",
       "   'NOMEGAR': 0,\n",
       "   'NBANDSGW': -1,\n",
       "   'NBANDSO': -1,\n",
       "   'NBANDSV': -1,\n",
       "   'NELMHF': 1,\n",
       "   'DIM': 3,\n",
       "   'ANTIRES': 0,\n",
       "   'OMEGAMIN': -30.0,\n",
       "   'OMEGATL': -200.0,\n",
       "   'OMEGAGRID': 140,\n",
       "   'SELFENERGY': False,\n",
       "   'LSPECTRAL': False,\n",
       "   'LSPECTRALGW': False,\n",
       "   'LSINGLES': False,\n",
       "   'LFERMIGW': False,\n",
       "   'ODDONLYGW': False,\n",
       "   'EVENONLYGW': False,\n",
       "   'NKREDLFX': 1,\n",
       "   'NKREDLFY': 1,\n",
       "   'NKREDLFZ': 1,\n",
       "   'MAXMEM': 2800,\n",
       "   'TELESCOPE': 0,\n",
       "   'TAUPAR': 1,\n",
       "   'OMEGAPAR': -1,\n",
       "   'LAMBDA': 1.0,\n",
       "   'OFIELD_KAPPA': 0.0,\n",
       "   'OFIELD_K': [0.0, 0.0, 0.0],\n",
       "   'OFIELD_Q6_NEAR': 0.0,\n",
       "   'OFIELD_Q6_FAR': 0.0,\n",
       "   'OFIELD_A': 0.0},\n",
       "  'incar': {'PREC': 'accurate',\n",
       "   'ALGO': 'Fast',\n",
       "   'ISPIN': 2,\n",
       "   'ICHARG': 1,\n",
       "   'NELM': 100,\n",
       "   'IBRION': 2,\n",
       "   'EDIFF': 0.003,\n",
       "   'NSW': 99,\n",
       "   'ISIF': 3,\n",
       "   'ENCUT': 520.0,\n",
       "   'POTIM': 0.25,\n",
       "   'MAGMOM': [0.6,\n",
       "    0.6,\n",
       "    0.6,\n",
       "    0.6,\n",
       "    0.6,\n",
       "    0.6,\n",
       "    0.6,\n",
       "    0.6,\n",
       "    5.0,\n",
       "    5.0,\n",
       "    5.0,\n",
       "    5.0,\n",
       "    0.6,\n",
       "    0.6,\n",
       "    0.6,\n",
       "    0.6,\n",
       "    0.6,\n",
       "    0.6,\n",
       "    0.6,\n",
       "    0.6,\n",
       "    0.6,\n",
       "    0.6,\n",
       "    0.6,\n",
       "    0.6,\n",
       "    0.6,\n",
       "    0.6,\n",
       "    0.6,\n",
       "    0.6,\n",
       "    0.6,\n",
       "    0.6,\n",
       "    0.6,\n",
       "    0.6,\n",
       "    0.6,\n",
       "    0.6,\n",
       "    0.6,\n",
       "    0.6,\n",
       "    0.6,\n",
       "    0.6,\n",
       "    0.6,\n",
       "    0.6,\n",
       "    0.6,\n",
       "    0.6,\n",
       "    0.6,\n",
       "    0.6,\n",
       "    0.6,\n",
       "    0.6,\n",
       "    0.6,\n",
       "    0.6,\n",
       "    0.6,\n",
       "    0.6,\n",
       "    0.6,\n",
       "    0.6,\n",
       "    0.6,\n",
       "    0.6,\n",
       "    0.6,\n",
       "    0.6,\n",
       "    0.6,\n",
       "    0.6,\n",
       "    0.6,\n",
       "    0.6],\n",
       "   'LREAL': 'Auto',\n",
       "   'ISMEAR': -5,\n",
       "   'SIGMA': 0.05,\n",
       "   'LWAVE': False,\n",
       "   'LORBIT': 11,\n",
       "   'KPOINT_BSE': [-1, 0, 0, 0]}}, 'output': {'structure': Structure Summary\n",
       "  Lattice\n",
       "      abc : 10.46018057 10.46018057 10.46018057\n",
       "   angles : 90.0 90.0 90.0\n",
       "   volume : 1144.5046063810032\n",
       "        A : 10.46018057 -0.0 0.0\n",
       "        B : -0.0 10.46018057 -0.0\n",
       "        C : 0.0 0.0 10.46018057\n",
       "  PeriodicSite: K (7.8462, 7.8462, 7.8462) [0.7501, 0.7501, 0.7501]\n",
       "  PeriodicSite: K (2.6140, 2.6140, 7.8462) [0.2499, 0.2499, 0.7501]\n",
       "  PeriodicSite: K (2.6140, 7.8462, 2.6140) [0.2499, 0.7501, 0.2499]\n",
       "  PeriodicSite: K (7.8462, 2.6140, 2.6140) [0.7501, 0.2499, 0.2499]\n",
       "  PeriodicSite: Zn (0.0000, 0.0000, 0.0000) [0.0000, -0.0000, 0.0000]\n",
       "  PeriodicSite: Zn (5.2301, 5.2301, 0.0000) [0.5000, 0.5000, 0.0000]\n",
       "  PeriodicSite: Zn (0.0000, 5.2301, 5.2301) [0.0000, 0.5000, 0.5000]\n",
       "  PeriodicSite: Zn (5.2301, 0.0000, 5.2301) [0.5000, -0.0000, 0.5000]\n",
       "  PeriodicSite: Fe (5.2301, 0.0000, 0.0000) [0.5000, -0.0000, -0.0000]\n",
       "  PeriodicSite: Fe (0.0000, 5.2301, 0.0000) [0.0000, 0.5000, 0.0000]\n",
       "  PeriodicSite: Fe (0.0000, 0.0000, 5.2301) [0.0000, -0.0000, 0.5000]\n",
       "  PeriodicSite: Fe (5.2301, 5.2301, 5.2301) [0.5000, 0.5000, 0.5000]\n",
       "  PeriodicSite: C (3.3252, 0.0000, 0.0000) [0.3179, -0.0000, 0.0000]\n",
       "  PeriodicSite: C (7.1350, 0.0000, 0.0000) [0.6821, -0.0000, -0.0000]\n",
       "  PeriodicSite: C (0.0000, 3.3252, 0.0000) [0.0000, 0.3179, -0.0000]\n",
       "  PeriodicSite: C (0.0000, 7.1350, 0.0000) [0.0000, 0.6821, -0.0000]\n",
       "  PeriodicSite: C (0.0000, 0.0000, 3.3252) [0.0000, -0.0000, 0.3179]\n",
       "  PeriodicSite: C (0.0000, 0.0000, 7.1350) [0.0000, -0.0000, 0.6821]\n",
       "  PeriodicSite: C (1.9088, 5.2301, 0.0000) [0.1825, 0.5000, 0.0000]\n",
       "  PeriodicSite: C (8.5514, 5.2301, 0.0000) [0.8175, 0.5000, -0.0000]\n",
       "  PeriodicSite: C (0.0000, 1.9088, 5.2301) [0.0000, 0.1825, 0.5000]\n",
       "  PeriodicSite: C (0.0000, 8.5514, 5.2301) [0.0000, 0.8175, 0.5000]\n",
       "  PeriodicSite: C (5.2301, 0.0000, 1.9088) [0.5000, -0.0000, 0.1825]\n",
       "  PeriodicSite: C (5.2301, 0.0000, 8.5514) [0.5000, -0.0000, 0.8175]\n",
       "  PeriodicSite: C (5.2301, 1.9088, 0.0000) [0.5000, 0.1825, -0.0000]\n",
       "  PeriodicSite: C (5.2301, 8.5514, 0.0000) [0.5000, 0.8175, 0.0000]\n",
       "  PeriodicSite: C (1.9088, 0.0000, 5.2301) [0.1825, -0.0000, 0.5000]\n",
       "  PeriodicSite: C (8.5514, 0.0000, 5.2301) [0.8175, -0.0000, 0.5000]\n",
       "  PeriodicSite: C (0.0000, 5.2301, 8.5514) [0.0000, 0.5000, 0.8175]\n",
       "  PeriodicSite: C (0.0000, 5.2301, 1.9088) [0.0000, 0.5000, 0.1825]\n",
       "  PeriodicSite: C (3.3269, 5.2301, 5.2301) [0.3181, 0.5000, 0.5000]\n",
       "  PeriodicSite: C (7.1332, 5.2301, 5.2301) [0.6819, 0.5000, 0.5000]\n",
       "  PeriodicSite: C (5.2301, 3.3269, 5.2301) [0.5000, 0.3181, 0.5000]\n",
       "  PeriodicSite: C (5.2301, 7.1332, 5.2301) [0.5000, 0.6819, 0.5000]\n",
       "  PeriodicSite: C (5.2301, 5.2301, 3.3269) [0.5000, 0.5000, 0.3181]\n",
       "  PeriodicSite: C (5.2301, 5.2301, 7.1332) [0.5000, 0.5000, 0.6819]\n",
       "  PeriodicSite: N (2.1522, 0.0000, 0.0000) [0.2058, -0.0000, -0.0000]\n",
       "  PeriodicSite: N (8.3080, 0.0000, 0.0000) [0.7942, -0.0000, 0.0000]\n",
       "  PeriodicSite: N (0.0000, 2.1522, 0.0000) [0.0000, 0.2058, 0.0000]\n",
       "  PeriodicSite: N (0.0000, 8.3080, 0.0000) [0.0000, 0.7942, -0.0000]\n",
       "  PeriodicSite: N (0.0000, 0.0000, 2.1522) [0.0000, -0.0000, 0.2058]\n",
       "  PeriodicSite: N (0.0000, 0.0000, 8.3080) [0.0000, -0.0000, 0.7942]\n",
       "  PeriodicSite: N (3.0821, 5.2301, 0.0000) [0.2946, 0.5000, -0.0000]\n",
       "  PeriodicSite: N (7.3781, 5.2301, 0.0000) [0.7054, 0.5000, 0.0000]\n",
       "  PeriodicSite: N (0.0000, 3.0821, 5.2301) [0.0000, 0.2946, 0.5000]\n",
       "  PeriodicSite: N (0.0000, 7.3781, 5.2301) [0.0000, 0.7054, 0.5000]\n",
       "  PeriodicSite: N (5.2301, 0.0000, 3.0821) [0.5000, -0.0000, 0.2946]\n",
       "  PeriodicSite: N (5.2301, 0.0000, 7.3781) [0.5000, -0.0000, 0.7054]\n",
       "  PeriodicSite: N (5.2301, 3.0821, 0.0000) [0.5000, 0.2946, 0.0000]\n",
       "  PeriodicSite: N (5.2301, 7.3781, 0.0000) [0.5000, 0.7054, -0.0000]\n",
       "  PeriodicSite: N (3.0821, 0.0000, 5.2301) [0.2946, -0.0000, 0.5000]\n",
       "  PeriodicSite: N (7.3781, 0.0000, 5.2301) [0.7054, -0.0000, 0.5000]\n",
       "  PeriodicSite: N (0.0000, 5.2301, 7.3781) [0.0000, 0.5000, 0.7054]\n",
       "  PeriodicSite: N (0.0000, 5.2301, 3.0821) [0.0000, 0.5000, 0.2946]\n",
       "  PeriodicSite: N (2.1531, 5.2301, 5.2301) [0.2058, 0.5000, 0.5000]\n",
       "  PeriodicSite: N (8.3070, 5.2301, 5.2301) [0.7942, 0.5000, 0.5000]\n",
       "  PeriodicSite: N (5.2301, 2.1531, 5.2301) [0.5000, 0.2058, 0.5000]\n",
       "  PeriodicSite: N (5.2301, 8.3070, 5.2301) [0.5000, 0.7942, 0.5000]\n",
       "  PeriodicSite: N (5.2301, 5.2301, 2.1531) [0.5000, 0.5000, 0.2058]\n",
       "  PeriodicSite: N (5.2301, 5.2301, 8.3070) [0.5000, 0.5000, 0.7942],\n",
       "  'density': 1.8365630051283,\n",
       "  'energy': -456.18794556,\n",
       "  'energy_per_atom': -7.603132426,\n",
       "  'bandgap': 0.0,\n",
       "  'cbm': None,\n",
       "  'vbm': None,\n",
       "  'is_gap_direct': False,\n",
       "  'is_metal': True,\n",
       "  'spacegroup': {'source': 'spglib',\n",
       "   'symbol': 'F-43m',\n",
       "   'number': 216,\n",
       "   'point_group': '-43m',\n",
       "   'crystal_system': 'cubic',\n",
       "   'hall': 'F -4 2 3'}}}"
      ]
     },
     "execution_count": 18,
     "metadata": {},
     "output_type": "execute_result"
    }
   ],
   "source": [
    "data_1[100]"
   ]
  },
  {
   "cell_type": "markdown",
   "metadata": {},
   "source": [
    "Now that we know how to create a pymatgen entry, let's iterate over the whole data_1 file with this method to make a list of pba entries:"
   ]
  },
  {
   "cell_type": "code",
   "execution_count": 19,
   "metadata": {},
   "outputs": [
    {
     "data": {
      "text/plain": [
       "ComputedEntry None - Ca4 Fe4 Co4 C24 N24\n",
       "Energy = -476.8671\n",
       "Correction = 0.0000\n",
       "Parameters:\n",
       "nelect = 348.0\n",
       "hubbards = {}\n",
       "potcar_spec = [{'titel': 'PAW_PBE Ca_sv 06Sep2000', 'hash': 'eb006721e214c04b3c13146e81b3a27d'}, {'titel': 'PAW_PBE Fe_pv 06Sep2000', 'hash': '5963411539032ec3298fa675a32c5e64'}, {'titel': 'PAW_PBE Co 06Sep2000', 'hash': 'b169bca4e137294d2ab3df8cbdd09083'}, {'titel': 'PAW_PBE C 08Apr2002', 'hash': 'c0a8167dbb174fe492a3db7f5006c0f8'}, {'titel': 'PAW_PBE N 08Apr2002', 'hash': 'b98fd027ddebc67da4063ff2cabbc04b'}]\n",
       "is_hubbard = False\n",
       "Data:"
      ]
     },
     "execution_count": 19,
     "metadata": {},
     "output_type": "execute_result"
    }
   ],
   "source": [
    "pba_entries = []\n",
    "for i in range(0, len(data_1)):\n",
    "    if 'input' in data_1[i]:\n",
    "        struct = data_1[i]['input']['structure']\n",
    "        pba_entry = ComputedEntry(composition = struct.composition,\n",
    "                                 energy = data_1[i]['output']['energy'],\n",
    "                                 parameters = {\"nelect\": data_1[i]['input']['parameters']['NELECT'],\n",
    "                                    \"hubbards\": data_1[i]['input']['hubbards'],\n",
    "                                    \"potcar_spec\": data_1[i]['input']['potcar_spec'],\n",
    "                                    \"is_hubbard\": data_1[i]['input']['is_hubbard']})\n",
    "        pba_entries.append(pba_entry)\n",
    "pba_entries[0]"
   ]
  },
  {
   "cell_type": "code",
   "execution_count": 20,
   "metadata": {},
   "outputs": [
    {
     "data": {
      "text/plain": [
       "pymatgen.entries.computed_entries.ComputedEntry"
      ]
     },
     "execution_count": 20,
     "metadata": {},
     "output_type": "execute_result"
    }
   ],
   "source": [
    "type(pba_entries[0])"
   ]
  },
  {
   "cell_type": "markdown",
   "metadata": {},
   "source": [
    "This looks good so far."
   ]
  },
  {
   "cell_type": "markdown",
   "metadata": {},
   "source": [
    "### Accessing materials entries from the Materials Project"
   ]
  },
  {
   "cell_type": "markdown",
   "metadata": {},
   "source": [
    "Next, we access the Materials Project's main entries list of structures made out of the given atoms."
   ]
  },
  {
   "cell_type": "code",
   "execution_count": 21,
   "metadata": {},
   "outputs": [],
   "source": [
    "#How to get a list of the component atoms from the pymatgen structure:\n",
    "pba_a = pba_entries[0]"
   ]
  },
  {
   "cell_type": "code",
   "execution_count": 22,
   "metadata": {},
   "outputs": [
    {
     "name": "stdout",
     "output_type": "stream",
     "text": [
      "dict_keys(['Ca', 'Fe', 'Co', 'C', 'N'])\n"
     ]
    }
   ],
   "source": [
    "comp = pba_a.composition.as_dict().keys()\n",
    "print(comp)"
   ]
  },
  {
   "cell_type": "code",
   "execution_count": 23,
   "metadata": {},
   "outputs": [],
   "source": [
    "from pymatgen import MPRester\n",
    "mpr = MPRester(api_key='clRGHmBDgp1xt9zA')"
   ]
  },
  {
   "cell_type": "code",
   "execution_count": 24,
   "metadata": {},
   "outputs": [
    {
     "name": "stdout",
     "output_type": "stream",
     "text": [
      "[ComputedEntry mp-10683 - Ca1\n",
      "Energy = -1.6033\n",
      "Correction = 0.0000\n",
      "Parameters:\n",
      "run_type = GGA\n",
      "is_hubbard = False\n",
      "pseudo_potential = {'functional': 'PBE', 'labels': ['Ca_sv'], 'pot_type': 'paw'}\n",
      "hubbards = {}\n",
      "potcar_symbols = ['PBE Ca_sv']\n",
      "oxide_type = None\n",
      "Data:\n",
      "oxide_type = None, ComputedEntry mp-45 - Ca1\n",
      "Energy = -2.0218\n",
      "Correction = 0.0000\n",
      "Parameters:\n",
      "run_type = GGA\n",
      "is_hubbard = False\n",
      "pseudo_potential = {'functional': 'PBE', 'labels': ['Ca_sv'], 'pot_type': 'paw'}\n",
      "hubbards = {}\n",
      "potcar_symbols = ['PBE Ca_sv']\n",
      "oxide_type = None\n",
      "Data:\n",
      "oxide_type = None]\n"
     ]
    }
   ],
   "source": [
    "entries = mpr.get_entries_in_chemsys(comp)\n",
    "print(entries[:2])"
   ]
  },
  {
   "cell_type": "code",
   "execution_count": 25,
   "metadata": {},
   "outputs": [
    {
     "name": "stdout",
     "output_type": "stream",
     "text": [
      "ComputedEntry None - Ca4 Fe4 Co4 C24 N24\n",
      "Energy = -476.8671\n",
      "Correction = 0.0000\n",
      "Parameters:\n",
      "nelect = 348.0\n",
      "hubbards = {}\n",
      "potcar_spec = [{'titel': 'PAW_PBE Ca_sv 06Sep2000', 'hash': 'eb006721e214c04b3c13146e81b3a27d'}, {'titel': 'PAW_PBE Fe_pv 06Sep2000', 'hash': '5963411539032ec3298fa675a32c5e64'}, {'titel': 'PAW_PBE Co 06Sep2000', 'hash': 'b169bca4e137294d2ab3df8cbdd09083'}, {'titel': 'PAW_PBE C 08Apr2002', 'hash': 'c0a8167dbb174fe492a3db7f5006c0f8'}, {'titel': 'PAW_PBE N 08Apr2002', 'hash': 'b98fd027ddebc67da4063ff2cabbc04b'}]\n",
      "is_hubbard = False\n",
      "Data:\n"
     ]
    }
   ],
   "source": [
    "print(pba_entries[0])"
   ]
  },
  {
   "cell_type": "markdown",
   "metadata": {},
   "source": [
    "entries now contains all of the Materials Project structures containing any combination of 'Ca', 'Fe', 'Co', 'C', and 'N'. Let's go ahead and add the pba with these atoms to this list:"
   ]
  },
  {
   "cell_type": "code",
   "execution_count": 26,
   "metadata": {},
   "outputs": [],
   "source": [
    "entries.append(pba_entries[0])"
   ]
  },
  {
   "cell_type": "markdown",
   "metadata": {},
   "source": [
    "### Applying Correction\n",
    "\n",
    "Now that we have a list of pymatgen entries, including both MP entries and our pba, we apply corrections using the MaterialsProjectCompatibility module."
   ]
  },
  {
   "cell_type": "code",
   "execution_count": 27,
   "metadata": {},
   "outputs": [],
   "source": [
    "from pymatgen.entries.compatibility import MaterialsProjectCompatibility\n",
    "mpc = MaterialsProjectCompatibility()"
   ]
  },
  {
   "cell_type": "code",
   "execution_count": 28,
   "metadata": {},
   "outputs": [],
   "source": [
    "corrected_entries = mpc.process_entries(entries)"
   ]
  },
  {
   "cell_type": "code",
   "execution_count": 29,
   "metadata": {},
   "outputs": [
    {
     "name": "stdout",
     "output_type": "stream",
     "text": [
      "[ComputedEntry mp-10683 - Ca1\n",
      "Energy = -1.6033\n",
      "Correction = 0.0000\n",
      "Parameters:\n",
      "run_type = GGA\n",
      "is_hubbard = False\n",
      "pseudo_potential = {'functional': 'PBE', 'labels': ['Ca_sv'], 'pot_type': 'paw'}\n",
      "hubbards = {}\n",
      "potcar_symbols = ['PBE Ca_sv']\n",
      "oxide_type = None\n",
      "Data:\n",
      "oxide_type = None, ComputedEntry mp-45 - Ca1\n",
      "Energy = -2.0218\n",
      "Correction = 0.0000\n",
      "Parameters:\n",
      "run_type = GGA\n",
      "is_hubbard = False\n",
      "pseudo_potential = {'functional': 'PBE', 'labels': ['Ca_sv'], 'pot_type': 'paw'}\n",
      "hubbards = {}\n",
      "potcar_symbols = ['PBE Ca_sv']\n",
      "oxide_type = None\n",
      "Data:\n",
      "oxide_type = None]\n"
     ]
    }
   ],
   "source": [
    "print(corrected_entries[:2])"
   ]
  },
  {
   "cell_type": "code",
   "execution_count": 94,
   "metadata": {},
   "outputs": [],
   "source": [
    "#corrected_entries"
   ]
  },
  {
   "cell_type": "markdown",
   "metadata": {},
   "source": [
    "Most of the entries have a correction value of 0, but there are a handful with nonzero correction values."
   ]
  },
  {
   "cell_type": "markdown",
   "metadata": {},
   "source": [
    "### Accessing Energy above Hull\n",
    "\n",
    "Now that we have a list of corrected entries for the atoms in our first PBA, we can calculate a phase diagram for these atoms. This phase diagram is then used to calculate the energy above hull for the PBA."
   ]
  },
  {
   "cell_type": "code",
   "execution_count": 31,
   "metadata": {},
   "outputs": [],
   "source": [
    "from pymatgen.analysis.phase_diagram import PhaseDiagram, PDPlotter"
   ]
  },
  {
   "cell_type": "code",
   "execution_count": 32,
   "metadata": {},
   "outputs": [],
   "source": [
    "phase_d = PhaseDiagram(entries)"
   ]
  },
  {
   "cell_type": "code",
   "execution_count": 33,
   "metadata": {
    "scrolled": true
   },
   "outputs": [
    {
     "name": "stdout",
     "output_type": "stream",
     "text": [
      "Only 1-4 components supported!\n",
      "<class 'ValueError'>\n"
     ]
    }
   ],
   "source": [
    "#Plotting the phase diagram:\n",
    "try:\n",
    "    plotter = PDPlotter(phase_d, show_unstable=True)\n",
    "    plotter.show()\n",
    "except Exception as e:\n",
    "    print(e)\n",
    "    print(type(e))"
   ]
  },
  {
   "cell_type": "markdown",
   "metadata": {},
   "source": [
    "PBAs have 5 different elements and PDPlotter can only plot diagrams with 4 or fewer elements, so we unfortunately are unable to visualize the phase diagram. However, we can still calculate the e_above_hull using the phase_d object."
   ]
  },
  {
   "cell_type": "code",
   "execution_count": 34,
   "metadata": {},
   "outputs": [
    {
     "name": "stdout",
     "output_type": "stream",
     "text": [
      "0.43556256118266745\n"
     ]
    }
   ],
   "source": [
    "#Calculating e_above_hull for the last object in entries, which is our PBA.\n",
    "e_above_hull = phase_d.get_e_above_hull(entries[-1])\n",
    "print(e_above_hull)"
   ]
  },
  {
   "cell_type": "markdown",
   "metadata": {},
   "source": [
    "## Looping through PBAs\n",
    "\n",
    "Note: This section previously looped through all of the PBAs and parsed A, P, and R atoms based on the order that the atoms were listed in. I later found out that this method is not reliable, so I created a new loop that incorporates the CrystalNN method to do this correctly."
   ]
  },
  {
   "cell_type": "markdown",
   "metadata": {},
   "source": [
    "The one structure where the code rand into an error was on index 456 in pba_entries. The error occured while parsing the composition into the A, P, and R atoms. Let's examine this structure."
   ]
  },
  {
   "cell_type": "code",
   "execution_count": 38,
   "metadata": {},
   "outputs": [
    {
     "name": "stdout",
     "output_type": "stream",
     "text": [
      "ComputedEntry None - C8 N12\n",
      "Energy = -141.5829\n",
      "Correction = 0.0000\n",
      "Parameters:\n",
      "nelect = 92.0\n",
      "hubbards = {}\n",
      "potcar_spec = [{'titel': 'PAW_PBE C 08Apr2002', 'hash': 'c0a8167dbb174fe492a3db7f5006c0f8'}, {'titel': 'PAW_PBE N 08Apr2002', 'hash': 'b98fd027ddebc67da4063ff2cabbc04b'}]\n",
      "is_hubbard = False\n",
      "Data:\n"
     ]
    }
   ],
   "source": [
    "print(pba_entries[456])"
   ]
  },
  {
   "cell_type": "markdown",
   "metadata": {},
   "source": [
    "This structure has chemical formula C8 N12, so it is obviously not a PBA. In the pba_e_hull_df, the row for that element is just NaN for the A, P, and R values, so we'll just leave it like that for now. "
   ]
  },
  {
   "cell_type": "markdown",
   "metadata": {},
   "source": [
    "### Crystal NN to determine P and R\n",
    "#### Crystal NN Practice:\n",
    "Here, we will use the CrystalNN method in pymatgen.analysis.local_env module to identify which atoms are the P and R atoms by their nearest neighbors. P site atoms are bordered by nitrogens, and R site atoms are bordered by carbons in the PBA structure."
   ]
  },
  {
   "cell_type": "code",
   "execution_count": 44,
   "metadata": {},
   "outputs": [],
   "source": [
    "import pymatgen.analysis.local_env as localenv"
   ]
  },
  {
   "cell_type": "code",
   "execution_count": 45,
   "metadata": {},
   "outputs": [],
   "source": [
    "crys = localenv.CrystalNN()"
   ]
  },
  {
   "cell_type": "code",
   "execution_count": 46,
   "metadata": {
    "scrolled": true
   },
   "outputs": [
    {
     "name": "stdout",
     "output_type": "stream",
     "text": [
      "Full Formula (Ca4 Fe4 Co4 C24 N24)\n",
      "Reduced Formula: CaFeCo(CN)6\n",
      "abc   :   9.950903   9.950903   9.950903\n",
      "angles:  89.996133  90.003867  90.003867\n",
      "Sites (60)\n",
      "  #  SP           a         b         c\n",
      "---  ----  --------  --------  --------\n",
      "  0  Ca    0.75136   0.751277  0.751277\n",
      "  1  Ca    0.248723  0.24864   0.751277\n",
      "  2  Ca    0.248723  0.751277  0.24864\n",
      "  3  Ca    0.248316  0.751684  0.751684\n",
      "  4  Fe    0.000737  0.999263  0.999263\n",
      "  5  Fe    0.499714  0.500286  0.999571\n",
      "  6  Fe    0.000429  0.500286  0.500286\n",
      "  7  Fe    0.499714  0.999571  0.500286\n",
      "  8  Co    0.499483  0.999493  0.999493\n",
      "  9  Co    0.000507  0.500517  0.999493\n",
      " 10  Co    0.000507  0.999493  0.500517\n",
      " 11  Co    0.499812  0.500188  0.500188\n",
      " 12  C     0.309577  0         0\n",
      " 13  C     0.690062  0.999711  0.999711\n",
      " 14  C     0.000289  0.309938  0.999711\n",
      " 15  C     1         0.690423  0\n",
      " 16  C     0.000289  0.999711  0.309938\n",
      " 17  C     1         0         0.690423\n",
      " 18  C     0.191245  0.500999  0.999024\n",
      " 19  C     0.809558  0.500865  0.999068\n",
      " 20  C     0.000932  0.190442  0.500865\n",
      " 21  C     0.000976  0.808755  0.500999\n",
      " 22  C     0.499135  0.999068  0.190442\n",
      " 23  C     0.499001  0.999024  0.808755\n",
      " 24  C     0.499135  0.190442  0.999068\n",
      " 25  C     0.499001  0.808755  0.999024\n",
      " 26  C     0.191245  0.999024  0.500999\n",
      " 27  C     0.809558  0.999068  0.500865\n",
      " 28  C     0.000976  0.500999  0.808755\n",
      " 29  C     0.000932  0.500865  0.190442\n",
      " 30  C     0.309196  0.500287  0.500287\n",
      " 31  C     0.690435  0.500323  0.500323\n",
      " 32  C     0.499677  0.309565  0.500323\n",
      " 33  C     0.499713  0.690804  0.500287\n",
      " 34  C     0.499677  0.500323  0.309565\n",
      " 35  C     0.499713  0.500287  0.690804\n",
      " 36  N     0.191159  0.999156  0.999156\n",
      " 37  N     0.808206  0.998026  0.998026\n",
      " 38  N     0.001974  0.191794  0.998026\n",
      " 39  N     0.000844  0.808841  0.999156\n",
      " 40  N     0.001974  0.998026  0.191794\n",
      " 41  N     0.000844  0.999156  0.808841\n",
      " 42  N     0.309763  0.500558  0.999369\n",
      " 43  N     0.691364  0.501733  0.998258\n",
      " 44  N     0.001742  0.308636  0.501733\n",
      " 45  N     0.000631  0.690237  0.500558\n",
      " 46  N     0.498267  0.998258  0.308636\n",
      " 47  N     0.499442  0.999369  0.690237\n",
      " 48  N     0.498267  0.308636  0.998258\n",
      " 49  N     0.499442  0.690237  0.999369\n",
      " 50  N     0.309763  0.999369  0.500558\n",
      " 51  N     0.691364  0.998258  0.501733\n",
      " 52  N     0.000631  0.500558  0.690237\n",
      " 53  N     0.001742  0.501733  0.308636\n",
      " 54  N     0.190629  0.500735  0.500735\n",
      " 55  N     0.808611  0.501767  0.501767\n",
      " 56  N     0.498233  0.191389  0.501767\n",
      " 57  N     0.499265  0.809371  0.500735\n",
      " 58  N     0.498233  0.501767  0.191389\n",
      " 59  N     0.499265  0.500735  0.809371\n"
     ]
    }
   ],
   "source": [
    "struct=data_1[1]['input']['structure']\n",
    "print(struct)"
   ]
  },
  {
   "cell_type": "code",
   "execution_count": 47,
   "metadata": {},
   "outputs": [
    {
     "name": "stdout",
     "output_type": "stream",
     "text": [
      "Fe\n"
     ]
    }
   ],
   "source": [
    "#Finding the identity of the 4th element by indexing into the 4th object of the struct dictionary:\n",
    "print(struct[4].as_dict()['species'][0]['element'])"
   ]
  },
  {
   "cell_type": "code",
   "execution_count": 48,
   "metadata": {
    "scrolled": true
   },
   "outputs": [
    {
     "data": {
      "text/plain": [
       "[{'site': PeriodicSite: N (1.9015, 9.9428, 9.9428) [0.1912, 0.9992, 0.9992],\n",
       "  'image': [0, 0, 0],\n",
       "  'weight': 1,\n",
       "  'site_index': 36},\n",
       " {'site': PeriodicSite: N (0.0078, 8.0490, 9.9428) [0.0008, 0.8088, 0.9992],\n",
       "  'image': [0, 0, 0],\n",
       "  'weight': 1,\n",
       "  'site_index': 39},\n",
       " {'site': PeriodicSite: N (0.0078, 9.9428, 8.0490) [0.0008, 0.9992, 0.8088],\n",
       "  'image': [0, 0, 0],\n",
       "  'weight': 1,\n",
       "  'site_index': 41},\n",
       " {'site': PeriodicSite: N (0.0189, 11.8598, 9.9317) [0.0020, 1.1918, 0.9980],\n",
       "  'image': [0, 1, 0],\n",
       "  'weight': 1,\n",
       "  'site_index': 38},\n",
       " {'site': PeriodicSite: N (0.0189, 9.9317, 11.8598) [0.0020, 0.9980, 1.1918],\n",
       "  'image': [0, 0, 1],\n",
       "  'weight': 1,\n",
       "  'site_index': 40},\n",
       " {'site': PeriodicSite: N (-1.9092, 9.9317, 9.9317) [-0.1918, 0.9980, 0.9980],\n",
       "  'image': [-1, 0, 0],\n",
       "  'weight': 1,\n",
       "  'site_index': 37}]"
      ]
     },
     "execution_count": 48,
     "metadata": {},
     "output_type": "execute_result"
    }
   ],
   "source": [
    "#Use the get_nn_info function to find the nearest neighbor of the 4th indexed element in struct, a pymatgen structure.\n",
    "nn_objs = crys.get_nn_info(struct, 4)\n",
    "nn_objs"
   ]
  },
  {
   "cell_type": "markdown",
   "metadata": {},
   "source": [
    "As we can see, this Fe atom is bordered by nitrogens, which tells us that it is a P site atom in the strucutre."
   ]
  },
  {
   "cell_type": "code",
   "execution_count": 49,
   "metadata": {},
   "outputs": [
    {
     "data": {
      "text/plain": [
       "'N'"
      ]
     },
     "execution_count": 49,
     "metadata": {},
     "output_type": "execute_result"
    }
   ],
   "source": [
    "nn_objs[0]['site'].as_dict()['species'][0]['element']"
   ]
  },
  {
   "cell_type": "markdown",
   "metadata": {},
   "source": [
    "### Implementing CrystalNN into full method for a single PBA"
   ]
  },
  {
   "cell_type": "markdown",
   "metadata": {},
   "source": [
    "Now that we have know how to use CrystalNN to find the nearest neighbors, we need to integrate this method into our workflow so we can output the CrystalNN-computed P and R atoms into a final dataframe alongside the composition and e_above_hull values.\n",
    "\n",
    "Note that to use CrystalNN, we need to input a pymatgen structure object, which is accessed from the list of structures data_1, while the method to get e_above_hull values uses pba_entries, a list of pymatgen entries. This means we can't just loop through data_1 and add on 2 extra columns to the df because the structures will not necessarily match up (We technically could but we risk running into an off-by-1 error because of some of the empty first element of data_1. Also, this will make for a more fluid and integrated method in the end where we only loop through data_1 one time instead of twice.)\n",
    "\n",
    "Let's walk through the all of the steps for the first PBA in data_1: making a pymatgen entry, accessing data from the Materials Project, applying the correction, computing e_above_hull, and using CrystalNN to get the P and R atoms."
   ]
  },
  {
   "cell_type": "code",
   "execution_count": 50,
   "metadata": {
    "scrolled": false
   },
   "outputs": [],
   "source": [
    "#Recall that data_1[0] is an empty structure, so we'll analyze data_1[1]:\n",
    "#For this first part, we simply follow the method laid out in sections on creating pymatgen entries, accessing MP \n",
    "#data, and applying corrections.\n",
    "\n",
    "#Creating pymatgen entry:\n",
    "struct=data_1[1]['input']['structure']\n",
    "pba_entry = ComputedEntry(composition=struct.composition,\n",
    "                  energy=data_1[1]['output']['energy'],\n",
    "                      parameters = {\"nelect\": data_1[1]['input']['parameters']['NELECT'],\n",
    "                                    \"hubbards\": data_1[1]['input']['hubbards'],\n",
    "                                    \"potcar_spec\": data_1[1]['input']['potcar_spec'],\n",
    "                                    \"is_hubbard\": data_1[1]['input']['is_hubbard']})\n",
    "\n",
    "#Accessing MP data for structures with the any of the same atoms:\n",
    "comp = pba_entry.composition.as_dict().keys()\n",
    "entries = mpr.get_entries_in_chemsys(comp)\n",
    "#Adding our pba to this list of pymatgen entries:\n",
    "entries.append(pba_entry)\n",
    "\n",
    "#Applying correction using MPRester:\n",
    "corrected_entries = mpc.process_entries(entries)\n",
    "\n",
    "#Making phase diagram and accessing e_above_hull:\n",
    "phase_d = PhaseDiagram(corrected_entries)\n",
    "e_above_hull = phase_d.get_e_above_hull(corrected_entries[-1])"
   ]
  },
  {
   "cell_type": "code",
   "execution_count": 51,
   "metadata": {},
   "outputs": [
    {
     "name": "stdout",
     "output_type": "stream",
     "text": [
      "A atom is Ca\n",
      "P atom is Fe\n",
      "R atom is Co\n",
      "Number of A atoms = 4.0\n"
     ]
    }
   ],
   "source": [
    "#Now let's develop a method for finding the P and R atoms:\n",
    "#Recall that we are using index 1 in the data_1 list of structures.\n",
    "#Also note that because we can't rely on the order in which the elements are listed, we have to go through all the \n",
    "# elements in each structure and use the fact that the carbon a\n",
    "import pymatgen.analysis.local_env as localenv\n",
    "crys = localenv.CrystalNN()\n",
    "\n",
    "struct = data_1[1]['input']['structure']\n",
    "P_atom_nn, R_atom_nn = '','' #Initializing A, P, and R atoms\n",
    "for j in range(len(struct)): #Looping through all of the elements in the PBA\n",
    "    atom = struct[j].as_dict()['species'][0]['element']\n",
    "    if atom == 'C' and len(R_atom_nn)==0:\n",
    "        nn_objs = crys.get_nn_info(struct, j) #getting the nearest neighbors for atom, which is the jth atom in struct\n",
    "        for k in range(len(nn_objs)):\n",
    "            nn = nn_objs[k]['site'].as_dict()['species'][0]['element']\n",
    "            if nn != 'N':\n",
    "                R_atom_nn = nn\n",
    "                break\n",
    "    elif atom == 'N' and len(P_atom_nn)==0:\n",
    "        nn_objs = crys.get_nn_info(struct, j) #getting the nearest neighbors for atom, which is the jth atom in struct\n",
    "        for k in range(len(nn_objs)):\n",
    "            nn = nn_objs[k]['site'].as_dict()['species'][0]['element']\n",
    "            if nn != 'C':\n",
    "                P_atom_nn = nn\n",
    "                break\n",
    "for j in struct.composition.as_dict().keys():\n",
    "    if j not in [P_atom_nn,R_atom_nn,'C','N']:\n",
    "        A_atom_nn = j\n",
    "        break\n",
    "\n",
    "print('A atom is ' + str(A_atom_nn))\n",
    "print('P atom is ' + str(P_atom_nn))\n",
    "print('R atom is ' + str(R_atom_nn))\n",
    "print('Number of A atoms = ' + str(struct.composition.as_dict()[A_atom_nn]))"
   ]
  },
  {
   "cell_type": "code",
   "execution_count": 52,
   "metadata": {},
   "outputs": [
    {
     "data": {
      "text/plain": [
       "defaultdict(float, {'Ca': 4.0, 'Fe': 4.0, 'Co': 4.0, 'C': 24.0, 'N': 24.0})"
      ]
     },
     "execution_count": 52,
     "metadata": {},
     "output_type": "execute_result"
    }
   ],
   "source": [
    "struct.composition.as_dict()"
   ]
  },
  {
   "cell_type": "code",
   "execution_count": 53,
   "metadata": {},
   "outputs": [
    {
     "data": {
      "text/plain": [
       "4.0"
      ]
     },
     "execution_count": 53,
     "metadata": {},
     "output_type": "execute_result"
    }
   ],
   "source": [
    "struct.composition.as_dict()['Ca']"
   ]
  },
  {
   "cell_type": "markdown",
   "metadata": {},
   "source": [
    "Now that we know this method works for parsing the A, P, and R atoms accurately, we loop across each pba in data_1 with this method to create a pandas dataframe containing the composition, e_above_hull, and A,P, and R atoms, and number of A atoms."
   ]
  },
  {
   "cell_type": "markdown",
   "metadata": {},
   "source": [
    "### Main Loop"
   ]
  },
  {
   "cell_type": "code",
   "execution_count": 61,
   "metadata": {},
   "outputs": [],
   "source": [
    "# pba_e_hull_df = pd.DataFrame(index=range(len(data_1)),columns=['Composition','e_above_hull','A_atom','P_atom','R_atom','n_A'])\n",
    "# for i in range(len(data_1)):\n",
    "#     if 'input' not in data_1[i]: #in case of an empty entry\n",
    "#         continue\n",
    "#        #Creating pymatgen entry:\n",
    "#     struct=data_1[i]['input']['structure']\n",
    "#     pba_entry = ComputedEntry(composition=struct.composition,\n",
    "#                               energy=data_1[i]['output']['energy'],\n",
    "#                               parameters = {\"nelect\": data_1[i]['input']['parameters']['NELECT'],\n",
    "#                                             \"hubbards\": data_1[i]['input']['hubbards'],\n",
    "#                                             \"potcar_spec\": data_1[i]['input']['potcar_spec'],\n",
    "#                                             \"is_hubbard\": data_1[i]['input']['is_hubbard']})\n",
    "\n",
    "#     #Accessing MP data for structures with the any of the same atoms:\n",
    "#     comp = pba_entry.composition.as_dict().keys()\n",
    "#     entries = mpr.get_entries_in_chemsys(comp)\n",
    "#     #Adding our pba to this list of pymatgen entries:\n",
    "#     entries.append(pba_entry)\n",
    "\n",
    "#     #Applying correction using MPRester:\n",
    "#     corrected_entries = mpc.process_entries(entries)\n",
    "\n",
    "#     #Making phase diagram and accessing e_above_hull:\n",
    "#     phase_d = PhaseDiagram(corrected_entries)\n",
    "#     e_above_hull = phase_d.get_e_above_hull(corrected_entries[-1])\n",
    "    \n",
    "#     #Adding the values known so far to the main df:\n",
    "#     pba_e_hull_df.loc[i, 'Composition'] = entries[-1].composition.formula\n",
    "#     pba_e_hull_df.loc[i, 'e_above_hull'] = phase_d.get_e_above_hull(entries[-1])\n",
    "    \n",
    "#     struct = data_1[i]['input']['structure']\n",
    "#     A_atom_nn,P_atom_nn, R_atom_nn = '','','' #Initializing A, P, and R atoms\n",
    "#     for j in range(len(struct)): #Looping through all of the elements in the PBA\n",
    "#         atom = struct[j].as_dict()['species'][0]['element']\n",
    "#         if atom == 'C' and len(R_atom_nn)==0:\n",
    "#             nn_objs = crys.get_nn_info(struct, j) #getting the nearest neighbors for atom, which is the jth atom in struct\n",
    "#             for k in range(len(nn_objs)):\n",
    "#                 nn = nn_objs[k]['site'].as_dict()['species'][0]['element']\n",
    "#                 if nn != 'N':\n",
    "#                     R_atom_nn = nn\n",
    "#                     break\n",
    "#         elif atom == 'N' and len(P_atom_nn)==0:\n",
    "#             nn_objs = crys.get_nn_info(struct, j) #getting the nearest neighbors for atom, which is the jth atom in struct\n",
    "#             for k in range(len(nn_objs)):\n",
    "#                 nn = nn_objs[k]['site'].as_dict()['species'][0]['element']\n",
    "#                 if nn != 'C':\n",
    "#                     P_atom_nn = nn\n",
    "#                     break\n",
    "#     for j in struct.composition.as_dict().keys():\n",
    "#         if j not in [P_atom_nn,R_atom_nn,'C','N']:\n",
    "#             A_atom_nn = j\n",
    "#             break\n",
    "    \n",
    "#     #Adding the A, P, and R atoms to main df:\n",
    "#     pba_e_hull_df.loc[i, 'A_atom'] = A_atom_nn\n",
    "#     pba_e_hull_df.loc[i, 'P_atom'] = P_atom_nn\n",
    "#     pba_e_hull_df.loc[i, 'R_atom'] = R_atom_nn\n",
    "#     pba_e_hull_df.loc[i, 'n_A'] = struct.composition.as_dict()[A_atom_nn]\n",
    "\n"
   ]
  },
  {
   "cell_type": "code",
   "execution_count": null,
   "metadata": {},
   "outputs": [],
   "source": [
    "# #Getting rid of the rows that are either empty or contain a non-PBA structure:\n",
    "# pba_e_hull_df = pba_e_hull_df[1:]\n",
    "# pba_e_hull_df = pba_e_hull_df.drop(457, axis=0)"
   ]
  },
  {
   "cell_type": "code",
   "execution_count": 89,
   "metadata": {},
   "outputs": [],
   "source": [
    "# #Saving to file as pba_e_hull_df.csv\n",
    "# pba_e_hull_df.to_csv('pba_e_hull_df.csv')"
   ]
  },
  {
   "cell_type": "code",
   "execution_count": 90,
   "metadata": {},
   "outputs": [],
   "source": [
    "#Importing pba_e_hull_df back into the workspace:\n",
    "pba_e_hull_df = pd.read_csv('pba_e_hull_df.csv')\n",
    "pba_e_hull_df.drop('Unnamed: 0', axis = 1, inplace = True)"
   ]
  },
  {
   "cell_type": "code",
   "execution_count": 95,
   "metadata": {},
   "outputs": [
    {
     "data": {
      "text/html": [
       "<div>\n",
       "<style scoped>\n",
       "    .dataframe tbody tr th:only-of-type {\n",
       "        vertical-align: middle;\n",
       "    }\n",
       "\n",
       "    .dataframe tbody tr th {\n",
       "        vertical-align: top;\n",
       "    }\n",
       "\n",
       "    .dataframe thead th {\n",
       "        text-align: right;\n",
       "    }\n",
       "</style>\n",
       "<table border=\"1\" class=\"dataframe\">\n",
       "  <thead>\n",
       "    <tr style=\"text-align: right;\">\n",
       "      <th></th>\n",
       "      <th>Composition</th>\n",
       "      <th>e_above_hull</th>\n",
       "      <th>A_atom</th>\n",
       "      <th>P_atom</th>\n",
       "      <th>R_atom</th>\n",
       "      <th>n_A</th>\n",
       "    </tr>\n",
       "  </thead>\n",
       "  <tbody>\n",
       "    <tr>\n",
       "      <th>0</th>\n",
       "      <td>Ca4 Fe4 Co4 C24 N24</td>\n",
       "      <td>0.435563</td>\n",
       "      <td>Ca</td>\n",
       "      <td>Fe</td>\n",
       "      <td>Co</td>\n",
       "      <td>4.0</td>\n",
       "    </tr>\n",
       "    <tr>\n",
       "      <th>1</th>\n",
       "      <td>Mg4 Cr4 Os4 C24 N24</td>\n",
       "      <td>0.319625</td>\n",
       "      <td>Mg</td>\n",
       "      <td>Cr</td>\n",
       "      <td>Os</td>\n",
       "      <td>4.0</td>\n",
       "    </tr>\n",
       "    <tr>\n",
       "      <th>2</th>\n",
       "      <td>Ca4 Mn4 Fe4 C24 N24</td>\n",
       "      <td>0.382620</td>\n",
       "      <td>Ca</td>\n",
       "      <td>Fe</td>\n",
       "      <td>Mn</td>\n",
       "      <td>4.0</td>\n",
       "    </tr>\n",
       "    <tr>\n",
       "      <th>3</th>\n",
       "      <td>Ca4 Mn4 Os4 C24 N24</td>\n",
       "      <td>0.303886</td>\n",
       "      <td>Ca</td>\n",
       "      <td>Mn</td>\n",
       "      <td>Os</td>\n",
       "      <td>4.0</td>\n",
       "    </tr>\n",
       "    <tr>\n",
       "      <th>4</th>\n",
       "      <td>Li4 Cr8 C24 N24</td>\n",
       "      <td>0.320146</td>\n",
       "      <td>Li</td>\n",
       "      <td>Cr</td>\n",
       "      <td>Cr</td>\n",
       "      <td>4.0</td>\n",
       "    </tr>\n",
       "  </tbody>\n",
       "</table>\n",
       "</div>"
      ],
      "text/plain": [
       "           Composition  e_above_hull A_atom P_atom R_atom  n_A\n",
       "0  Ca4 Fe4 Co4 C24 N24      0.435563     Ca     Fe     Co  4.0\n",
       "1  Mg4 Cr4 Os4 C24 N24      0.319625     Mg     Cr     Os  4.0\n",
       "2  Ca4 Mn4 Fe4 C24 N24      0.382620     Ca     Fe     Mn  4.0\n",
       "3  Ca4 Mn4 Os4 C24 N24      0.303886     Ca     Mn     Os  4.0\n",
       "4      Li4 Cr8 C24 N24      0.320146     Li     Cr     Cr  4.0"
      ]
     },
     "execution_count": 95,
     "metadata": {},
     "output_type": "execute_result"
    }
   ],
   "source": [
    "pba_e_hull_df.head()"
   ]
  },
  {
   "cell_type": "markdown",
   "metadata": {},
   "source": [
    "Next Steps:\n",
    "- Sort the structures based on composition so that the same PBAs with different numbers of A atoms are grouped together.\n",
    "- Start looking at trends in e_above_hull data between PBA structure groups."
   ]
  },
  {
   "cell_type": "code",
   "execution_count": null,
   "metadata": {},
   "outputs": [],
   "source": []
  }
 ],
 "metadata": {
  "kernelspec": {
   "display_name": "Python 3",
   "language": "python",
   "name": "python3"
  },
  "language_info": {
   "codemirror_mode": {
    "name": "ipython",
    "version": 3
   },
   "file_extension": ".py",
   "mimetype": "text/x-python",
   "name": "python",
   "nbconvert_exporter": "python",
   "pygments_lexer": "ipython3",
   "version": "3.6.5"
  }
 },
 "nbformat": 4,
 "nbformat_minor": 2
}
