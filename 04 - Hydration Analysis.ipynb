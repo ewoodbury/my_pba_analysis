{
 "cells": [
  {
   "cell_type": "markdown",
   "metadata": {},
   "source": [
    "# Hydration Analysis"
   ]
  },
  {
   "cell_type": "code",
   "execution_count": 1,
   "metadata": {},
   "outputs": [],
   "source": [
    "import numpy as np\n",
    "import pandas as pd\n",
    "import matplotlib.pyplot as plt\n",
    "%matplotlib inline\n",
    "plt.rcParams['figure.figsize'] = [12,8]"
   ]
  },
  {
   "cell_type": "markdown",
   "metadata": {},
   "source": [
    "Importing the file containing the PBAs with water molecules:"
   ]
  },
  {
   "cell_type": "code",
   "execution_count": 2,
   "metadata": {},
   "outputs": [],
   "source": [
    "# with open('pba_w_APR.json', 'r') as file :\n",
    "#   pba_json = file.read()"
   ]
  },
  {
   "cell_type": "code",
   "execution_count": 3,
   "metadata": {},
   "outputs": [],
   "source": [
    "# print(pba_json[:1000])"
   ]
  },
  {
   "cell_type": "code",
   "execution_count": 4,
   "metadata": {},
   "outputs": [],
   "source": [
    "from monty.serialization import loadfn"
   ]
  },
  {
   "cell_type": "code",
   "execution_count": 5,
   "metadata": {},
   "outputs": [],
   "source": [
    "data_1 = loadfn('pba_w_APR.json')"
   ]
  },
  {
   "cell_type": "code",
   "execution_count": 6,
   "metadata": {
    "scrolled": true
   },
   "outputs": [],
   "source": [
    "# data_1[0]"
   ]
  },
  {
   "cell_type": "code",
   "execution_count": 7,
   "metadata": {},
   "outputs": [],
   "source": [
    "import pymatgen as mg\n",
    "from pymatgen.entries.computed_entries import ComputedEntry"
   ]
  },
  {
   "cell_type": "code",
   "execution_count": 8,
   "metadata": {},
   "outputs": [],
   "source": [
    "pba_entries = []\n",
    "for i in range((len(data_1))):\n",
    "    #Creating pymatgen entry:\n",
    "    entry = ComputedEntry(composition=data_1[i]['input']['structure'].composition,\n",
    "                              energy=data_1[i]['output']['energy'],\n",
    "                              parameters = {\"nelect\": data_1[i]['input']['parameters']['NELECT'],\n",
    "                                            \"hubbards\": data_1[i]['input']['hubbards'],\n",
    "                                            \"potcar_spec\": data_1[i]['input']['potcar_spec'],\n",
    "                                            \"is_hubbard\": data_1[i]['input']['is_hubbard']})\n",
    "    \n",
    "#     if 'H' in entry.composition or 'O' in entry.composition: #Filtering out structures with hydrogen or oxygen\n",
    "#         pba_entries.append('')\n",
    "    if entry.composition.as_dict()['C'] != 24 or entry.composition.as_dict()['N'] != 24:\n",
    "        #Filtering out structures that don't have 24 Cs or 24 Ns - these are also not PBAs\n",
    "        pba_entries.append('')\n",
    "    else:\n",
    "        pba_entries.append(entry)"
   ]
  },
  {
   "cell_type": "code",
   "execution_count": 9,
   "metadata": {},
   "outputs": [
    {
     "data": {
      "text/plain": [
       "ComputedEntry None - Ca4 Fe4 Co4 C24 N24\n",
       "Energy = -476.8671\n",
       "Correction = 0.0000\n",
       "Parameters:\n",
       "nelect = 348.0\n",
       "hubbards = {}\n",
       "potcar_spec = [{'titel': 'PAW_PBE Ca_sv 06Sep2000', 'hash': 'eb006721e214c04b3c13146e81b3a27d'}, {'titel': 'PAW_PBE Fe_pv 06Sep2000', 'hash': '5963411539032ec3298fa675a32c5e64'}, {'titel': 'PAW_PBE Co 06Sep2000', 'hash': 'b169bca4e137294d2ab3df8cbdd09083'}, {'titel': 'PAW_PBE C 08Apr2002', 'hash': 'c0a8167dbb174fe492a3db7f5006c0f8'}, {'titel': 'PAW_PBE N 08Apr2002', 'hash': 'b98fd027ddebc67da4063ff2cabbc04b'}]\n",
       "is_hubbard = False\n",
       "Data:"
      ]
     },
     "execution_count": 9,
     "metadata": {},
     "output_type": "execute_result"
    }
   ],
   "source": [
    "pba_entries[0]"
   ]
  },
  {
   "cell_type": "code",
   "execution_count": 10,
   "metadata": {},
   "outputs": [
    {
     "data": {
      "text/plain": [
       "3783"
      ]
     },
     "execution_count": 10,
     "metadata": {},
     "output_type": "execute_result"
    }
   ],
   "source": [
    "len(pba_entries)"
   ]
  },
  {
   "cell_type": "code",
   "execution_count": 11,
   "metadata": {},
   "outputs": [
    {
     "name": "stdout",
     "output_type": "stream",
     "text": [
      "1255\n",
      "1261\n",
      "1287\n",
      "1288\n",
      "1289\n",
      "1290\n",
      "1292\n",
      "1293\n",
      "1311\n",
      "1314\n",
      "1319\n",
      "1324\n",
      "1325\n",
      "1525\n",
      "1532\n",
      "1533\n",
      "1547\n",
      "1567\n",
      "1568\n",
      "1569\n",
      "1613\n",
      "1615\n",
      "1618\n",
      "1619\n",
      "1621\n",
      "1640\n",
      "1642\n",
      "1864\n",
      "1866\n",
      "1874\n",
      "1875\n",
      "1876\n",
      "1877\n",
      "1879\n",
      "1880\n",
      "1881\n",
      "1882\n",
      "1884\n",
      "1885\n",
      "1886\n",
      "1889\n",
      "1890\n",
      "1891\n",
      "1894\n",
      "1896\n",
      "1900\n",
      "1901\n",
      "1903\n",
      "1904\n",
      "1906\n",
      "1907\n",
      "1908\n",
      "1909\n",
      "1910\n",
      "1912\n",
      "1913\n",
      "1914\n",
      "1915\n",
      "1916\n",
      "1917\n",
      "1918\n",
      "1919\n",
      "1920\n",
      "1921\n",
      "1922\n",
      "1923\n",
      "1924\n",
      "1925\n",
      "1926\n",
      "1927\n",
      "1928\n",
      "1929\n",
      "1930\n",
      "1931\n",
      "1932\n",
      "1933\n",
      "1934\n",
      "1935\n",
      "1936\n",
      "1937\n",
      "1938\n",
      "1939\n",
      "1940\n",
      "1941\n",
      "1942\n",
      "1943\n",
      "1944\n",
      "1945\n",
      "1946\n",
      "1947\n",
      "1948\n",
      "1949\n",
      "1950\n",
      "1951\n",
      "1952\n",
      "1953\n",
      "1954\n",
      "1955\n",
      "1956\n",
      "1957\n",
      "1958\n",
      "1959\n",
      "1960\n",
      "1961\n",
      "1962\n",
      "1963\n",
      "1964\n",
      "2042\n",
      "2043\n",
      "2044\n",
      "2045\n",
      "2046\n",
      "2047\n",
      "2048\n",
      "2049\n",
      "2050\n",
      "2051\n",
      "2052\n",
      "2053\n",
      "2054\n",
      "2055\n",
      "2056\n",
      "2057\n",
      "2058\n",
      "2059\n",
      "2060\n",
      "2061\n",
      "2062\n",
      "2063\n",
      "2064\n",
      "2065\n",
      "2066\n",
      "2067\n",
      "2068\n",
      "2069\n",
      "2070\n",
      "2071\n",
      "2072\n",
      "2073\n",
      "2074\n",
      "2075\n",
      "2076\n",
      "2077\n",
      "2078\n",
      "2079\n",
      "2080\n",
      "2081\n",
      "2082\n",
      "2083\n",
      "2084\n",
      "2085\n",
      "2086\n",
      "2087\n",
      "2088\n",
      "2089\n",
      "2090\n",
      "2091\n",
      "2092\n",
      "2093\n",
      "2094\n",
      "2095\n",
      "2096\n",
      "2097\n",
      "2098\n",
      "2099\n",
      "2100\n",
      "2101\n",
      "2102\n",
      "2103\n",
      "2104\n",
      "2105\n",
      "2106\n",
      "2107\n",
      "2108\n",
      "2109\n",
      "2110\n",
      "2111\n",
      "2112\n",
      "2113\n",
      "2114\n",
      "2115\n",
      "2116\n",
      "2117\n",
      "2118\n",
      "2119\n",
      "2120\n",
      "2121\n",
      "2122\n",
      "2123\n",
      "2124\n",
      "2125\n",
      "2126\n",
      "2127\n",
      "2128\n",
      "2129\n",
      "2130\n",
      "2131\n",
      "2132\n",
      "2133\n",
      "2134\n",
      "2135\n",
      "2136\n",
      "2137\n",
      "2138\n",
      "2139\n",
      "2140\n",
      "2141\n",
      "2142\n",
      "2143\n",
      "2144\n",
      "2145\n",
      "2146\n",
      "2147\n",
      "2148\n",
      "2149\n",
      "2150\n",
      "2151\n",
      "2152\n",
      "2153\n",
      "2154\n",
      "2155\n",
      "2156\n",
      "2157\n",
      "2158\n",
      "2159\n",
      "2160\n",
      "2161\n",
      "2162\n",
      "2163\n",
      "2164\n",
      "2165\n",
      "2166\n",
      "2167\n",
      "2168\n",
      "2169\n",
      "2170\n",
      "2171\n",
      "2172\n",
      "2173\n",
      "2174\n",
      "2175\n",
      "2176\n",
      "2177\n",
      "2178\n",
      "2179\n",
      "2180\n",
      "2181\n",
      "2182\n",
      "2183\n",
      "2184\n",
      "2185\n",
      "2186\n",
      "2187\n",
      "2188\n",
      "2189\n",
      "2190\n",
      "2191\n",
      "2192\n",
      "2193\n",
      "2194\n",
      "2195\n",
      "2196\n",
      "2197\n",
      "2198\n",
      "2199\n",
      "2200\n",
      "2201\n",
      "2202\n",
      "2203\n",
      "2204\n",
      "2205\n",
      "2206\n",
      "2207\n",
      "2208\n",
      "2209\n",
      "2210\n",
      "2211\n",
      "2212\n",
      "2213\n",
      "2214\n",
      "2215\n",
      "2216\n",
      "2217\n",
      "2218\n",
      "2219\n",
      "2220\n",
      "2221\n",
      "2222\n",
      "2223\n",
      "2224\n",
      "2225\n",
      "2226\n",
      "2227\n",
      "2228\n",
      "2229\n",
      "2230\n",
      "2231\n",
      "2232\n",
      "2233\n",
      "2234\n",
      "2235\n",
      "2236\n",
      "2237\n",
      "2238\n",
      "2239\n",
      "2240\n",
      "2241\n",
      "2242\n",
      "2243\n",
      "2244\n",
      "2245\n",
      "2246\n",
      "2247\n",
      "2248\n",
      "2249\n",
      "2250\n",
      "2251\n",
      "2252\n",
      "2253\n",
      "2254\n",
      "2255\n",
      "2256\n",
      "2257\n",
      "2258\n",
      "2259\n",
      "2260\n",
      "2261\n",
      "3755\n",
      "3756\n"
     ]
    },
    {
     "data": {
      "text/plain": [
       "ComputedEntry None - Mn4 Fe4 H2 C24 N24 O1\n",
       "Energy = -492.5684\n",
       "Correction = 0.0000\n",
       "Parameters:\n",
       "nelect = 332.0\n",
       "hubbards = {}\n",
       "potcar_spec = [{'titel': 'PAW_PBE Mn_pv 07Sep2000', 'hash': 'fa52f891f234d49bb4cb5ea96aae8f98'}, {'titel': 'PAW_PBE Fe_pv 06Sep2000', 'hash': '5963411539032ec3298fa675a32c5e64'}, {'titel': 'PAW_PBE H 15Jun2001', 'hash': 'bb43c666e3d36577264afe07669e9582'}, {'titel': 'PAW_PBE C 08Apr2002', 'hash': 'c0a8167dbb174fe492a3db7f5006c0f8'}, {'titel': 'PAW_PBE N 08Apr2002', 'hash': 'b98fd027ddebc67da4063ff2cabbc04b'}, {'titel': 'PAW_PBE O 08Apr2002', 'hash': '7a25bc5b9a5393f46600a4939d357982'}]\n",
       "is_hubbard = False\n",
       "Data:"
      ]
     },
     "execution_count": 11,
     "metadata": {},
     "output_type": "execute_result"
    }
   ],
   "source": [
    "pba_h2o = []\n",
    "for i in range(len(pba_entries)):\n",
    "    if pba_entries[i] == '':\n",
    "        continue\n",
    "    if 'O' in pba_entries[i].composition.as_dict().keys():\n",
    "        pba_h2o.append(pba_entries[i])\n",
    "        print(i)\n",
    "pba_h2o[0]"
   ]
  },
  {
   "cell_type": "code",
   "execution_count": 12,
   "metadata": {},
   "outputs": [
    {
     "data": {
      "text/plain": [
       "329"
      ]
     },
     "execution_count": 12,
     "metadata": {},
     "output_type": "execute_result"
    }
   ],
   "source": [
    "len(pba_h2o)"
   ]
  },
  {
   "cell_type": "markdown",
   "metadata": {},
   "source": [
    "From this, we see that there are 329 PBAs with water molecules.\n",
    "\n",
    "In previous work, we found that the relationship between # water molecules and (Total PBA energy - energy of water molecules) is linear. We will use this to calculate the e_above_hull for hydrated molecules, which can then be used to find the stabilization effect of intercalated water."
   ]
  },
  {
   "cell_type": "code",
   "execution_count": 13,
   "metadata": {},
   "outputs": [],
   "source": [
    "from pymatgen import MPRester\n",
    "mpr = MPRester(api_key='clRGHmBDgp1xt9zA')\n",
    "from pymatgen.entries.compatibility import MaterialsProjectCompatibility\n",
    "mpc = MaterialsProjectCompatibility()\n",
    "from pymatgen.analysis.phase_diagram import PhaseDiagram, PDPlotter\n",
    "import pymatgen.analysis.local_env as localenv\n",
    "crys = localenv.CrystalNN()"
   ]
  },
  {
   "cell_type": "code",
   "execution_count": 14,
   "metadata": {},
   "outputs": [],
   "source": [
    "def my_crystal_nn(struct):\n",
    "    '''\n",
    "    Returns the A, P, and R atoms of a PBA in a list [A,P,R].\n",
    "    struct is data in the form data_1[i]['input']['structure'] and must be a PBA.\n",
    "    Uses pymatgen's CrystalNN method.\n",
    "    '''\n",
    "    A_atom_nn,P_atom_nn, R_atom_nn = '','','' #Initializing A, P, and R atoms\n",
    "    for j in range(len(struct)): #Looping through all of the elements in the PBA\n",
    "        atom = struct[j].as_dict()['species'][0]['element']\n",
    "        \n",
    "        if atom == 'C' and len(R_atom_nn)==0:\n",
    "            nn_objs = crys.get_nn_info(struct, j) #getting the nearest neighbors for atom, which is the jth atom in struct\n",
    "            for k in range(len(nn_objs)):\n",
    "                nn = nn_objs[k]['site'].as_dict()['species'][0]['element']\n",
    "                if nn != 'N':\n",
    "                    R_atom_nn = nn\n",
    "                    break\n",
    "                    \n",
    "        elif atom == 'N' and len(P_atom_nn)==0:\n",
    "            nn_objs = crys.get_nn_info(struct, j) #getting the nearest neighbors for atom, which is the jth atom in struct\n",
    "            for k in range(len(nn_objs)):\n",
    "                nn = nn_objs[k]['site'].as_dict()['species'][0]['element']\n",
    "                if nn != 'C':\n",
    "                    P_atom_nn = nn\n",
    "                    break\n",
    "                    \n",
    "    for j in struct.composition.as_dict().keys():\n",
    "        if j not in [P_atom_nn,R_atom_nn,'C','N','H','O']:\n",
    "            A_atom_nn = j\n",
    "            break\n",
    "    return [A_atom_nn,P_atom_nn,R_atom_nn]"
   ]
  },
  {
   "cell_type": "markdown",
   "metadata": {},
   "source": [
    "### Main Loop\n",
    "Here, we extract the total molecule energy, A/P/R atoms, # A atoms, and # water molecules for each PBA into a dataframe."
   ]
  },
  {
   "cell_type": "markdown",
   "metadata": {},
   "source": [
    "#### Actual main loop"
   ]
  },
  {
   "cell_type": "code",
   "execution_count": 15,
   "metadata": {},
   "outputs": [
    {
     "name": "stdout",
     "output_type": "stream",
     "text": [
      "0th iteration\n",
      "250th iteration\n",
      "500th iteration\n",
      "750th iteration\n",
      "1000th iteration\n",
      "1250th iteration\n",
      "1500th iteration\n",
      "1750th iteration\n",
      "2000th iteration\n",
      "2250th iteration\n",
      "2500th iteration\n",
      "2750th iteration\n",
      "3000th iteration\n",
      "3250th iteration\n",
      "3500th iteration\n",
      "3750th iteration\n"
     ]
    }
   ],
   "source": [
    "pba_e_hull_df = pd.DataFrame(index=range(len(data_1)),columns=['Composition','Formula','Energy','P_atom','R_atom','n_H2O'])\n",
    "for i in range(len(pba_entries)):\n",
    "    try:\n",
    "        if i%250 == 0:\n",
    "            print(str(i) + 'th iteration') #Just to make it easier to keep track of how the algorithm is running\n",
    "            \n",
    "        struct=data_1[i]['input']['structure']\n",
    "        pba_entry = pba_entries[i]\n",
    "        if type(pba_entry) == str: #If the entry is string, then it was filtered out and we didn't create a pymatgen entry for it.\n",
    "            continue\n",
    "        comp = pba_entry.composition\n",
    "\n",
    "        h2o_flag = False #Setting up a flag to tell whether this PBA is hydrated\n",
    "        if 'O' in comp.as_dict().keys():\n",
    "            h2o_flag = True\n",
    "\n",
    "        comp_dict = {'structure': my_crystal_nn(struct)} #Using my custom CrystalNN function to get the A,P,R\n",
    "        \n",
    "        if comp_dict['structure'][0] != '': #if the A atom field is not empty:\n",
    "            continue #for this analysis, we're skipping all PBAs that contain A atoms.\n",
    "            #This will leave us only with the PBAs that either have H2Os or have zero A atoms and zero H2O.\n",
    "\n",
    "        repeat_flag = False #initializing flag to indicate whether to move on to next structure because this is a repeat\n",
    "        for prev in range(i): #loop through previously created entriaes to check if there are for the exact same PBA:\n",
    "            if (#(comp_dict['structure'][0] == pba_e_hull_df.iloc[prev,3]) & #Checks if A atom is same\n",
    "                (comp_dict['structure'][1] == pba_e_hull_df.loc[prev,'P_atom']) & #Checks P atom\n",
    "                (comp_dict['structure'][2] == pba_e_hull_df.loc[prev,'R_atom']) & #Checks R atom\n",
    "                #(comp.as_dict()[comp_dict['structure'][0]] == pba_e_hull_df.loc[prev,'n_A']) & #Checks # of A atoms\n",
    "                (comp.as_dict()['O'] == pba_e_hull_df.loc[prev,'n_H2O'])): #checks # water molecules\n",
    "                repeat_flag = True\n",
    "                break\n",
    "        if repeat_flag:\n",
    "            continue\n",
    "\n",
    "        #Making list of other PBAs from list pba_entries with the same composition:\n",
    "        same_comps = []\n",
    "        for j in range(i, len(pba_entries)):\n",
    "            if type(pba_entries[j]) is str: #skip empty entries\n",
    "                continue\n",
    "            if pba_entries[j].composition == comp:\n",
    "                same_comps.append([pba_entries[j],j])\n",
    "\n",
    "        for k in range(len(same_comps)):\n",
    "            comp_dict[same_comps[k][1]] = my_crystal_nn(data_1[same_comps[k][1]]['input']['structure'])\n",
    "        #comp_dict is now a dictionary of all structures in data_1 with the same composition. The dictionary index\n",
    "        #is the index of the structure in data_1, and the value is a list of the [A,P,R] atom identities.\n",
    "\n",
    "        for k in range(len(same_comps)):\n",
    "            if comp_dict[same_comps[k][1]][1] != comp_dict['structure'][1] or comp_dict[same_comps[k][1]][2] != comp_dict['structure'][2]:\n",
    "                del comp_dict[same_comps[k][1]]\n",
    "        #comp_dict is now a dictionary of the structures in data_1 with same composition AND same A,P,R atoms\n",
    "\n",
    "        #We also want to delete the structures with different APR atoms dictionary from the same_comp list.\n",
    "        same_comps_and_APR = []\n",
    "        for k in range(len(same_comps)):\n",
    "            if same_comps[k][1] in comp_dict.keys(): #check if the index for that structure is in the comp_dict keys\n",
    "                same_comps_and_APR.append(same_comps[k][0])\n",
    "        #same_comps_and_APR is now a list of the pymatgen entries with the same composition and APR atoms\n",
    "\n",
    "#         #Accessing MP data for structures with the any of the same atoms:\n",
    "#         comp_atoms = comp.as_dict().keys()\n",
    "#         entries = mpr.get_entries_in_chemsys(comp_atoms)\n",
    "#         #Adding our pbas to this list of pymatgen entries:\n",
    "#         entries = entries + same_comps_and_APR\n",
    "\n",
    "#         #Applying correction using MPRester:\n",
    "#         corrected_entries = mpc.process_entries(entries)\n",
    "\n",
    "#         #If PBA is hydrated (conatains at least one H2O), the corrected_entries step will get rid of the PBAs.\n",
    "#         #Therefore, we add the pba entries back into the corrected_entries list here:\n",
    "#         if h2o_flag:\n",
    "#             corrected_entries = corrected_entries + same_comps_and_APR\n",
    "\n",
    "#         #Making phase diagram:\n",
    "#         phase_d = PhaseDiagram(corrected_entries)\n",
    "\n",
    "#         #Looping through the PBA structures to find the lowest energy above hull value:\n",
    "#         e_above_hull_list = []\n",
    "#         for k in range(1,len(same_comps_and_APR)+1):\n",
    "#             e_above_hull_list.append(phase_d.get_e_above_hull(corrected_entries[-k]))\n",
    "#         e_above_hull = min(e_above_hull_list)\n",
    "\n",
    "        #Adding the values known so far to the main df:\n",
    "        pba_e_hull_df.loc[i, 'Composition'] = comp\n",
    "        pba_e_hull_df.loc[i, 'Formula'] = comp.formula\n",
    "        pba_e_hull_df.loc[i, 'Energy'] = pba_entry.energy\n",
    "#         pba_e_hull_df.loc[i, 'e_above_hull'] = e_above_hull\n",
    "\n",
    "        #Adding the A, P, and R atoms to main df:\n",
    "#         pba_e_hull_df.loc[i, 'A_atom'] = comp_dict['structure'][0]\n",
    "        pba_e_hull_df.loc[i, 'P_atom'] = comp_dict['structure'][1]\n",
    "        pba_e_hull_df.loc[i, 'R_atom'] = comp_dict['structure'][2]\n",
    "#         pba_e_hull_df.loc[i, 'n_A'] = comp.as_dict()[comp_dict['structure'][0]]\n",
    "        if h2o_flag:\n",
    "            pba_e_hull_df.loc[i, 'n_H2O'] = comp.as_dict()['O']\n",
    "        else:\n",
    "            pba_e_hull_df.loc[i, 'n_H2O'] = 0\n",
    "        \n",
    "    except:\n",
    "        print('Error on ' + str(i))\n",
    "        continue"
   ]
  },
  {
   "cell_type": "code",
   "execution_count": 16,
   "metadata": {},
   "outputs": [
    {
     "data": {
      "text/html": [
       "<div>\n",
       "<style scoped>\n",
       "    .dataframe tbody tr th:only-of-type {\n",
       "        vertical-align: middle;\n",
       "    }\n",
       "\n",
       "    .dataframe tbody tr th {\n",
       "        vertical-align: top;\n",
       "    }\n",
       "\n",
       "    .dataframe thead th {\n",
       "        text-align: right;\n",
       "    }\n",
       "</style>\n",
       "<table border=\"1\" class=\"dataframe\">\n",
       "  <thead>\n",
       "    <tr style=\"text-align: right;\">\n",
       "      <th></th>\n",
       "      <th>Composition</th>\n",
       "      <th>Formula</th>\n",
       "      <th>Energy</th>\n",
       "      <th>P_atom</th>\n",
       "      <th>R_atom</th>\n",
       "      <th>n_H2O</th>\n",
       "    </tr>\n",
       "  </thead>\n",
       "  <tbody>\n",
       "    <tr>\n",
       "      <th>1255</th>\n",
       "      <td>(Mn, Fe, H, C, N, O)</td>\n",
       "      <td>Mn4 Fe4 H2 C24 N24 O1</td>\n",
       "      <td>-492.568</td>\n",
       "      <td>Mn</td>\n",
       "      <td>Fe</td>\n",
       "      <td>1</td>\n",
       "    </tr>\n",
       "    <tr>\n",
       "      <th>1261</th>\n",
       "      <td>(Mn, Fe, H, C, N, O)</td>\n",
       "      <td>Mn4 Fe4 H8 C24 N24 O4</td>\n",
       "      <td>-535.239</td>\n",
       "      <td>Mn</td>\n",
       "      <td>Fe</td>\n",
       "      <td>4</td>\n",
       "    </tr>\n",
       "    <tr>\n",
       "      <th>1287</th>\n",
       "      <td>(Mn, Fe, H, C, N, O)</td>\n",
       "      <td>Mn4 Fe4 H6 C24 N24 O3</td>\n",
       "      <td>-520.961</td>\n",
       "      <td>Mn</td>\n",
       "      <td>Fe</td>\n",
       "      <td>3</td>\n",
       "    </tr>\n",
       "    <tr>\n",
       "      <th>1874</th>\n",
       "      <td>(Mn, Fe, H, C, N, O)</td>\n",
       "      <td>Mn4 Fe4 H8 C24 N24 O4</td>\n",
       "      <td>-530.713</td>\n",
       "      <td>Fe</td>\n",
       "      <td>Mn</td>\n",
       "      <td>4</td>\n",
       "    </tr>\n",
       "    <tr>\n",
       "      <th>1875</th>\n",
       "      <td>(Cr, H, C, N, O)</td>\n",
       "      <td>Cr8 H8 C24 N24 O4</td>\n",
       "      <td>-542.78</td>\n",
       "      <td>Cr</td>\n",
       "      <td>Cr</td>\n",
       "      <td>4</td>\n",
       "    </tr>\n",
       "  </tbody>\n",
       "</table>\n",
       "</div>"
      ],
      "text/plain": [
       "               Composition                Formula   Energy P_atom R_atom n_H2O\n",
       "1255  (Mn, Fe, H, C, N, O)  Mn4 Fe4 H2 C24 N24 O1 -492.568     Mn     Fe     1\n",
       "1261  (Mn, Fe, H, C, N, O)  Mn4 Fe4 H8 C24 N24 O4 -535.239     Mn     Fe     4\n",
       "1287  (Mn, Fe, H, C, N, O)  Mn4 Fe4 H6 C24 N24 O3 -520.961     Mn     Fe     3\n",
       "1874  (Mn, Fe, H, C, N, O)  Mn4 Fe4 H8 C24 N24 O4 -530.713     Fe     Mn     4\n",
       "1875      (Cr, H, C, N, O)      Cr8 H8 C24 N24 O4  -542.78     Cr     Cr     4"
      ]
     },
     "execution_count": 16,
     "metadata": {},
     "output_type": "execute_result"
    }
   ],
   "source": [
    "pba_h2o = pba_e_hull_df.dropna(axis = 0, how = 'all')\n",
    "pba_h2o.head()"
   ]
  },
  {
   "cell_type": "code",
   "execution_count": 17,
   "metadata": {},
   "outputs": [],
   "source": [
    "#Saving to file as pba_h2o.csv\n",
    "pba_h2o.to_csv('pba_h2o.csv')"
   ]
  },
  {
   "cell_type": "code",
   "execution_count": 18,
   "metadata": {},
   "outputs": [],
   "source": [
    "pba_h2o = pd.read_csv('pba_h2o.csv')\n",
    "pba_h2o.drop('Unnamed: 0', axis = 1, inplace = True)"
   ]
  },
  {
   "cell_type": "code",
   "execution_count": 19,
   "metadata": {},
   "outputs": [
    {
     "data": {
      "text/plain": [
       "208"
      ]
     },
     "execution_count": 19,
     "metadata": {},
     "output_type": "execute_result"
    }
   ],
   "source": [
    "len(pba_h2o)"
   ]
  },
  {
   "cell_type": "code",
   "execution_count": 21,
   "metadata": {},
   "outputs": [
    {
     "data": {
      "text/plain": [
       "172"
      ]
     },
     "execution_count": 21,
     "metadata": {},
     "output_type": "execute_result"
    }
   ],
   "source": [
    "len(pba_h2o[pba_h2o['n_H2O'] > 0])"
   ]
  },
  {
   "cell_type": "markdown",
   "metadata": {},
   "source": [
    "From this, we see that there are 172 unique structures that contain water molecules, plus another 36 structures that have no water molecules or A atoms."
   ]
  },
  {
   "cell_type": "markdown",
   "metadata": {},
   "source": [
    "## Analyzing hydration data\n",
    "We will use the e_hull values for the given structures to extrapolate the e_hull values for each PBA at 100% hydration. Using this, we will be able to determine what fraction of the PBAs are stable at 100% hydration.\n",
    "\n",
    "Note that others have found in previous analyses that e_hull values have a very strong linear relationship with # of water molecules, so extrapolating e_hull values at 100% hydration is a safe method of determining stability."
   ]
  },
  {
   "cell_type": "code",
   "execution_count": 22,
   "metadata": {},
   "outputs": [
    {
     "data": {
      "text/html": [
       "<div>\n",
       "<style scoped>\n",
       "    .dataframe tbody tr th:only-of-type {\n",
       "        vertical-align: middle;\n",
       "    }\n",
       "\n",
       "    .dataframe tbody tr th {\n",
       "        vertical-align: top;\n",
       "    }\n",
       "\n",
       "    .dataframe thead th {\n",
       "        text-align: right;\n",
       "    }\n",
       "</style>\n",
       "<table border=\"1\" class=\"dataframe\">\n",
       "  <thead>\n",
       "    <tr style=\"text-align: right;\">\n",
       "      <th></th>\n",
       "      <th>Composition</th>\n",
       "      <th>Formula</th>\n",
       "      <th>Energy</th>\n",
       "      <th>P_atom</th>\n",
       "      <th>R_atom</th>\n",
       "      <th>n_H2O</th>\n",
       "    </tr>\n",
       "  </thead>\n",
       "  <tbody>\n",
       "    <tr>\n",
       "      <th>0</th>\n",
       "      <td>Mn4 Fe4 H2 C24 N24 O1</td>\n",
       "      <td>Mn4 Fe4 H2 C24 N24 O1</td>\n",
       "      <td>-492.568388</td>\n",
       "      <td>Mn</td>\n",
       "      <td>Fe</td>\n",
       "      <td>1.0</td>\n",
       "    </tr>\n",
       "    <tr>\n",
       "      <th>1</th>\n",
       "      <td>Mn4 Fe4 H8 C24 N24 O4</td>\n",
       "      <td>Mn4 Fe4 H8 C24 N24 O4</td>\n",
       "      <td>-535.239268</td>\n",
       "      <td>Mn</td>\n",
       "      <td>Fe</td>\n",
       "      <td>4.0</td>\n",
       "    </tr>\n",
       "    <tr>\n",
       "      <th>2</th>\n",
       "      <td>Mn4 Fe4 H6 C24 N24 O3</td>\n",
       "      <td>Mn4 Fe4 H6 C24 N24 O3</td>\n",
       "      <td>-520.960972</td>\n",
       "      <td>Mn</td>\n",
       "      <td>Fe</td>\n",
       "      <td>3.0</td>\n",
       "    </tr>\n",
       "    <tr>\n",
       "      <th>3</th>\n",
       "      <td>Mn4 Fe4 H8 C24 N24 O4</td>\n",
       "      <td>Mn4 Fe4 H8 C24 N24 O4</td>\n",
       "      <td>-530.713359</td>\n",
       "      <td>Fe</td>\n",
       "      <td>Mn</td>\n",
       "      <td>4.0</td>\n",
       "    </tr>\n",
       "    <tr>\n",
       "      <th>4</th>\n",
       "      <td>Cr8 H8 C24 N24 O4</td>\n",
       "      <td>Cr8 H8 C24 N24 O4</td>\n",
       "      <td>-542.780128</td>\n",
       "      <td>Cr</td>\n",
       "      <td>Cr</td>\n",
       "      <td>4.0</td>\n",
       "    </tr>\n",
       "  </tbody>\n",
       "</table>\n",
       "</div>"
      ],
      "text/plain": [
       "             Composition                Formula      Energy P_atom R_atom  \\\n",
       "0  Mn4 Fe4 H2 C24 N24 O1  Mn4 Fe4 H2 C24 N24 O1 -492.568388     Mn     Fe   \n",
       "1  Mn4 Fe4 H8 C24 N24 O4  Mn4 Fe4 H8 C24 N24 O4 -535.239268     Mn     Fe   \n",
       "2  Mn4 Fe4 H6 C24 N24 O3  Mn4 Fe4 H6 C24 N24 O3 -520.960972     Mn     Fe   \n",
       "3  Mn4 Fe4 H8 C24 N24 O4  Mn4 Fe4 H8 C24 N24 O4 -530.713359     Fe     Mn   \n",
       "4      Cr8 H8 C24 N24 O4      Cr8 H8 C24 N24 O4 -542.780128     Cr     Cr   \n",
       "\n",
       "   n_H2O  \n",
       "0    1.0  \n",
       "1    4.0  \n",
       "2    3.0  \n",
       "3    4.0  \n",
       "4    4.0  "
      ]
     },
     "execution_count": 22,
     "metadata": {},
     "output_type": "execute_result"
    }
   ],
   "source": [
    "pba_h2o.head()"
   ]
  },
  {
   "cell_type": "code",
   "execution_count": 23,
   "metadata": {},
   "outputs": [
    {
     "data": {
      "text/plain": [
       "array(['Mn', 'Fe', 'Cr', 'Co', 'Zn', 'V'], dtype=object)"
      ]
     },
     "execution_count": 23,
     "metadata": {},
     "output_type": "execute_result"
    }
   ],
   "source": [
    "p_atoms = pba_h2o['P_atom'].unique()\n",
    "p_atoms"
   ]
  },
  {
   "cell_type": "code",
   "execution_count": 24,
   "metadata": {},
   "outputs": [
    {
     "data": {
      "text/plain": [
       "array(['Fe', 'Mn', 'Cr', 'Os', 'Co', 'V'], dtype=object)"
      ]
     },
     "execution_count": 24,
     "metadata": {},
     "output_type": "execute_result"
    }
   ],
   "source": [
    "r_atoms = pba_h2o['R_atom'].unique()\n",
    "r_atoms"
   ]
  },
  {
   "cell_type": "markdown",
   "metadata": {},
   "source": [
    "### Walking through the analysis for one PBA:"
   ]
  },
  {
   "cell_type": "code",
   "execution_count": 25,
   "metadata": {},
   "outputs": [
    {
     "data": {
      "text/html": [
       "<div>\n",
       "<style scoped>\n",
       "    .dataframe tbody tr th:only-of-type {\n",
       "        vertical-align: middle;\n",
       "    }\n",
       "\n",
       "    .dataframe tbody tr th {\n",
       "        vertical-align: top;\n",
       "    }\n",
       "\n",
       "    .dataframe thead th {\n",
       "        text-align: right;\n",
       "    }\n",
       "</style>\n",
       "<table border=\"1\" class=\"dataframe\">\n",
       "  <thead>\n",
       "    <tr style=\"text-align: right;\">\n",
       "      <th></th>\n",
       "      <th>Composition</th>\n",
       "      <th>Formula</th>\n",
       "      <th>Energy</th>\n",
       "      <th>P_atom</th>\n",
       "      <th>R_atom</th>\n",
       "      <th>n_H2O</th>\n",
       "    </tr>\n",
       "  </thead>\n",
       "  <tbody>\n",
       "    <tr>\n",
       "      <th>193</th>\n",
       "      <td>Mn4 Fe4 C24 N24</td>\n",
       "      <td>Mn4 Fe4 C24 N24</td>\n",
       "      <td>-478.355188</td>\n",
       "      <td>Mn</td>\n",
       "      <td>Fe</td>\n",
       "      <td>0.0</td>\n",
       "    </tr>\n",
       "    <tr>\n",
       "      <th>0</th>\n",
       "      <td>Mn4 Fe4 H2 C24 N24 O1</td>\n",
       "      <td>Mn4 Fe4 H2 C24 N24 O1</td>\n",
       "      <td>-492.568388</td>\n",
       "      <td>Mn</td>\n",
       "      <td>Fe</td>\n",
       "      <td>1.0</td>\n",
       "    </tr>\n",
       "    <tr>\n",
       "      <th>6</th>\n",
       "      <td>Mn4 Fe4 H4 C24 N24 O2</td>\n",
       "      <td>Mn4 Fe4 H4 C24 N24 O2</td>\n",
       "      <td>-506.770166</td>\n",
       "      <td>Mn</td>\n",
       "      <td>Fe</td>\n",
       "      <td>2.0</td>\n",
       "    </tr>\n",
       "    <tr>\n",
       "      <th>2</th>\n",
       "      <td>Mn4 Fe4 H6 C24 N24 O3</td>\n",
       "      <td>Mn4 Fe4 H6 C24 N24 O3</td>\n",
       "      <td>-520.960972</td>\n",
       "      <td>Mn</td>\n",
       "      <td>Fe</td>\n",
       "      <td>3.0</td>\n",
       "    </tr>\n",
       "    <tr>\n",
       "      <th>1</th>\n",
       "      <td>Mn4 Fe4 H8 C24 N24 O4</td>\n",
       "      <td>Mn4 Fe4 H8 C24 N24 O4</td>\n",
       "      <td>-535.239268</td>\n",
       "      <td>Mn</td>\n",
       "      <td>Fe</td>\n",
       "      <td>4.0</td>\n",
       "    </tr>\n",
       "    <tr>\n",
       "      <th>11</th>\n",
       "      <td>Mn4 Fe4 H10 C24 N24 O5</td>\n",
       "      <td>Mn4 Fe4 H10 C24 N24 O5</td>\n",
       "      <td>-549.426479</td>\n",
       "      <td>Mn</td>\n",
       "      <td>Fe</td>\n",
       "      <td>5.0</td>\n",
       "    </tr>\n",
       "    <tr>\n",
       "      <th>8</th>\n",
       "      <td>Mn4 Fe4 H12 C24 N24 O6</td>\n",
       "      <td>Mn4 Fe4 H12 C24 N24 O6</td>\n",
       "      <td>-563.621715</td>\n",
       "      <td>Mn</td>\n",
       "      <td>Fe</td>\n",
       "      <td>6.0</td>\n",
       "    </tr>\n",
       "    <tr>\n",
       "      <th>10</th>\n",
       "      <td>Mn4 Fe4 H14 C24 N24 O7</td>\n",
       "      <td>Mn4 Fe4 H14 C24 N24 O7</td>\n",
       "      <td>-577.850115</td>\n",
       "      <td>Mn</td>\n",
       "      <td>Fe</td>\n",
       "      <td>7.0</td>\n",
       "    </tr>\n",
       "    <tr>\n",
       "      <th>14</th>\n",
       "      <td>Mn4 Fe4 H16 C24 N24 O8</td>\n",
       "      <td>Mn4 Fe4 H16 C24 N24 O8</td>\n",
       "      <td>-592.008134</td>\n",
       "      <td>Mn</td>\n",
       "      <td>Fe</td>\n",
       "      <td>8.0</td>\n",
       "    </tr>\n",
       "  </tbody>\n",
       "</table>\n",
       "</div>"
      ],
      "text/plain": [
       "                Composition                 Formula      Energy P_atom R_atom  \\\n",
       "193         Mn4 Fe4 C24 N24         Mn4 Fe4 C24 N24 -478.355188     Mn     Fe   \n",
       "0     Mn4 Fe4 H2 C24 N24 O1   Mn4 Fe4 H2 C24 N24 O1 -492.568388     Mn     Fe   \n",
       "6     Mn4 Fe4 H4 C24 N24 O2   Mn4 Fe4 H4 C24 N24 O2 -506.770166     Mn     Fe   \n",
       "2     Mn4 Fe4 H6 C24 N24 O3   Mn4 Fe4 H6 C24 N24 O3 -520.960972     Mn     Fe   \n",
       "1     Mn4 Fe4 H8 C24 N24 O4   Mn4 Fe4 H8 C24 N24 O4 -535.239268     Mn     Fe   \n",
       "11   Mn4 Fe4 H10 C24 N24 O5  Mn4 Fe4 H10 C24 N24 O5 -549.426479     Mn     Fe   \n",
       "8    Mn4 Fe4 H12 C24 N24 O6  Mn4 Fe4 H12 C24 N24 O6 -563.621715     Mn     Fe   \n",
       "10   Mn4 Fe4 H14 C24 N24 O7  Mn4 Fe4 H14 C24 N24 O7 -577.850115     Mn     Fe   \n",
       "14   Mn4 Fe4 H16 C24 N24 O8  Mn4 Fe4 H16 C24 N24 O8 -592.008134     Mn     Fe   \n",
       "\n",
       "     n_H2O  \n",
       "193    0.0  \n",
       "0      1.0  \n",
       "6      2.0  \n",
       "2      3.0  \n",
       "1      4.0  \n",
       "11     5.0  \n",
       "8      6.0  \n",
       "10     7.0  \n",
       "14     8.0  "
      ]
     },
     "execution_count": 25,
     "metadata": {},
     "output_type": "execute_result"
    }
   ],
   "source": [
    "mn_fe = pba_h2o[(pba_h2o['P_atom'] == 'Mn') & (pba_h2o['R_atom'] == 'Fe')]\n",
    "mn_fe = mn_fe.sort_values('n_H2O')\n",
    "mn_fe"
   ]
  },
  {
   "cell_type": "code",
   "execution_count": 26,
   "metadata": {},
   "outputs": [
    {
     "data": {
      "text/plain": [
       "Text(0.5,1,'Total Energy vs number of water molecules, P = Mn and R = Fe')"
      ]
     },
     "execution_count": 26,
     "metadata": {},
     "output_type": "execute_result"
    },
    {
     "data": {
      "image/png": "[encoded data removed]",
      "text/plain": [
       "<Figure size 720x432 with 1 Axes>"
      ]
     },
     "metadata": {},
     "output_type": "display_data"
    }
   ],
   "source": [
    "plt.rcParams['figure.figsize'] = [10,6]\n",
    "plt.plot(mn_fe['n_H2O'],mn_fe['Energy'])\n",
    "plt.title('Total Energy vs number of water molecules, P = Mn and R = Fe')"
   ]
  },
  {
   "cell_type": "markdown",
   "metadata": {},
   "source": [
    "The first step to finding hydration energy is finding slope of this line:"
   ]
  },
  {
   "cell_type": "code",
   "execution_count": 42,
   "metadata": {},
   "outputs": [
    {
     "data": {
      "text/plain": [
       "-14.20661818125"
      ]
     },
     "execution_count": 42,
     "metadata": {},
     "output_type": "execute_result"
    }
   ],
   "source": [
    "slope = (mn_fe[mn_fe['n_H2O'] == 8]['Energy'].values[0] - mn_fe[mn_fe['n_H2O'] == 0]['Energy'].values[0])/8\n",
    "slope #this is the hydration_energy"
   ]
  },
  {
   "cell_type": "markdown",
   "metadata": {},
   "source": [
    "Next, we add in corrections for the formation energy of water and for the entropy of water:"
   ]
  },
  {
   "cell_type": "code",
   "execution_count": 43,
   "metadata": {},
   "outputs": [
    {
     "data": {
      "text/plain": [
       "-0.4966181812499997"
      ]
     },
     "execution_count": 43,
     "metadata": {},
     "output_type": "execute_result"
    }
   ],
   "source": [
    "h2o_formation_energy = -14.21\n",
    "h2o_entropy = 0.5\n",
    "corrected_slope = slope - h2o_formation_energy - h2o_entropy\n",
    "corrected_slope #in eV"
   ]
  },
  {
   "cell_type": "markdown",
   "metadata": {},
   "source": [
    "Now that we have the corrected_slope (which is the hydration energy), we can apply it to find the e_above_hull of hydrated PBAs:"
   ]
  },
  {
   "cell_type": "code",
   "execution_count": 44,
   "metadata": {},
   "outputs": [
    {
     "data": {
      "text/plain": [
       "ComputedEntry None - Ca4 Mn4 Fe4 C24 N24\n",
       "Energy = -491.4683\n",
       "Correction = 0.0000\n",
       "Parameters:\n",
       "nelect = 364.0\n",
       "hubbards = {}\n",
       "potcar_spec = [{'titel': 'PAW_PBE Ca_sv 06Sep2000', 'hash': 'eb006721e214c04b3c13146e81b3a27d'}, {'titel': 'PAW_PBE Mn_pv 07Sep2000', 'hash': 'fa52f891f234d49bb4cb5ea96aae8f98'}, {'titel': 'PAW_PBE Fe_pv 06Sep2000', 'hash': '5963411539032ec3298fa675a32c5e64'}, {'titel': 'PAW_PBE C 08Apr2002', 'hash': 'c0a8167dbb174fe492a3db7f5006c0f8'}, {'titel': 'PAW_PBE N 08Apr2002', 'hash': 'b98fd027ddebc67da4063ff2cabbc04b'}]\n",
       "is_hubbard = False\n",
       "Data:"
      ]
     },
     "execution_count": 44,
     "metadata": {},
     "output_type": "execute_result"
    }
   ],
   "source": [
    "pba_entries[2]"
   ]
  },
  {
   "cell_type": "code",
   "execution_count": 45,
   "metadata": {},
   "outputs": [],
   "source": [
    "comp = pba_entries[2].composition"
   ]
  },
  {
   "cell_type": "code",
   "execution_count": 53,
   "metadata": {},
   "outputs": [
    {
     "data": {
      "text/plain": [
       "dict_keys(['Ca', 'Mn', 'Fe', 'C', 'N'])"
      ]
     },
     "execution_count": 53,
     "metadata": {},
     "output_type": "execute_result"
    }
   ],
   "source": [
    "comp_atoms = comp.as_dict().keys()\n",
    "comp_atoms"
   ]
  },
  {
   "cell_type": "code",
   "execution_count": 47,
   "metadata": {},
   "outputs": [],
   "source": [
    "entries = mpr.get_entries_in_chemsys(comp_atoms)\n",
    "corrected_entries = mpc.process_entries(entries)\n",
    "phase_d = PhaseDiagram(corrected_entries)"
   ]
  },
  {
   "cell_type": "code",
   "execution_count": 48,
   "metadata": {},
   "outputs": [
    {
     "data": {
      "text/plain": [
       "0.3826480011271123"
      ]
     },
     "execution_count": 48,
     "metadata": {},
     "output_type": "execute_result"
    }
   ],
   "source": [
    "e_hull = phase_d.get_e_above_hull(pba_entries[2])\n",
    "e_hull #of Ca4 Mn4 Fe4 C24 N24 PBA, uncorrected (this is in eV/atom)"
   ]
  },
  {
   "cell_type": "code",
   "execution_count": 49,
   "metadata": {},
   "outputs": [
    {
     "data": {
      "text/plain": [
       "60.0"
      ]
     },
     "execution_count": 49,
     "metadata": {},
     "output_type": "execute_result"
    }
   ],
   "source": [
    "comp.num_atoms"
   ]
  },
  {
   "cell_type": "code",
   "execution_count": 50,
   "metadata": {},
   "outputs": [
    {
     "data": {
      "text/plain": [
       "22.958880067626737"
      ]
     },
     "execution_count": 50,
     "metadata": {},
     "output_type": "execute_result"
    }
   ],
   "source": [
    "e_hull_total = e_hull*60\n",
    "e_hull_total #This is the a_above_hull of the total PBA in eV"
   ]
  },
  {
   "cell_type": "code",
   "execution_count": 51,
   "metadata": {},
   "outputs": [
    {
     "data": {
      "text/plain": [
       "18.98593461762674"
      ]
     },
     "execution_count": 51,
     "metadata": {},
     "output_type": "execute_result"
    }
   ],
   "source": [
    "e_hull_total_corrected = e_hull_total + corrected_slope*8\n",
    "e_hull_total_corrected #Corrected e_above_hull for total hydrated PBA in eV"
   ]
  },
  {
   "cell_type": "code",
   "execution_count": 52,
   "metadata": {},
   "outputs": [
    {
     "data": {
      "text/plain": [
       "0.3164322436271123"
      ]
     },
     "execution_count": 52,
     "metadata": {},
     "output_type": "execute_result"
    }
   ],
   "source": [
    "e_hull_corrected = e_hull_total_corrected/60\n",
    "e_hull_corrected #Corrected e_above_hull in eV/atom"
   ]
  },
  {
   "cell_type": "markdown",
   "metadata": {},
   "source": [
    "Now that we know our method works for finding the e_above_hull of the hydrated PBAs, we will apply this method for all of the PBAs in the original file. \n",
    "\n",
    "The first step is to calculate the hydration energy for all of the P and R systems for which hydration data is available:"
   ]
  },
  {
   "cell_type": "code",
   "execution_count": 60,
   "metadata": {},
   "outputs": [],
   "source": [
    "# Eventually, change this loop so it creates a df of corrected_slopes with fields for P and R atom.\n",
    "e_h2o = -14.21 #energy of formation of water\n",
    "s_h2o = 0.5 #entropy of formation water\n",
    "e_hydration_df = pd.DataFrame(index=range(36),columns=['P_atom','R_atom','e_hydration'])\n",
    "counter = 0\n",
    "for p in p_atoms:\n",
    "    for r in r_atoms:\n",
    "        e_hydration_df.loc[counter,'P_atom'] = p\n",
    "        e_hydration_df.loc[counter,'R_atom'] = r\n",
    "        p_r = pba_h2o[(pba_h2o['P_atom'] == p) & (pba_h2o['R_atom'] == r)] #p_r is df of the hydrated PBAs with given p and r\n",
    "        max_h2o = max(p_r['n_H2O'])\n",
    "        min_h2o = min(p_r['n_H2O'])\n",
    "        if (max_h2o - min_h2o) != 0:\n",
    "            slope = (p_r[p_r['n_H2O'] == max_h2o]['Energy'].values[0] - p_r[p_r['n_H2O'] == min_h2o]['Energy'].values[0])/(max_h2o - min_h2o)\n",
    "            corrected_slope = slope - e_h2o - s_h2o\n",
    "            e_hydration_df.loc[counter,'e_hydration'] = corrected_slope\n",
    "         #Systems without enough values to make a line won't have an entry in the e_hydration field\n",
    "        counter += 1"
   ]
  },
  {
   "cell_type": "code",
   "execution_count": 62,
   "metadata": {},
   "outputs": [
    {
     "data": {
      "text/html": [
       "<div>\n",
       "<style scoped>\n",
       "    .dataframe tbody tr th:only-of-type {\n",
       "        vertical-align: middle;\n",
       "    }\n",
       "\n",
       "    .dataframe tbody tr th {\n",
       "        vertical-align: top;\n",
       "    }\n",
       "\n",
       "    .dataframe thead th {\n",
       "        text-align: right;\n",
       "    }\n",
       "</style>\n",
       "<table border=\"1\" class=\"dataframe\">\n",
       "  <thead>\n",
       "    <tr style=\"text-align: right;\">\n",
       "      <th></th>\n",
       "      <th>P_atom</th>\n",
       "      <th>R_atom</th>\n",
       "      <th>e_hydration</th>\n",
       "    </tr>\n",
       "  </thead>\n",
       "  <tbody>\n",
       "    <tr>\n",
       "      <th>0</th>\n",
       "      <td>Mn</td>\n",
       "      <td>Fe</td>\n",
       "      <td>-0.496618</td>\n",
       "    </tr>\n",
       "    <tr>\n",
       "      <th>1</th>\n",
       "      <td>Mn</td>\n",
       "      <td>Mn</td>\n",
       "      <td>-0.513344</td>\n",
       "    </tr>\n",
       "    <tr>\n",
       "      <th>2</th>\n",
       "      <td>Mn</td>\n",
       "      <td>Cr</td>\n",
       "      <td>-0.533875</td>\n",
       "    </tr>\n",
       "    <tr>\n",
       "      <th>3</th>\n",
       "      <td>Mn</td>\n",
       "      <td>Os</td>\n",
       "      <td>-0.534899</td>\n",
       "    </tr>\n",
       "    <tr>\n",
       "      <th>4</th>\n",
       "      <td>Mn</td>\n",
       "      <td>Co</td>\n",
       "      <td>NaN</td>\n",
       "    </tr>\n",
       "  </tbody>\n",
       "</table>\n",
       "</div>"
      ],
      "text/plain": [
       "  P_atom R_atom e_hydration\n",
       "0     Mn     Fe   -0.496618\n",
       "1     Mn     Mn   -0.513344\n",
       "2     Mn     Cr   -0.533875\n",
       "3     Mn     Os   -0.534899\n",
       "4     Mn     Co         NaN"
      ]
     },
     "execution_count": 62,
     "metadata": {},
     "output_type": "execute_result"
    }
   ],
   "source": [
    "e_hydration_df.head()"
   ]
  },
  {
   "cell_type": "markdown",
   "metadata": {},
   "source": [
    "Next, we loop through all of the PBAs in the full df (this df was the one created in notebook 02). We access the previously calculated e_above_hull from that df and apply our hydration correction method to find the e_above_hull of each PBA at 25%, 50%, and 100% hydration."
   ]
  },
  {
   "cell_type": "code",
   "execution_count": null,
   "metadata": {},
   "outputs": [],
   "source": [
    "#pba_e_hull_df = pd.read_csv('pba_e_hull_df.csv')\n",
    "#pba_e_hull_df.drop('Unnamed: 0', axis = 1, inplace = True)"
   ]
  },
  {
   "cell_type": "code",
   "execution_count": null,
   "metadata": {},
   "outputs": [],
   "source": [
    "for i in range(len(pba_e_hull_df)):\n",
    "    "
   ]
  }
 ],
 "metadata": {
  "kernelspec": {
   "display_name": "Python 3",
   "language": "python",
   "name": "python3"
  },
  "language_info": {
   "codemirror_mode": {
    "name": "ipython",
    "version": 3
   },
   "file_extension": ".py",
   "mimetype": "text/x-python",
   "name": "python",
   "nbconvert_exporter": "python",
   "pygments_lexer": "ipython3",
   "version": "3.6.5"
  }
 },
 "nbformat": 4,
 "nbformat_minor": 2
}
