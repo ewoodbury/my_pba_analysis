{
 "cells": [
  {
   "cell_type": "markdown",
   "metadata": {},
   "source": [
    "# Hydration Analysis"
   ]
  },
  {
   "cell_type": "code",
   "execution_count": 136,
   "metadata": {},
   "outputs": [],
   "source": [
    "import numpy as np\n",
    "import pandas as pd\n",
    "import matplotlib.pyplot as plt\n",
    "%matplotlib inline\n",
    "plt.rcParams['figure.figsize'] = [12,8]"
   ]
  },
  {
   "cell_type": "markdown",
   "metadata": {},
   "source": [
    "Importing the file containing the PBAs with water molecules:"
   ]
  },
  {
   "cell_type": "code",
   "execution_count": 2,
   "metadata": {},
   "outputs": [],
   "source": [
    "# with open('pba_w_APR.json', 'r') as file :\n",
    "#   pba_json = file.read()"
   ]
  },
  {
   "cell_type": "code",
   "execution_count": 3,
   "metadata": {},
   "outputs": [],
   "source": [
    "# print(pba_json[:1000])"
   ]
  },
  {
   "cell_type": "code",
   "execution_count": 4,
   "metadata": {},
   "outputs": [],
   "source": [
    "from monty.serialization import loadfn"
   ]
  },
  {
   "cell_type": "code",
   "execution_count": 5,
   "metadata": {},
   "outputs": [],
   "source": [
    "data_1 = loadfn('pba_w_APR.json')"
   ]
  },
  {
   "cell_type": "code",
   "execution_count": 164,
   "metadata": {
    "scrolled": true
   },
   "outputs": [],
   "source": [
    "# data_1[0]"
   ]
  },
  {
   "cell_type": "code",
   "execution_count": 7,
   "metadata": {},
   "outputs": [],
   "source": [
    "import pymatgen as mg\n",
    "from pymatgen.entries.computed_entries import ComputedEntry"
   ]
  },
  {
   "cell_type": "code",
   "execution_count": 8,
   "metadata": {},
   "outputs": [],
   "source": [
    "pba_entries = []\n",
    "for i in range((len(data_1))):\n",
    "    #Creating pymatgen entry:\n",
    "    entry = ComputedEntry(composition=data_1[i]['input']['structure'].composition,\n",
    "                              energy=data_1[i]['output']['energy'],\n",
    "                              parameters = {\"nelect\": data_1[i]['input']['parameters']['NELECT'],\n",
    "                                            \"hubbards\": data_1[i]['input']['hubbards'],\n",
    "                                            \"potcar_spec\": data_1[i]['input']['potcar_spec'],\n",
    "                                            \"is_hubbard\": data_1[i]['input']['is_hubbard']})\n",
    "    \n",
    "#     if 'H' in entry.composition or 'O' in entry.composition: #Filtering out structures with hydrogen or oxygen\n",
    "#         pba_entries.append('')\n",
    "    if entry.composition.as_dict()['C'] != 24 or entry.composition.as_dict()['N'] != 24:\n",
    "        #Filtering out structures that don't have 24 Cs or 24 Ns - these are also not PBAs\n",
    "        pba_entries.append('')\n",
    "    else:\n",
    "        pba_entries.append(entry)"
   ]
  },
  {
   "cell_type": "code",
   "execution_count": 165,
   "metadata": {},
   "outputs": [
    {
     "data": {
      "text/plain": [
       "ComputedEntry None - Ca4 Fe4 Co4 C24 N24\n",
       "Energy = -476.8671\n",
       "Correction = 0.0000\n",
       "Parameters:\n",
       "nelect = 348.0\n",
       "hubbards = {}\n",
       "potcar_spec = [{'titel': 'PAW_PBE Ca_sv 06Sep2000', 'hash': 'eb006721e214c04b3c13146e81b3a27d'}, {'titel': 'PAW_PBE Fe_pv 06Sep2000', 'hash': '5963411539032ec3298fa675a32c5e64'}, {'titel': 'PAW_PBE Co 06Sep2000', 'hash': 'b169bca4e137294d2ab3df8cbdd09083'}, {'titel': 'PAW_PBE C 08Apr2002', 'hash': 'c0a8167dbb174fe492a3db7f5006c0f8'}, {'titel': 'PAW_PBE N 08Apr2002', 'hash': 'b98fd027ddebc67da4063ff2cabbc04b'}]\n",
       "is_hubbard = False\n",
       "Data:"
      ]
     },
     "execution_count": 165,
     "metadata": {},
     "output_type": "execute_result"
    }
   ],
   "source": [
    "pba_entries[0]"
   ]
  },
  {
   "cell_type": "code",
   "execution_count": 10,
   "metadata": {},
   "outputs": [
    {
     "data": {
      "text/plain": [
       "3783"
      ]
     },
     "execution_count": 10,
     "metadata": {},
     "output_type": "execute_result"
    }
   ],
   "source": [
    "len(pba_entries)"
   ]
  },
  {
   "cell_type": "code",
   "execution_count": 166,
   "metadata": {},
   "outputs": [
    {
     "data": {
      "text/plain": [
       "ComputedEntry None - Mn4 Fe4 H2 C24 N24 O1\n",
       "Energy = -492.5684\n",
       "Correction = 0.0000\n",
       "Parameters:\n",
       "nelect = 332.0\n",
       "hubbards = {}\n",
       "potcar_spec = [{'titel': 'PAW_PBE Mn_pv 07Sep2000', 'hash': 'fa52f891f234d49bb4cb5ea96aae8f98'}, {'titel': 'PAW_PBE Fe_pv 06Sep2000', 'hash': '5963411539032ec3298fa675a32c5e64'}, {'titel': 'PAW_PBE H 15Jun2001', 'hash': 'bb43c666e3d36577264afe07669e9582'}, {'titel': 'PAW_PBE C 08Apr2002', 'hash': 'c0a8167dbb174fe492a3db7f5006c0f8'}, {'titel': 'PAW_PBE N 08Apr2002', 'hash': 'b98fd027ddebc67da4063ff2cabbc04b'}, {'titel': 'PAW_PBE O 08Apr2002', 'hash': '7a25bc5b9a5393f46600a4939d357982'}]\n",
       "is_hubbard = False\n",
       "Data:"
      ]
     },
     "execution_count": 166,
     "metadata": {},
     "output_type": "execute_result"
    }
   ],
   "source": [
    "pba_h2o = []\n",
    "for i in range(len(pba_entries)):\n",
    "    if pba_entries[i] == '':\n",
    "        continue\n",
    "    if 'O' in pba_entries[i].composition.as_dict().keys():\n",
    "        pba_h2o.append(pba_entries[i])\n",
    "#         print(i)\n",
    "pba_h2o[0]"
   ]
  },
  {
   "cell_type": "code",
   "execution_count": 12,
   "metadata": {},
   "outputs": [
    {
     "data": {
      "text/plain": [
       "329"
      ]
     },
     "execution_count": 12,
     "metadata": {},
     "output_type": "execute_result"
    }
   ],
   "source": [
    "len(pba_h2o)"
   ]
  },
  {
   "cell_type": "markdown",
   "metadata": {},
   "source": [
    "From this, we see that there are 329 PBAs with water molecules.\n",
    "\n",
    "Because we previously found that the relationship between # water molecules and (Total PBA energy - energy of water molecules). "
   ]
  },
  {
   "cell_type": "code",
   "execution_count": 13,
   "metadata": {},
   "outputs": [],
   "source": [
    "from pymatgen import MPRester\n",
    "mpr = MPRester(api_key='clRGHmBDgp1xt9zA')\n",
    "from pymatgen.entries.compatibility import MaterialsProjectCompatibility\n",
    "mpc = MaterialsProjectCompatibility()\n",
    "from pymatgen.analysis.phase_diagram import PhaseDiagram, PDPlotter\n",
    "import pymatgen.analysis.local_env as localenv\n",
    "crys = localenv.CrystalNN()"
   ]
  },
  {
   "cell_type": "code",
   "execution_count": 14,
   "metadata": {},
   "outputs": [],
   "source": [
    "def my_crystal_nn(struct):\n",
    "    '''\n",
    "    Returns the A, P, and R atoms of a PBA in a list [A,P,R].\n",
    "    struct is data in the form data_1[i]['input']['structure'] and must be a PBA.\n",
    "    Uses pymatgen's CrystalNN method.\n",
    "    '''\n",
    "    A_atom_nn,P_atom_nn, R_atom_nn = '','','' #Initializing A, P, and R atoms\n",
    "    for j in range(len(struct)): #Looping through all of the elements in the PBA\n",
    "        atom = struct[j].as_dict()['species'][0]['element']\n",
    "        \n",
    "        if atom == 'C' and len(R_atom_nn)==0:\n",
    "            nn_objs = crys.get_nn_info(struct, j) #getting the nearest neighbors for atom, which is the jth atom in struct\n",
    "            for k in range(len(nn_objs)):\n",
    "                nn = nn_objs[k]['site'].as_dict()['species'][0]['element']\n",
    "                if nn != 'N':\n",
    "                    R_atom_nn = nn\n",
    "                    break\n",
    "                    \n",
    "        elif atom == 'N' and len(P_atom_nn)==0:\n",
    "            nn_objs = crys.get_nn_info(struct, j) #getting the nearest neighbors for atom, which is the jth atom in struct\n",
    "            for k in range(len(nn_objs)):\n",
    "                nn = nn_objs[k]['site'].as_dict()['species'][0]['element']\n",
    "                if nn != 'C':\n",
    "                    P_atom_nn = nn\n",
    "                    break\n",
    "                    \n",
    "    for j in struct.composition.as_dict().keys():\n",
    "        if j not in [P_atom_nn,R_atom_nn,'C','N','H','O']:\n",
    "            A_atom_nn = j\n",
    "            break\n",
    "    return [A_atom_nn,P_atom_nn,R_atom_nn]"
   ]
  },
  {
   "cell_type": "markdown",
   "metadata": {},
   "source": [
    "### Main Loop\n",
    "Here, we extract the e_hull, A/P/R atoms, # A atoms, and # water molecules for each PBA into a dataframe."
   ]
  },
  {
   "cell_type": "code",
   "execution_count": 15,
   "metadata": {
    "scrolled": false
   },
   "outputs": [],
   "source": [
    "# pba_e_hull_df = pd.DataFrame(index=range(len(data_1)),columns=['Composition','Formula','e_above_hull','A_atom','P_atom','R_atom','n_A','n_H2O'])\n",
    "# for i in range(len(pba_entries)):\n",
    "#     try:\n",
    "#         if i%250 == 0:\n",
    "#             print(str(i) + 'th iteration') #Just to make it easier to keep track of how the algorithm is running\n",
    "            \n",
    "#         struct=data_1[i]['input']['structure']\n",
    "#         pba_entry = pba_entries[i]\n",
    "#         if type(pba_entry) == str: #If the entry is string, then it was filtered out and we didn't create a pymatgen entry for it.\n",
    "#             continue\n",
    "#         comp = pba_entry.composition\n",
    "\n",
    "#         h2o_flag = False #Setting up a flag to tell whether this PBA is hydrated\n",
    "#         if 'O' in comp.as_dict().keys():\n",
    "#             h2o_flag = True\n",
    "\n",
    "#         comp_dict = {'structure': my_crystal_nn(struct)} #Using my custom CrystalNN function to get the A,P,R\n",
    "\n",
    "#         repeat_flag = False #initializing flag to indicate whether to move on to next structure because this is a repeat\n",
    "#         for prev in range(i): #loop through previously created entriaes to check if there are for the exact same PBA:\n",
    "#             if ((comp_dict['structure'][0] == pba_e_hull_df.iloc[prev,3]) & #Checks if A atom is same\n",
    "#                 (comp_dict['structure'][1] == pba_e_hull_df.iloc[prev,4]) & #Checks P atom\n",
    "#                 (comp_dict['structure'][2] == pba_e_hull_df.iloc[prev,5]) & #Checks R atom\n",
    "#                 (comp.as_dict()[comp_dict['structure'][0]] == pba_e_hull_df.iloc[prev,6]) & #Checks # of A atoms\n",
    "#                 (comp.as_dict()['O'] == pba_e_hull_df.iloc[prev,7])): #checks # water molecules\n",
    "#                 repeat_flag = True\n",
    "#                 break\n",
    "#         if repeat_flag:\n",
    "#             continue\n",
    "\n",
    "#         #Making list of other PBAs from list pba_entries with the same composition:\n",
    "#         same_comps = []\n",
    "#         for j in range(len(pba_entries)):\n",
    "#             if type(pba_entries[j]) is str: #skip empty entries\n",
    "#                 continue\n",
    "#             if pba_entries[j].composition == comp:\n",
    "#                 same_comps.append([pba_entries[j],j])\n",
    "\n",
    "#         for k in range(len(same_comps)):\n",
    "#             comp_dict[same_comps[k][1]] = my_crystal_nn(data_1[same_comps[k][1]]['input']['structure'])\n",
    "#         #comp_dict is now a dictionary of all structures in data_1 with the same composition. The dictionary index\n",
    "#         #is the index of the structure in data_1, and the value is a list of the [A,P,R] atom identities.\n",
    "\n",
    "#         for k in range(len(same_comps)):\n",
    "#             if comp_dict[same_comps[k][1]][1] != comp_dict['structure'][1] or comp_dict[same_comps[k][1]][2] != comp_dict['structure'][2]:\n",
    "#                 del comp_dict[same_comps[k][1]]\n",
    "#         #comp_dict is now a dictionary of the structures in data_1 with same composition AND same A,P,R atoms\n",
    "\n",
    "#         #We also want to delete the structures with different APR atoms dictionary from the same_comp list.\n",
    "#         same_comps_and_APR = []\n",
    "#         for k in range(len(same_comps)):\n",
    "#             if same_comps[k][1] in comp_dict.keys(): #check if the index for that structure is in the comp_dict keys\n",
    "#                 same_comps_and_APR.append(same_comps[k][0])\n",
    "#         #same_comps_and_APR is now a list of the pymatgen entries with the same composition and APR atoms\n",
    "\n",
    "#         #Accessing MP data for structures with the any of the same atoms:\n",
    "#         comp_atoms = comp.as_dict().keys()\n",
    "#         entries = mpr.get_entries_in_chemsys(comp_atoms)\n",
    "#         #Adding our pbas to this list of pymatgen entries:\n",
    "#         entries = entries + same_comps_and_APR\n",
    "\n",
    "#         #Applying correction using MPRester:\n",
    "#         corrected_entries = mpc.process_entries(entries)\n",
    "\n",
    "#         #If PBA is hydrated (conatains at least one H2O), the corrected_entries step will get rid of the PBAs.\n",
    "#         #Therefore, we add the pba entries back into the corrected_entries list here:\n",
    "#         if h2o_flag:\n",
    "#             corrected_entries = corrected_entries + same_comps_and_APR\n",
    "\n",
    "#         #Making phase diagram:\n",
    "#         phase_d = PhaseDiagram(corrected_entries)\n",
    "\n",
    "#         #Looping through the PBA structures to find the lowest energy above hull value:\n",
    "#         e_above_hull_list = []\n",
    "#         for k in range(1,len(same_comps_and_APR)+1):\n",
    "#             e_above_hull_list.append(phase_d.get_e_above_hull(corrected_entries[-k]))\n",
    "#         e_above_hull = min(e_above_hull_list)\n",
    "\n",
    "#         #Adding the values known so far to the main df:\n",
    "#         pba_e_hull_df.loc[i, 'Composition'] = comp\n",
    "#         pba_e_hull_df.loc[i, 'Formula'] = comp.formula\n",
    "#         pba_e_hull_df.loc[i, 'e_above_hull'] = e_above_hull\n",
    "\n",
    "#         #Adding the A, P, and R atoms to main df:\n",
    "#         pba_e_hull_df.loc[i, 'A_atom'] = comp_dict['structure'][0]\n",
    "#         pba_e_hull_df.loc[i, 'P_atom'] = comp_dict['structure'][1]\n",
    "#         pba_e_hull_df.loc[i, 'R_atom'] = comp_dict['structure'][2]\n",
    "#         pba_e_hull_df.loc[i, 'n_A'] = comp.as_dict()[comp_dict['structure'][0]]\n",
    "#         if h2o_flag:\n",
    "#             pba_e_hull_df.loc[i, 'n_H2O'] = comp.as_dict()['O']\n",
    "#         else:\n",
    "#             pba_e_hull_df.loc[i, 'n_H2O'] = 0\n",
    "        \n",
    "#     except:\n",
    "#         print('Error on ' + str(i))\n",
    "#         continue"
   ]
  },
  {
   "cell_type": "code",
   "execution_count": 16,
   "metadata": {},
   "outputs": [],
   "source": [
    "# pba_e_hull_df.head()"
   ]
  },
  {
   "cell_type": "code",
   "execution_count": 17,
   "metadata": {},
   "outputs": [],
   "source": [
    "# #Saving to file as pba_e_hull_df_h2o.csv\n",
    "# pba_e_hull_df.to_csv('pba_e_hull_df_h2o.csv')"
   ]
  },
  {
   "cell_type": "code",
   "execution_count": 18,
   "metadata": {},
   "outputs": [],
   "source": [
    "pba_e_hull_df= pd.read_csv('pba_e_hull_df_h2o.csv')\n",
    "pba_e_hull_df.drop('Unnamed: 0', axis = 1, inplace = True)"
   ]
  },
  {
   "cell_type": "code",
   "execution_count": 19,
   "metadata": {},
   "outputs": [
    {
     "data": {
      "text/html": [
       "<div>\n",
       "<style scoped>\n",
       "    .dataframe tbody tr th:only-of-type {\n",
       "        vertical-align: middle;\n",
       "    }\n",
       "\n",
       "    .dataframe tbody tr th {\n",
       "        vertical-align: top;\n",
       "    }\n",
       "\n",
       "    .dataframe thead th {\n",
       "        text-align: right;\n",
       "    }\n",
       "</style>\n",
       "<table border=\"1\" class=\"dataframe\">\n",
       "  <thead>\n",
       "    <tr style=\"text-align: right;\">\n",
       "      <th></th>\n",
       "      <th>Composition</th>\n",
       "      <th>Formula</th>\n",
       "      <th>e_above_hull</th>\n",
       "      <th>A_atom</th>\n",
       "      <th>P_atom</th>\n",
       "      <th>R_atom</th>\n",
       "      <th>n_A</th>\n",
       "      <th>n_H2O</th>\n",
       "    </tr>\n",
       "  </thead>\n",
       "  <tbody>\n",
       "    <tr>\n",
       "      <th>1287</th>\n",
       "      <td>Mn4 Fe4 H6 C24 N24 O3</td>\n",
       "      <td>Mn4 Fe4 H6 C24 N24 O3</td>\n",
       "      <td>0.253329</td>\n",
       "      <td>NaN</td>\n",
       "      <td>Mn</td>\n",
       "      <td>Fe</td>\n",
       "      <td>0.0</td>\n",
       "      <td>3.0</td>\n",
       "    </tr>\n",
       "    <tr>\n",
       "      <th>1288</th>\n",
       "      <td>NaN</td>\n",
       "      <td>NaN</td>\n",
       "      <td>NaN</td>\n",
       "      <td>NaN</td>\n",
       "      <td>NaN</td>\n",
       "      <td>NaN</td>\n",
       "      <td>NaN</td>\n",
       "      <td>NaN</td>\n",
       "    </tr>\n",
       "    <tr>\n",
       "      <th>1289</th>\n",
       "      <td>NaN</td>\n",
       "      <td>NaN</td>\n",
       "      <td>NaN</td>\n",
       "      <td>NaN</td>\n",
       "      <td>NaN</td>\n",
       "      <td>NaN</td>\n",
       "      <td>NaN</td>\n",
       "      <td>NaN</td>\n",
       "    </tr>\n",
       "    <tr>\n",
       "      <th>1290</th>\n",
       "      <td>NaN</td>\n",
       "      <td>NaN</td>\n",
       "      <td>NaN</td>\n",
       "      <td>NaN</td>\n",
       "      <td>NaN</td>\n",
       "      <td>NaN</td>\n",
       "      <td>NaN</td>\n",
       "      <td>NaN</td>\n",
       "    </tr>\n",
       "    <tr>\n",
       "      <th>1291</th>\n",
       "      <td>Rb8 V4 Fe4 C24 N24</td>\n",
       "      <td>Rb8 V4 Fe4 C24 N24</td>\n",
       "      <td>0.080950</td>\n",
       "      <td>Rb</td>\n",
       "      <td>V</td>\n",
       "      <td>Fe</td>\n",
       "      <td>8.0</td>\n",
       "      <td>0.0</td>\n",
       "    </tr>\n",
       "    <tr>\n",
       "      <th>1292</th>\n",
       "      <td>NaN</td>\n",
       "      <td>NaN</td>\n",
       "      <td>NaN</td>\n",
       "      <td>NaN</td>\n",
       "      <td>NaN</td>\n",
       "      <td>NaN</td>\n",
       "      <td>NaN</td>\n",
       "      <td>NaN</td>\n",
       "    </tr>\n",
       "    <tr>\n",
       "      <th>1293</th>\n",
       "      <td>NaN</td>\n",
       "      <td>NaN</td>\n",
       "      <td>NaN</td>\n",
       "      <td>NaN</td>\n",
       "      <td>NaN</td>\n",
       "      <td>NaN</td>\n",
       "      <td>NaN</td>\n",
       "      <td>NaN</td>\n",
       "    </tr>\n",
       "    <tr>\n",
       "      <th>1294</th>\n",
       "      <td>Rb8 Mn4 Zn4 C24 N24</td>\n",
       "      <td>Rb8 Mn4 Zn4 C24 N24</td>\n",
       "      <td>0.128766</td>\n",
       "      <td>Rb</td>\n",
       "      <td>Zn</td>\n",
       "      <td>Mn</td>\n",
       "      <td>8.0</td>\n",
       "      <td>0.0</td>\n",
       "    </tr>\n",
       "  </tbody>\n",
       "</table>\n",
       "</div>"
      ],
      "text/plain": [
       "                Composition                Formula  e_above_hull A_atom  \\\n",
       "1287  Mn4 Fe4 H6 C24 N24 O3  Mn4 Fe4 H6 C24 N24 O3      0.253329    NaN   \n",
       "1288                    NaN                    NaN           NaN    NaN   \n",
       "1289                    NaN                    NaN           NaN    NaN   \n",
       "1290                    NaN                    NaN           NaN    NaN   \n",
       "1291     Rb8 V4 Fe4 C24 N24     Rb8 V4 Fe4 C24 N24      0.080950     Rb   \n",
       "1292                    NaN                    NaN           NaN    NaN   \n",
       "1293                    NaN                    NaN           NaN    NaN   \n",
       "1294    Rb8 Mn4 Zn4 C24 N24    Rb8 Mn4 Zn4 C24 N24      0.128766     Rb   \n",
       "\n",
       "     P_atom R_atom  n_A  n_H2O  \n",
       "1287     Mn     Fe  0.0    3.0  \n",
       "1288    NaN    NaN  NaN    NaN  \n",
       "1289    NaN    NaN  NaN    NaN  \n",
       "1290    NaN    NaN  NaN    NaN  \n",
       "1291      V     Fe  8.0    0.0  \n",
       "1292    NaN    NaN  NaN    NaN  \n",
       "1293    NaN    NaN  NaN    NaN  \n",
       "1294     Zn     Mn  8.0    0.0  "
      ]
     },
     "execution_count": 19,
     "metadata": {},
     "output_type": "execute_result"
    }
   ],
   "source": [
    "pba_e_hull_df.iloc[1287:1295]"
   ]
  },
  {
   "cell_type": "code",
   "execution_count": 20,
   "metadata": {},
   "outputs": [
    {
     "data": {
      "text/plain": [
       "172"
      ]
     },
     "execution_count": 20,
     "metadata": {},
     "output_type": "execute_result"
    }
   ],
   "source": [
    "len(pba_e_hull_df[pba_e_hull_df['n_H2O'] > 0])"
   ]
  },
  {
   "cell_type": "markdown",
   "metadata": {},
   "source": [
    "From this, we see that there are 172 unique structures that contain water molecules."
   ]
  },
  {
   "cell_type": "markdown",
   "metadata": {},
   "source": [
    "## Analyzing hydration data\n",
    "We will use the e_hull values for the given structures to extrapolate the e_hull values for each PBA at 100% hydration. Using this, we will be able to determine what fraction of the PBAs are stable at 100% hydration.\n",
    "\n",
    "Note that others have found in previous analyses that e_hull values have a very strong linear relationship with # of water molecules, so extrapolating e_hull values at 100% hydration is a safe method of determining stability."
   ]
  },
  {
   "cell_type": "code",
   "execution_count": 170,
   "metadata": {},
   "outputs": [],
   "source": [
    "pba_h2o = pba_e_hull_df[(pba_e_hull_df['n_H2O'] > 0)]"
   ]
  },
  {
   "cell_type": "code",
   "execution_count": 171,
   "metadata": {},
   "outputs": [
    {
     "data": {
      "text/plain": [
       "array(['Mn', 'Fe', 'Cr', 'Co', 'Zn', 'V'], dtype=object)"
      ]
     },
     "execution_count": 171,
     "metadata": {},
     "output_type": "execute_result"
    }
   ],
   "source": [
    "p_atoms = pba_h2o['P_atom'].unique()\n",
    "p_atoms"
   ]
  },
  {
   "cell_type": "code",
   "execution_count": 172,
   "metadata": {},
   "outputs": [
    {
     "data": {
      "text/plain": [
       "array(['Fe', 'Mn', 'Cr', 'Os', 'Co', 'V'], dtype=object)"
      ]
     },
     "execution_count": 172,
     "metadata": {},
     "output_type": "execute_result"
    }
   ],
   "source": [
    "r_atoms = pba_h2o['R_atom'].unique()\n",
    "r_atoms"
   ]
  },
  {
   "cell_type": "markdown",
   "metadata": {},
   "source": [
    "### Walking through the analysis for one PBA:"
   ]
  },
  {
   "cell_type": "code",
   "execution_count": 173,
   "metadata": {},
   "outputs": [
    {
     "data": {
      "text/html": [
       "<div>\n",
       "<style scoped>\n",
       "    .dataframe tbody tr th:only-of-type {\n",
       "        vertical-align: middle;\n",
       "    }\n",
       "\n",
       "    .dataframe tbody tr th {\n",
       "        vertical-align: top;\n",
       "    }\n",
       "\n",
       "    .dataframe thead th {\n",
       "        text-align: right;\n",
       "    }\n",
       "</style>\n",
       "<table border=\"1\" class=\"dataframe\">\n",
       "  <thead>\n",
       "    <tr style=\"text-align: right;\">\n",
       "      <th></th>\n",
       "      <th>Composition</th>\n",
       "      <th>Formula</th>\n",
       "      <th>e_above_hull</th>\n",
       "      <th>A_atom</th>\n",
       "      <th>P_atom</th>\n",
       "      <th>R_atom</th>\n",
       "      <th>n_A</th>\n",
       "      <th>n_H2O</th>\n",
       "    </tr>\n",
       "  </thead>\n",
       "  <tbody>\n",
       "    <tr>\n",
       "      <th>1255</th>\n",
       "      <td>Mn4 Fe4 H2 C24 N24 O1</td>\n",
       "      <td>Mn4 Fe4 H2 C24 N24 O1</td>\n",
       "      <td>0.214177</td>\n",
       "      <td>NaN</td>\n",
       "      <td>Mn</td>\n",
       "      <td>Fe</td>\n",
       "      <td>0.0</td>\n",
       "      <td>1.0</td>\n",
       "    </tr>\n",
       "    <tr>\n",
       "      <th>1881</th>\n",
       "      <td>Mn4 Fe4 H4 C24 N24 O2</td>\n",
       "      <td>Mn4 Fe4 H4 C24 N24 O2</td>\n",
       "      <td>0.234781</td>\n",
       "      <td>NaN</td>\n",
       "      <td>Mn</td>\n",
       "      <td>Fe</td>\n",
       "      <td>0.0</td>\n",
       "      <td>2.0</td>\n",
       "    </tr>\n",
       "    <tr>\n",
       "      <th>1287</th>\n",
       "      <td>Mn4 Fe4 H6 C24 N24 O3</td>\n",
       "      <td>Mn4 Fe4 H6 C24 N24 O3</td>\n",
       "      <td>0.253329</td>\n",
       "      <td>NaN</td>\n",
       "      <td>Mn</td>\n",
       "      <td>Fe</td>\n",
       "      <td>0.0</td>\n",
       "      <td>3.0</td>\n",
       "    </tr>\n",
       "    <tr>\n",
       "      <th>1261</th>\n",
       "      <td>Mn4 Fe4 H8 C24 N24 O4</td>\n",
       "      <td>Mn4 Fe4 H8 C24 N24 O4</td>\n",
       "      <td>0.269570</td>\n",
       "      <td>NaN</td>\n",
       "      <td>Mn</td>\n",
       "      <td>Fe</td>\n",
       "      <td>0.0</td>\n",
       "      <td>4.0</td>\n",
       "    </tr>\n",
       "    <tr>\n",
       "      <th>1903</th>\n",
       "      <td>Mn4 Fe4 H10 C24 N24 O5</td>\n",
       "      <td>Mn4 Fe4 H10 C24 N24 O5</td>\n",
       "      <td>0.285426</td>\n",
       "      <td>NaN</td>\n",
       "      <td>Mn</td>\n",
       "      <td>Fe</td>\n",
       "      <td>0.0</td>\n",
       "      <td>5.0</td>\n",
       "    </tr>\n",
       "    <tr>\n",
       "      <th>1891</th>\n",
       "      <td>Mn4 Fe4 H12 C24 N24 O6</td>\n",
       "      <td>Mn4 Fe4 H12 C24 N24 O6</td>\n",
       "      <td>0.299790</td>\n",
       "      <td>NaN</td>\n",
       "      <td>Mn</td>\n",
       "      <td>Fe</td>\n",
       "      <td>0.0</td>\n",
       "      <td>6.0</td>\n",
       "    </tr>\n",
       "    <tr>\n",
       "      <th>1901</th>\n",
       "      <td>Mn4 Fe4 H14 C24 N24 O7</td>\n",
       "      <td>Mn4 Fe4 H14 C24 N24 O7</td>\n",
       "      <td>0.312793</td>\n",
       "      <td>NaN</td>\n",
       "      <td>Mn</td>\n",
       "      <td>Fe</td>\n",
       "      <td>0.0</td>\n",
       "      <td>7.0</td>\n",
       "    </tr>\n",
       "    <tr>\n",
       "      <th>1913</th>\n",
       "      <td>Mn4 Fe4 H16 C24 N24 O8</td>\n",
       "      <td>Mn4 Fe4 H16 C24 N24 O8</td>\n",
       "      <td>0.325585</td>\n",
       "      <td>NaN</td>\n",
       "      <td>Mn</td>\n",
       "      <td>Fe</td>\n",
       "      <td>0.0</td>\n",
       "      <td>8.0</td>\n",
       "    </tr>\n",
       "  </tbody>\n",
       "</table>\n",
       "</div>"
      ],
      "text/plain": [
       "                 Composition                 Formula  e_above_hull A_atom  \\\n",
       "1255   Mn4 Fe4 H2 C24 N24 O1   Mn4 Fe4 H2 C24 N24 O1      0.214177    NaN   \n",
       "1881   Mn4 Fe4 H4 C24 N24 O2   Mn4 Fe4 H4 C24 N24 O2      0.234781    NaN   \n",
       "1287   Mn4 Fe4 H6 C24 N24 O3   Mn4 Fe4 H6 C24 N24 O3      0.253329    NaN   \n",
       "1261   Mn4 Fe4 H8 C24 N24 O4   Mn4 Fe4 H8 C24 N24 O4      0.269570    NaN   \n",
       "1903  Mn4 Fe4 H10 C24 N24 O5  Mn4 Fe4 H10 C24 N24 O5      0.285426    NaN   \n",
       "1891  Mn4 Fe4 H12 C24 N24 O6  Mn4 Fe4 H12 C24 N24 O6      0.299790    NaN   \n",
       "1901  Mn4 Fe4 H14 C24 N24 O7  Mn4 Fe4 H14 C24 N24 O7      0.312793    NaN   \n",
       "1913  Mn4 Fe4 H16 C24 N24 O8  Mn4 Fe4 H16 C24 N24 O8      0.325585    NaN   \n",
       "\n",
       "     P_atom R_atom  n_A  n_H2O  \n",
       "1255     Mn     Fe  0.0    1.0  \n",
       "1881     Mn     Fe  0.0    2.0  \n",
       "1287     Mn     Fe  0.0    3.0  \n",
       "1261     Mn     Fe  0.0    4.0  \n",
       "1903     Mn     Fe  0.0    5.0  \n",
       "1891     Mn     Fe  0.0    6.0  \n",
       "1901     Mn     Fe  0.0    7.0  \n",
       "1913     Mn     Fe  0.0    8.0  "
      ]
     },
     "execution_count": 173,
     "metadata": {},
     "output_type": "execute_result"
    }
   ],
   "source": [
    "mn_fe = pba_h2o[(pba_h2o['P_atom'] == 'Mn') & (pba_h2o['R_atom'] == 'Fe')]\n",
    "mn_fe = mn_fe.sort_values(by = 'n_H2O')\n",
    "mn_fe"
   ]
  },
  {
   "cell_type": "markdown",
   "metadata": {},
   "source": [
    "This PBA already has entries for all 8 hydration levels. Let's take a look at a simple plot of e_hull vs n_H2O:"
   ]
  },
  {
   "cell_type": "code",
   "execution_count": 174,
   "metadata": {},
   "outputs": [
    {
     "data": {
      "text/plain": [
       "Text(0,0.5,'e_above_hull')"
      ]
     },
     "execution_count": 174,
     "metadata": {},
     "output_type": "execute_result"
    },
    {
     "data": {
      "image/png": "[encoded data removed]",
      "text/plain": [
       "<Figure size 864x576 with 1 Axes>"
      ]
     },
     "metadata": {},
     "output_type": "display_data"
    }
   ],
   "source": [
    "plt.plot(mn_fe['n_H2O'],mn_fe['e_above_hull'])\n",
    "plt.title('Energy above hull versus number of water molecules for P = Mn, R = Fe')\n",
    "plt.xlabel('Number of water molecules')\n",
    "plt.ylabel('e_above_hull')"
   ]
  },
  {
   "cell_type": "markdown",
   "metadata": {},
   "source": [
    "Because the e_hull value for this PBA is greater than 0.25 at 100% hydration, we would consider this PBA unstable."
   ]
  },
  {
   "cell_type": "markdown",
   "metadata": {},
   "source": [
    "Let's take a look at another PBA:"
   ]
  },
  {
   "cell_type": "code",
   "execution_count": 175,
   "metadata": {},
   "outputs": [
    {
     "data": {
      "text/plain": [
       "'V'"
      ]
     },
     "execution_count": 175,
     "metadata": {},
     "output_type": "execute_result"
    }
   ],
   "source": [
    "p5  = p_atoms[5]\n",
    "p5"
   ]
  },
  {
   "cell_type": "code",
   "execution_count": 176,
   "metadata": {},
   "outputs": [
    {
     "data": {
      "text/plain": [
       "'V'"
      ]
     },
     "execution_count": 176,
     "metadata": {},
     "output_type": "execute_result"
    }
   ],
   "source": [
    "r5 = r_atoms[5]\n",
    "r5"
   ]
  },
  {
   "cell_type": "code",
   "execution_count": 177,
   "metadata": {},
   "outputs": [
    {
     "data": {
      "text/html": [
       "<div>\n",
       "<style scoped>\n",
       "    .dataframe tbody tr th:only-of-type {\n",
       "        vertical-align: middle;\n",
       "    }\n",
       "\n",
       "    .dataframe tbody tr th {\n",
       "        vertical-align: top;\n",
       "    }\n",
       "\n",
       "    .dataframe thead th {\n",
       "        text-align: right;\n",
       "    }\n",
       "</style>\n",
       "<table border=\"1\" class=\"dataframe\">\n",
       "  <thead>\n",
       "    <tr style=\"text-align: right;\">\n",
       "      <th></th>\n",
       "      <th>Composition</th>\n",
       "      <th>Formula</th>\n",
       "      <th>e_above_hull</th>\n",
       "      <th>A_atom</th>\n",
       "      <th>P_atom</th>\n",
       "      <th>R_atom</th>\n",
       "      <th>n_A</th>\n",
       "      <th>n_H2O</th>\n",
       "    </tr>\n",
       "  </thead>\n",
       "  <tbody>\n",
       "    <tr>\n",
       "      <th>2099</th>\n",
       "      <td>V4 Cr4 H2 C24 N24 O1</td>\n",
       "      <td>V4 Cr4 H2 C24 N24 O1</td>\n",
       "      <td>0.383514</td>\n",
       "      <td>NaN</td>\n",
       "      <td>Cr</td>\n",
       "      <td>V</td>\n",
       "      <td>0.0</td>\n",
       "      <td>1.0</td>\n",
       "    </tr>\n",
       "    <tr>\n",
       "      <th>2076</th>\n",
       "      <td>V4 Cr4 H6 C24 N24 O3</td>\n",
       "      <td>V4 Cr4 H6 C24 N24 O3</td>\n",
       "      <td>0.393075</td>\n",
       "      <td>NaN</td>\n",
       "      <td>Cr</td>\n",
       "      <td>V</td>\n",
       "      <td>0.0</td>\n",
       "      <td>3.0</td>\n",
       "    </tr>\n",
       "    <tr>\n",
       "      <th>1950</th>\n",
       "      <td>V4 Cr4 H8 C24 N24 O4</td>\n",
       "      <td>V4 Cr4 H8 C24 N24 O4</td>\n",
       "      <td>0.400650</td>\n",
       "      <td>NaN</td>\n",
       "      <td>Cr</td>\n",
       "      <td>V</td>\n",
       "      <td>0.0</td>\n",
       "      <td>4.0</td>\n",
       "    </tr>\n",
       "    <tr>\n",
       "      <th>2108</th>\n",
       "      <td>V4 Cr4 H12 C24 N24 O6</td>\n",
       "      <td>V4 Cr4 H12 C24 N24 O6</td>\n",
       "      <td>0.420777</td>\n",
       "      <td>NaN</td>\n",
       "      <td>Cr</td>\n",
       "      <td>V</td>\n",
       "      <td>0.0</td>\n",
       "      <td>6.0</td>\n",
       "    </tr>\n",
       "    <tr>\n",
       "      <th>2063</th>\n",
       "      <td>V4 Cr4 H16 C24 N24 O8</td>\n",
       "      <td>V4 Cr4 H16 C24 N24 O8</td>\n",
       "      <td>0.431159</td>\n",
       "      <td>NaN</td>\n",
       "      <td>Cr</td>\n",
       "      <td>V</td>\n",
       "      <td>0.0</td>\n",
       "      <td>8.0</td>\n",
       "    </tr>\n",
       "  </tbody>\n",
       "</table>\n",
       "</div>"
      ],
      "text/plain": [
       "                Composition                Formula  e_above_hull A_atom  \\\n",
       "2099   V4 Cr4 H2 C24 N24 O1   V4 Cr4 H2 C24 N24 O1      0.383514    NaN   \n",
       "2076   V4 Cr4 H6 C24 N24 O3   V4 Cr4 H6 C24 N24 O3      0.393075    NaN   \n",
       "1950   V4 Cr4 H8 C24 N24 O4   V4 Cr4 H8 C24 N24 O4      0.400650    NaN   \n",
       "2108  V4 Cr4 H12 C24 N24 O6  V4 Cr4 H12 C24 N24 O6      0.420777    NaN   \n",
       "2063  V4 Cr4 H16 C24 N24 O8  V4 Cr4 H16 C24 N24 O8      0.431159    NaN   \n",
       "\n",
       "     P_atom R_atom  n_A  n_H2O  \n",
       "2099     Cr      V  0.0    1.0  \n",
       "2076     Cr      V  0.0    3.0  \n",
       "1950     Cr      V  0.0    4.0  \n",
       "2108     Cr      V  0.0    6.0  \n",
       "2063     Cr      V  0.0    8.0  "
      ]
     },
     "execution_count": 177,
     "metadata": {},
     "output_type": "execute_result"
    }
   ],
   "source": [
    "cr_v = pba_h2o[(pba_h2o['P_atom'] == 'Cr') & (pba_h2o['R_atom'] == 'V')]\n",
    "cr_v = cr_v.sort_values(by = 'n_H2O')\n",
    "cr_v"
   ]
  },
  {
   "cell_type": "code",
   "execution_count": 178,
   "metadata": {},
   "outputs": [
    {
     "data": {
      "text/plain": [
       "False"
      ]
     },
     "execution_count": 178,
     "metadata": {},
     "output_type": "execute_result"
    }
   ],
   "source": [
    "7 in cr_v['n_H2O'].values"
   ]
  },
  {
   "cell_type": "code",
   "execution_count": 179,
   "metadata": {},
   "outputs": [
    {
     "data": {
      "text/plain": [
       "[<matplotlib.lines.Line2D at 0x2895db8ff60>]"
      ]
     },
     "execution_count": 179,
     "metadata": {},
     "output_type": "execute_result"
    },
    {
     "data": {
      "image/png": "[encoded data removed]",
      "text/plain": [
       "<Figure size 864x576 with 1 Axes>"
      ]
     },
     "metadata": {},
     "output_type": "display_data"
    }
   ],
   "source": [
    "plt.plot(cr_v['n_H2O'],cr_v['e_above_hull'])"
   ]
  },
  {
   "cell_type": "markdown",
   "metadata": {},
   "source": [
    "Both of these PBAs already have an entry for the 100% hydrated structure. Let's check if there are any PBAs that don't have the 100% hydrated strucutre, which means we would have to extraplolate those e_hulls."
   ]
  },
  {
   "cell_type": "code",
   "execution_count": 180,
   "metadata": {
    "scrolled": false
   },
   "outputs": [
    {
     "name": "stdout",
     "output_type": "stream",
     "text": [
      "Mn Mn\n",
      "Mn Cr\n",
      "Mn Co\n",
      "Fe Co\n",
      "Cr Os\n",
      "Co Fe\n",
      "Co Mn\n",
      "Co Cr\n",
      "Co V\n",
      "Zn Fe\n",
      "Zn Os\n",
      "Zn Co\n",
      "Zn V\n",
      "V Co\n"
     ]
    }
   ],
   "source": [
    "for p in p_atoms:\n",
    "    for r in r_atoms:\n",
    "        pbas = pba_h2o[(pba_h2o['P_atom'] == p) & (pba_h2o['R_atom'] == r)]\n",
    "        if 8 in pbas['n_H2O'].values:\n",
    "            continue\n",
    "        else:\n",
    "            print(p, r)"
   ]
  },
  {
   "cell_type": "markdown",
   "metadata": {},
   "source": [
    "Okay, so we'll have to extrapolate the e_hull for the 100% hydrated structure for these PBAs. Let's walk through the process for the Mn Mn PBA:"
   ]
  },
  {
   "cell_type": "code",
   "execution_count": 72,
   "metadata": {},
   "outputs": [
    {
     "data": {
      "text/html": [
       "<div>\n",
       "<style scoped>\n",
       "    .dataframe tbody tr th:only-of-type {\n",
       "        vertical-align: middle;\n",
       "    }\n",
       "\n",
       "    .dataframe tbody tr th {\n",
       "        vertical-align: top;\n",
       "    }\n",
       "\n",
       "    .dataframe thead th {\n",
       "        text-align: right;\n",
       "    }\n",
       "</style>\n",
       "<table border=\"1\" class=\"dataframe\">\n",
       "  <thead>\n",
       "    <tr style=\"text-align: right;\">\n",
       "      <th></th>\n",
       "      <th>Composition</th>\n",
       "      <th>Formula</th>\n",
       "      <th>e_above_hull</th>\n",
       "      <th>A_atom</th>\n",
       "      <th>P_atom</th>\n",
       "      <th>R_atom</th>\n",
       "      <th>n_A</th>\n",
       "      <th>n_H2O</th>\n",
       "    </tr>\n",
       "  </thead>\n",
       "  <tbody>\n",
       "    <tr>\n",
       "      <th>2161</th>\n",
       "      <td>Mn8 H2 C24 N24 O1</td>\n",
       "      <td>Mn8 H2 C24 N24 O1</td>\n",
       "      <td>0.256120</td>\n",
       "      <td>NaN</td>\n",
       "      <td>Mn</td>\n",
       "      <td>Mn</td>\n",
       "      <td>0.0</td>\n",
       "      <td>1.0</td>\n",
       "    </tr>\n",
       "    <tr>\n",
       "      <th>2212</th>\n",
       "      <td>Mn8 H4 C24 N24 O2</td>\n",
       "      <td>Mn8 H4 C24 N24 O2</td>\n",
       "      <td>0.274493</td>\n",
       "      <td>NaN</td>\n",
       "      <td>Mn</td>\n",
       "      <td>Mn</td>\n",
       "      <td>0.0</td>\n",
       "      <td>2.0</td>\n",
       "    </tr>\n",
       "    <tr>\n",
       "      <th>2159</th>\n",
       "      <td>Mn8 H6 C24 N24 O3</td>\n",
       "      <td>Mn8 H6 C24 N24 O3</td>\n",
       "      <td>0.291061</td>\n",
       "      <td>NaN</td>\n",
       "      <td>Mn</td>\n",
       "      <td>Mn</td>\n",
       "      <td>0.0</td>\n",
       "      <td>3.0</td>\n",
       "    </tr>\n",
       "    <tr>\n",
       "      <th>1877</th>\n",
       "      <td>Mn8 H8 C24 N24 O4</td>\n",
       "      <td>Mn8 H8 C24 N24 O4</td>\n",
       "      <td>0.305722</td>\n",
       "      <td>NaN</td>\n",
       "      <td>Mn</td>\n",
       "      <td>Mn</td>\n",
       "      <td>0.0</td>\n",
       "      <td>4.0</td>\n",
       "    </tr>\n",
       "    <tr>\n",
       "      <th>2144</th>\n",
       "      <td>Mn8 H10 C24 N24 O5</td>\n",
       "      <td>Mn8 H10 C24 N24 O5</td>\n",
       "      <td>0.319600</td>\n",
       "      <td>NaN</td>\n",
       "      <td>Mn</td>\n",
       "      <td>Mn</td>\n",
       "      <td>0.0</td>\n",
       "      <td>5.0</td>\n",
       "    </tr>\n",
       "    <tr>\n",
       "      <th>2165</th>\n",
       "      <td>Mn8 H12 C24 N24 O6</td>\n",
       "      <td>Mn8 H12 C24 N24 O6</td>\n",
       "      <td>0.332498</td>\n",
       "      <td>NaN</td>\n",
       "      <td>Mn</td>\n",
       "      <td>Mn</td>\n",
       "      <td>0.0</td>\n",
       "      <td>6.0</td>\n",
       "    </tr>\n",
       "    <tr>\n",
       "      <th>2233</th>\n",
       "      <td>Mn8 H14 C24 N24 O7</td>\n",
       "      <td>Mn8 H14 C24 N24 O7</td>\n",
       "      <td>0.344063</td>\n",
       "      <td>NaN</td>\n",
       "      <td>Mn</td>\n",
       "      <td>Mn</td>\n",
       "      <td>0.0</td>\n",
       "      <td>7.0</td>\n",
       "    </tr>\n",
       "  </tbody>\n",
       "</table>\n",
       "</div>"
      ],
      "text/plain": [
       "             Composition             Formula  e_above_hull A_atom P_atom  \\\n",
       "2161   Mn8 H2 C24 N24 O1   Mn8 H2 C24 N24 O1      0.256120    NaN     Mn   \n",
       "2212   Mn8 H4 C24 N24 O2   Mn8 H4 C24 N24 O2      0.274493    NaN     Mn   \n",
       "2159   Mn8 H6 C24 N24 O3   Mn8 H6 C24 N24 O3      0.291061    NaN     Mn   \n",
       "1877   Mn8 H8 C24 N24 O4   Mn8 H8 C24 N24 O4      0.305722    NaN     Mn   \n",
       "2144  Mn8 H10 C24 N24 O5  Mn8 H10 C24 N24 O5      0.319600    NaN     Mn   \n",
       "2165  Mn8 H12 C24 N24 O6  Mn8 H12 C24 N24 O6      0.332498    NaN     Mn   \n",
       "2233  Mn8 H14 C24 N24 O7  Mn8 H14 C24 N24 O7      0.344063    NaN     Mn   \n",
       "\n",
       "     R_atom  n_A  n_H2O  \n",
       "2161     Mn  0.0    1.0  \n",
       "2212     Mn  0.0    2.0  \n",
       "2159     Mn  0.0    3.0  \n",
       "1877     Mn  0.0    4.0  \n",
       "2144     Mn  0.0    5.0  \n",
       "2165     Mn  0.0    6.0  \n",
       "2233     Mn  0.0    7.0  "
      ]
     },
     "execution_count": 72,
     "metadata": {},
     "output_type": "execute_result"
    }
   ],
   "source": [
    "mn_mn = pba_h2o[(pba_h2o['P_atom'] == 'Mn') & (pba_h2o['R_atom'] == 'Mn')]\n",
    "mn_mn = mn_mn.sort_values(by = 'n_H2O')\n",
    "mn_mn"
   ]
  },
  {
   "cell_type": "code",
   "execution_count": 73,
   "metadata": {},
   "outputs": [
    {
     "data": {
      "text/plain": [
       "[<matplotlib.lines.Line2D at 0x28959f502b0>]"
      ]
     },
     "execution_count": 73,
     "metadata": {},
     "output_type": "execute_result"
    },
    {
     "data": {
      "image/png": "[encoded data removed]",
      "text/plain": [
       "<Figure size 432x288 with 1 Axes>"
      ]
     },
     "metadata": {},
     "output_type": "display_data"
    }
   ],
   "source": [
    "plt.plot(mn_mn['n_H2O'],mn_mn['e_above_hull'])"
   ]
  },
  {
   "cell_type": "markdown",
   "metadata": {},
   "source": [
    "Let's try to use a simple linear regression model with scikit-learn to predict the e_hull at n_H2O = 8:"
   ]
  },
  {
   "cell_type": "code",
   "execution_count": 74,
   "metadata": {},
   "outputs": [],
   "source": [
    "from sklearn import datasets, linear_model"
   ]
  },
  {
   "cell_type": "code",
   "execution_count": 75,
   "metadata": {},
   "outputs": [],
   "source": [
    "regr = linear_model.LinearRegression()"
   ]
  },
  {
   "cell_type": "code",
   "execution_count": 82,
   "metadata": {},
   "outputs": [],
   "source": [
    "x_data = mn_mn[['n_H2O']]\n",
    "y_data = mn_mn[['e_above_hull']]"
   ]
  },
  {
   "cell_type": "code",
   "execution_count": 83,
   "metadata": {},
   "outputs": [
    {
     "data": {
      "text/plain": [
       "LinearRegression(copy_X=True, fit_intercept=True, n_jobs=1, normalize=False)"
      ]
     },
     "execution_count": 83,
     "metadata": {},
     "output_type": "execute_result"
    }
   ],
   "source": [
    "regr.fit(x_data, y_data)"
   ]
  },
  {
   "cell_type": "code",
   "execution_count": 126,
   "metadata": {},
   "outputs": [
    {
     "data": {
      "text/plain": [
       "0.3617047019458272"
      ]
     },
     "execution_count": 126,
     "metadata": {},
     "output_type": "execute_result"
    }
   ],
   "source": [
    "regr.predict(8)[0][0]"
   ]
  },
  {
   "cell_type": "code",
   "execution_count": 95,
   "metadata": {},
   "outputs": [
    {
     "data": {
      "text/plain": [
       "[<matplotlib.lines.Line2D at 0x2895c8f6550>]"
      ]
     },
     "execution_count": 95,
     "metadata": {},
     "output_type": "execute_result"
    },
    {
     "data": {
      "image/png": "[encoded data removed]",
      "text/plain": [
       "<Figure size 432x288 with 1 Axes>"
      ]
     },
     "metadata": {},
     "output_type": "display_data"
    }
   ],
   "source": [
    "plt.plot(mn_mn['n_H2O'],mn_mn['e_above_hull'])\n",
    "x_range = pd.DataFrame(data = {'x':range(0,9)})\n",
    "plt.plot(x_range, regr.predict(x_range), color = 'r')"
   ]
  },
  {
   "cell_type": "markdown",
   "metadata": {},
   "source": [
    "Here, the blue is the actual data and the red is the linear regression model. As we can see, the regression model matches the data very well. Let's see what the predicted e_hull value is for the fully hydrated Mn Mn PBA:"
   ]
  },
  {
   "cell_type": "code",
   "execution_count": 99,
   "metadata": {},
   "outputs": [
    {
     "name": "stdout",
     "output_type": "stream",
     "text": [
      "[[0.3617047]]\n"
     ]
    }
   ],
   "source": [
    "print(regr.predict(8))"
   ]
  },
  {
   "cell_type": "markdown",
   "metadata": {},
   "source": [
    "Now that we know how to find the predicted e_hull for these PBAs we can write the full loop to get the e_hull values of all the PBAs. If the fully hydrated (n_H2O = 8) structure is provided, we will use the provided value. Otherwise, we will use linear regression to calculate the e_hull of the fully hydrated PBA."
   ]
  },
  {
   "cell_type": "code",
   "execution_count": 181,
   "metadata": {},
   "outputs": [
    {
     "name": "stdout",
     "output_type": "stream",
     "text": [
      "No hydrated structures provided for PBA with P = Mn and R = Co\n",
      "No hydrated structures provided for PBA with P = Fe and R = Co\n",
      "No hydrated structures provided for PBA with P = Cr and R = Os\n",
      "Only one hydrated structure for PBA with P = Co and R = Fe\n",
      "Only one hydrated structure for PBA with P = Co and R = Mn\n",
      "Only one hydrated structure for PBA with P = Co and R = Cr\n",
      "No hydrated structures provided for PBA with P = Co and R = V\n",
      "No hydrated structures provided for PBA with P = Zn and R = Fe\n",
      "Only one hydrated structure for PBA with P = Zn and R = Os\n",
      "No hydrated structures provided for PBA with P = Zn and R = Co\n",
      "No hydrated structures provided for PBA with P = Zn and R = V\n",
      "No hydrated structures provided for PBA with P = V and R = Co\n"
     ]
    }
   ],
   "source": [
    "e_hull_list_h2o = []\n",
    "for p in p_atoms:\n",
    "    for r in r_atoms:\n",
    "        pbas = pba_h2o[(pba_h2o['P_atom'] == p) & (pba_h2o['R_atom'] == r)]\n",
    "        if 8 in pbas['n_H2O'].values: #if fully hydrated PBA is already available:\n",
    "            e_hull_list_h2o.append(pbas[pbas['n_H2O'] == 8]['e_above_hull'].values[0])\n",
    "        else: #if fully hydrated PBA not available - have to do regression:\n",
    "            n_h2o = pbas[['n_H2O']]\n",
    "            e_above_hull = pbas[['e_above_hull']]\n",
    "            if len(n_h2o) == 0: #i.e. there are no structures for PBA with these P and R atoms\n",
    "                print('No hydrated structures provided for PBA with P = ' + str(p) + ' and R = ' + str(r))\n",
    "            elif len(n_h2o) == 1: #Finding structures with only a single hydrated structure i.e. can't do regression\n",
    "                print('Only one hydrated structure for PBA with P = ' + str(p) + ' and R = ' + str(r))\n",
    "            else:\n",
    "                regr.fit(n_h2o,e_above_hull)\n",
    "                e_hull_list_h2o.append(regr.predict(8)[0][0])"
   ]
  },
  {
   "cell_type": "code",
   "execution_count": 184,
   "metadata": {},
   "outputs": [
    {
     "data": {
      "text/plain": [
       "24"
      ]
     },
     "execution_count": 184,
     "metadata": {},
     "output_type": "execute_result"
    }
   ],
   "source": [
    "len(e_hull_list_h2o)"
   ]
  },
  {
   "cell_type": "markdown",
   "metadata": {},
   "source": [
    "There are 24 entries in the e_hull list, 8 PBAs with no hydrated structures, and 4 PBAs with only 1 hydrated structure, making a total of 36 PBAs. This makes sense because there are 6 unique P atoms and 6 unique R atoms, which multiply together for 36 total combinations."
   ]
  },
  {
   "cell_type": "markdown",
   "metadata": {},
   "source": [
    "Now that we have the requisite data, how many of the PBAs are stable at 100% hydration (n_H2O == 8)?"
   ]
  },
  {
   "cell_type": "code",
   "execution_count": 185,
   "metadata": {},
   "outputs": [
    {
     "data": {
      "text/plain": [
       "[]"
      ]
     },
     "execution_count": 185,
     "metadata": {},
     "output_type": "execute_result"
    }
   ],
   "source": [
    "[i for i in e_hull_list_h2o if i < .25]"
   ]
  },
  {
   "cell_type": "markdown",
   "metadata": {},
   "source": [
    "As we can see there are no PBAs with e_hull values that fall below the 0.25 eV threshold for stability. When we take a look at all of the data, we see that several PBAs come close with e_hulls of around 0.27, but no are below the 0.25 eV threshold. \n",
    "\n",
    "Therefore, we can conclude that none of the given PBAs are stable at 100% hydration. Note that not all of the possible PBAs were analyzed because there were no hydrated structures for every PBA in the original data file."
   ]
  },
  {
   "cell_type": "code",
   "execution_count": 186,
   "metadata": {
    "scrolled": false
   },
   "outputs": [
    {
     "data": {
      "text/plain": [
       "[0.3255846119050005,\n",
       " 0.3617047019458272,\n",
       " 0.40093056685898676,\n",
       " 0.2660391129110007,\n",
       " 0.4434286986549996,\n",
       " 0.3703147903552209,\n",
       " 0.3807030292799993,\n",
       " 0.4092103159852494,\n",
       " 0.3099355022362218,\n",
       " 0.4716855383552217,\n",
       " 0.3167506031102496,\n",
       " 0.34637023780975,\n",
       " 0.3559652892302223,\n",
       " 0.2779513331052215,\n",
       " 0.4311592951052212,\n",
       " 0.3258758288612213,\n",
       " 0.33539556548022104,\n",
       " 0.4537688465864989,\n",
       " 0.5105620944117213,\n",
       " 0.33826284348022195,\n",
       " 0.3637532829049999,\n",
       " 0.39332460623022136,\n",
       " 0.27398634286122103,\n",
       " 0.4732573313552218]"
      ]
     },
     "execution_count": 186,
     "metadata": {},
     "output_type": "execute_result"
    }
   ],
   "source": [
    "e_hull_list_h2o"
   ]
  }
 ],
 "metadata": {
  "kernelspec": {
   "display_name": "Python 3",
   "language": "python",
   "name": "python3"
  },
  "language_info": {
   "codemirror_mode": {
    "name": "ipython",
    "version": 3
   },
   "file_extension": ".py",
   "mimetype": "text/x-python",
   "name": "python",
   "nbconvert_exporter": "python",
   "pygments_lexer": "ipython3",
   "version": "3.6.5"
  }
 },
 "nbformat": 4,
 "nbformat_minor": 2
}
