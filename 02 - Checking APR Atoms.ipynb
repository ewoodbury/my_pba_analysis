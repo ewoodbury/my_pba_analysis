{
 "cells": [
  {
   "cell_type": "markdown",
   "metadata": {},
   "source": [
    "# Checking A,P,R Atoms"
   ]
  },
  {
   "cell_type": "markdown",
   "metadata": {},
   "source": [
    "In this notebook, I am checking that the identities of the A, P, and R atoms calculated in Notebook 01 with CrystalNN match the actual identities of the atoms from the main database. We will be comparing the dataframe pba_e_hull_df, from Notebook 01, with the json file pba_w_APR, which contains all of the data directly from the main database."
   ]
  },
  {
   "cell_type": "markdown",
   "metadata": {},
   "source": [
    "## Importing and Cleaning pba_w_APR"
   ]
  },
  {
   "cell_type": "markdown",
   "metadata": {},
   "source": [
    "pba_w_APR is a json file. Let's first look to see if it's in the proper format to import:"
   ]
  },
  {
   "cell_type": "code",
   "execution_count": 1,
   "metadata": {},
   "outputs": [],
   "source": [
    "with open('pba_w_APR.json', 'r') as file :\n",
    "  pba_json = file.read()"
   ]
  },
  {
   "cell_type": "code",
   "execution_count": 2,
   "metadata": {},
   "outputs": [
    {
     "name": "stdout",
     "output_type": "stream",
     "text": [
      "[{\"R\": \"Co\", \"P\": \"Fe\", \"A\": \"Ca\", \"n\": 4, \"input\": {\"structure\": {\"@module\": \"pymatgen.core.structure\", \"@class\": \"Structure\", \"lattice\": {\"matrix\": [[9.95090252, -0.0003358, -0.0003358], [-0.0003358, 9.95090252, 0.0003358], [-0.0003358, 0.0003358, 9.95090252]], \"a\": 9.9509025313318, \"b\": 9.9509025313318, \"c\": 9.9509025313318, \"alpha\": 89.99613296435679, \"beta\": 90.00386703564321, \"gamma\": 90.00386703564321, \"volume\": 985.3429511575596}, \"sites\": [{\"species\": [{\"element\": \"Ca\", \"occu\": 1}], \"abc\": [0.75135993, 0.75127745, 0.75127745], \"xyz\": [7.476204862928603, 7.47588864272739, 7.47588864272739], \"label\": \"Ca\"}, {\"species\": [{\"element\": \"Ca\", \"occu\": 1}], \"abc\": [0.24872255, 0.24864007, 0.75127745], \"xyz\": [2.47467807727261, 2.474361857071396, 7.47588864272739], \"label\": \"Ca\"}, {\"species\": [{\"element\": \"Ca\", \"occu\": 1}], \"abc\": [0.24872255, 0.75127745, 0.24864007], \"xyz\": [2.47467807727261, 7.47588864272739, 2.474361857071396], \"label\": \"Ca\"}, {\"species\": [{\"element\": \"Ca\", \"occu\": 1\n"
     ]
    }
   ],
   "source": [
    "print(pba_json[:1000])"
   ]
  },
  {
   "cell_type": "markdown",
   "metadata": {},
   "source": [
    "This looks like it's in the right format. We'll import the data using the loadfn method, which puts the data into a list of python dictionaries. This is the same method used in Notebook 01."
   ]
  },
  {
   "cell_type": "code",
   "execution_count": 3,
   "metadata": {},
   "outputs": [],
   "source": [
    "from monty.serialization import loadfn"
   ]
  },
  {
   "cell_type": "code",
   "execution_count": 4,
   "metadata": {},
   "outputs": [],
   "source": [
    "data_1 = loadfn('pba_w_APR.json')"
   ]
  },
  {
   "cell_type": "code",
   "execution_count": 73,
   "metadata": {
    "scrolled": false
   },
   "outputs": [],
   "source": [
    "#data_1[0]"
   ]
  },
  {
   "cell_type": "markdown",
   "metadata": {},
   "source": [
    "Let's loop through data_1 and parse the composition and atom identities into a pandas dataframe, which we'll then use to compare with the previously created dataframe."
   ]
  },
  {
   "cell_type": "code",
   "execution_count": 6,
   "metadata": {},
   "outputs": [],
   "source": [
    "import numpy as np\n",
    "import pandas as pd\n",
    "import matplotlib.pyplot as plt\n",
    "%matplotlib inline"
   ]
  },
  {
   "cell_type": "code",
   "execution_count": 7,
   "metadata": {},
   "outputs": [
    {
     "name": "stdout",
     "output_type": "stream",
     "text": [
      "3755\n",
      "3756\n",
      "3757\n",
      "3758\n",
      "3759\n",
      "3760\n",
      "3761\n",
      "3762\n",
      "3763\n",
      "3764\n",
      "3765\n",
      "3766\n",
      "3767\n",
      "3768\n",
      "3769\n",
      "3770\n",
      "3771\n",
      "3772\n",
      "3773\n",
      "3774\n",
      "3775\n",
      "3776\n",
      "3777\n",
      "3778\n",
      "3779\n",
      "3780\n",
      "3781\n",
      "3782\n"
     ]
    }
   ],
   "source": [
    "pba_APR_df = pd.DataFrame(index=range(len(data_1)),columns=['A_atom','P_atom','R_atom','n_A'])\n",
    "for i in range(len(data_1)):\n",
    "    try:\n",
    "        pba_APR_df.loc[i, 'P_atom'] = data_1[i]['P']\n",
    "        pba_APR_df.loc[i, 'R_atom'] = data_1[i]['R']\n",
    "        if 'A' in data_1[i]:\n",
    "            pba_APR_df.loc[i, 'A_atom'] = data_1[i]['A']\n",
    "        if 'n' in data_1[i]:\n",
    "            pba_APR_df.loc[i, 'n_A'] = data_1[1]['n']\n",
    "    except:\n",
    "        print(i) #the indices that are printed are for atoms that ran into an error i.e. there is not A,P, or R field"
   ]
  },
  {
   "cell_type": "code",
   "execution_count": 8,
   "metadata": {},
   "outputs": [
    {
     "data": {
      "text/html": [
       "<div>\n",
       "<style scoped>\n",
       "    .dataframe tbody tr th:only-of-type {\n",
       "        vertical-align: middle;\n",
       "    }\n",
       "\n",
       "    .dataframe tbody tr th {\n",
       "        vertical-align: top;\n",
       "    }\n",
       "\n",
       "    .dataframe thead th {\n",
       "        text-align: right;\n",
       "    }\n",
       "</style>\n",
       "<table border=\"1\" class=\"dataframe\">\n",
       "  <thead>\n",
       "    <tr style=\"text-align: right;\">\n",
       "      <th></th>\n",
       "      <th>A_atom</th>\n",
       "      <th>P_atom</th>\n",
       "      <th>R_atom</th>\n",
       "      <th>n_A</th>\n",
       "    </tr>\n",
       "  </thead>\n",
       "  <tbody>\n",
       "    <tr>\n",
       "      <th>0</th>\n",
       "      <td>Ca</td>\n",
       "      <td>Fe</td>\n",
       "      <td>Co</td>\n",
       "      <td>4</td>\n",
       "    </tr>\n",
       "    <tr>\n",
       "      <th>1</th>\n",
       "      <td>Mg</td>\n",
       "      <td>Cr</td>\n",
       "      <td>Os</td>\n",
       "      <td>4</td>\n",
       "    </tr>\n",
       "    <tr>\n",
       "      <th>2</th>\n",
       "      <td>Ca</td>\n",
       "      <td>Fe</td>\n",
       "      <td>Mn</td>\n",
       "      <td>4</td>\n",
       "    </tr>\n",
       "    <tr>\n",
       "      <th>3</th>\n",
       "      <td>Ca</td>\n",
       "      <td>Mn</td>\n",
       "      <td>Os</td>\n",
       "      <td>4</td>\n",
       "    </tr>\n",
       "    <tr>\n",
       "      <th>4</th>\n",
       "      <td>Li</td>\n",
       "      <td>Cr</td>\n",
       "      <td>Cr</td>\n",
       "      <td>4</td>\n",
       "    </tr>\n",
       "  </tbody>\n",
       "</table>\n",
       "</div>"
      ],
      "text/plain": [
       "  A_atom P_atom R_atom n_A\n",
       "0     Ca     Fe     Co   4\n",
       "1     Mg     Cr     Os   4\n",
       "2     Ca     Fe     Mn   4\n",
       "3     Ca     Mn     Os   4\n",
       "4     Li     Cr     Cr   4"
      ]
     },
     "execution_count": 8,
     "metadata": {},
     "output_type": "execute_result"
    }
   ],
   "source": [
    "pba_APR_df.head()"
   ]
  },
  {
   "cell_type": "code",
   "execution_count": 9,
   "metadata": {},
   "outputs": [
    {
     "data": {
      "text/plain": [
       "3783"
      ]
     },
     "execution_count": 9,
     "metadata": {},
     "output_type": "execute_result"
    }
   ],
   "source": [
    "len(pba_APR_df)"
   ]
  },
  {
   "cell_type": "markdown",
   "metadata": {},
   "source": [
    "As we can see, this data set is much longer than the dataset originally analyzed in Notebook 01. For the purposes of checking the A, P, and R atoms from Notebook 01, we won't worry too much about this right now.\n",
    "\n",
    "The method that we'll use is loop through the pba_e_hull_df, and for each structure we'll check that there is a corresponding structure in the pba_APR_df with the same A, P, and R atoms.\n",
    "\n",
    "If our CrystalNN method misclassified any of the atom identities in Notebook 01, then it likely will not match any of the entries in the pba_APR_df, so we'll know there was an error."
   ]
  },
  {
   "cell_type": "code",
   "execution_count": 10,
   "metadata": {},
   "outputs": [],
   "source": [
    "#Importing pba_e_hull_df:\n",
    "pba_e_hull_df = pd.read_csv('pba_e_hull_df.csv')\n",
    "pba_e_hull_df.drop('Unnamed: 0', axis = 1, inplace = True)"
   ]
  },
  {
   "cell_type": "code",
   "execution_count": 11,
   "metadata": {},
   "outputs": [
    {
     "data": {
      "text/html": [
       "<div>\n",
       "<style scoped>\n",
       "    .dataframe tbody tr th:only-of-type {\n",
       "        vertical-align: middle;\n",
       "    }\n",
       "\n",
       "    .dataframe tbody tr th {\n",
       "        vertical-align: top;\n",
       "    }\n",
       "\n",
       "    .dataframe thead th {\n",
       "        text-align: right;\n",
       "    }\n",
       "</style>\n",
       "<table border=\"1\" class=\"dataframe\">\n",
       "  <thead>\n",
       "    <tr style=\"text-align: right;\">\n",
       "      <th></th>\n",
       "      <th>Composition</th>\n",
       "      <th>e_above_hull</th>\n",
       "      <th>A_atom</th>\n",
       "      <th>P_atom</th>\n",
       "      <th>R_atom</th>\n",
       "      <th>n_A</th>\n",
       "    </tr>\n",
       "  </thead>\n",
       "  <tbody>\n",
       "    <tr>\n",
       "      <th>0</th>\n",
       "      <td>Ca4 Fe4 Co4 C24 N24</td>\n",
       "      <td>0.435563</td>\n",
       "      <td>Ca</td>\n",
       "      <td>Fe</td>\n",
       "      <td>Co</td>\n",
       "      <td>4.0</td>\n",
       "    </tr>\n",
       "    <tr>\n",
       "      <th>1</th>\n",
       "      <td>Mg4 Cr4 Os4 C24 N24</td>\n",
       "      <td>0.319625</td>\n",
       "      <td>Mg</td>\n",
       "      <td>Cr</td>\n",
       "      <td>Os</td>\n",
       "      <td>4.0</td>\n",
       "    </tr>\n",
       "    <tr>\n",
       "      <th>2</th>\n",
       "      <td>Ca4 Mn4 Fe4 C24 N24</td>\n",
       "      <td>0.382620</td>\n",
       "      <td>Ca</td>\n",
       "      <td>Fe</td>\n",
       "      <td>Mn</td>\n",
       "      <td>4.0</td>\n",
       "    </tr>\n",
       "    <tr>\n",
       "      <th>3</th>\n",
       "      <td>Ca4 Mn4 Os4 C24 N24</td>\n",
       "      <td>0.303886</td>\n",
       "      <td>Ca</td>\n",
       "      <td>Mn</td>\n",
       "      <td>Os</td>\n",
       "      <td>4.0</td>\n",
       "    </tr>\n",
       "    <tr>\n",
       "      <th>4</th>\n",
       "      <td>Li4 Cr8 C24 N24</td>\n",
       "      <td>0.320146</td>\n",
       "      <td>Li</td>\n",
       "      <td>Cr</td>\n",
       "      <td>Cr</td>\n",
       "      <td>4.0</td>\n",
       "    </tr>\n",
       "  </tbody>\n",
       "</table>\n",
       "</div>"
      ],
      "text/plain": [
       "           Composition  e_above_hull A_atom P_atom R_atom  n_A\n",
       "0  Ca4 Fe4 Co4 C24 N24      0.435563     Ca     Fe     Co  4.0\n",
       "1  Mg4 Cr4 Os4 C24 N24      0.319625     Mg     Cr     Os  4.0\n",
       "2  Ca4 Mn4 Fe4 C24 N24      0.382620     Ca     Fe     Mn  4.0\n",
       "3  Ca4 Mn4 Os4 C24 N24      0.303886     Ca     Mn     Os  4.0\n",
       "4      Li4 Cr8 C24 N24      0.320146     Li     Cr     Cr  4.0"
      ]
     },
     "execution_count": 11,
     "metadata": {},
     "output_type": "execute_result"
    }
   ],
   "source": [
    "pba_e_hull_df.head()"
   ]
  },
  {
   "cell_type": "code",
   "execution_count": 14,
   "metadata": {},
   "outputs": [
    {
     "name": "stdout",
     "output_type": "stream",
     "text": [
      "[]\n"
     ]
    }
   ],
   "source": [
    "list_of_errors = [] #This will be a list of the structures in the original df that do not correspond to any \n",
    "# of the structures in pba_APR_df.\n",
    "for i in range(len(pba_e_hull_df)):\n",
    "    A_atom = pba_e_hull_df.iloc[i]['A_atom']\n",
    "    P_atom = pba_e_hull_df.iloc[i]['P_atom']\n",
    "    R_atom = pba_e_hull_df.iloc[i]['R_atom']\n",
    "    A_entries = pba_APR_df[pba_APR_df['A_atom'] == A_atom]\n",
    "    AP_entries = A_entries[A_entries['P_atom'] == P_atom]\n",
    "    APR_entries = AP_entries[AP_entries['R_atom'] == R_atom]\n",
    "    if len(APR_entries) == 0:\n",
    "        list_of_errors.append(i)\n",
    "print(list_of_errors)"
   ]
  },
  {
   "cell_type": "markdown",
   "metadata": {},
   "source": [
    "As we can see, the list of erros is empty, so all of the structures from the Notebook 01 dataframe, pba_e_hull_df, have corresponding structures in this new dataframe. This indicates that our CrystalNN algorithm is correct."
   ]
  },
  {
   "cell_type": "markdown",
   "metadata": {},
   "source": [
    "## Filtering out structures with H or O"
   ]
  },
  {
   "cell_type": "markdown",
   "metadata": {},
   "source": [
    "Because the new data contains significantly more structures, we will first filter out any structures containing H or O (because those aren't PBAs), and then we will see whether there are indeed additional PBAs in this data that weren't in the original file."
   ]
  },
  {
   "cell_type": "markdown",
   "metadata": {},
   "source": [
    "Let's loop through the list of structures in data_1 and create a pymatgen entry for each. Then we'll check whether each structure contains H or O, and if it doesn't, we'll add its pymatgen structure to a list of PBAs."
   ]
  },
  {
   "cell_type": "code",
   "execution_count": 26,
   "metadata": {},
   "outputs": [],
   "source": [
    "import pymatgen as mg\n",
    "from pymatgen.entries.computed_entries import ComputedEntry"
   ]
  },
  {
   "cell_type": "code",
   "execution_count": 70,
   "metadata": {},
   "outputs": [],
   "source": [
    "pba_entries = []\n",
    "for i in range((len(data_1))):\n",
    "    #Creating pymatgen entry:\n",
    "    entry = ComputedEntry(composition=data_1[i]['input']['structure'].composition,\n",
    "                              energy=data_1[i]['output']['energy'],\n",
    "                              parameters = {\"nelect\": data_1[i]['input']['parameters']['NELECT'],\n",
    "                                            \"hubbards\": data_1[i]['input']['hubbards'],\n",
    "                                            \"potcar_spec\": data_1[i]['input']['potcar_spec'],\n",
    "                                            \"is_hubbard\": data_1[i]['input']['is_hubbard']})\n",
    "    \n",
    "    if 'H' in entry.composition or 'O' in entry.composition: #Filtering out structures with hydrogen or oxygen\n",
    "        continue\n",
    "    if entry.composition.as_dict()['C'] != 24 or entry.composition.as_dict()['N'] != 24:\n",
    "        #Filtering out structures that don't have 24 Cs or 24 Ns - these are also not PBAs\n",
    "        continue\n",
    "    pba_entries.append(entry)"
   ]
  },
  {
   "cell_type": "code",
   "execution_count": 71,
   "metadata": {},
   "outputs": [
    {
     "data": {
      "text/plain": [
       "3259"
      ]
     },
     "execution_count": 71,
     "metadata": {},
     "output_type": "execute_result"
    }
   ],
   "source": [
    "len(pba_entries)"
   ]
  },
  {
   "cell_type": "markdown",
   "metadata": {},
   "source": [
    "After filtering out all the structures containing oxygen or hydrogen, as well as the structures that don't contain 24 nitrogens and 24 carbons, we see that there are still 3259 structures remaining. Therefore, it appears that either this new dataset contains a significant number or repeats or that there are actually a large number of new PBAs. Let's dive deeper into the data to find out."
   ]
  }
 ],
 "metadata": {
  "kernelspec": {
   "display_name": "Python 3",
   "language": "python",
   "name": "python3"
  },
  "language_info": {
   "codemirror_mode": {
    "name": "ipython",
    "version": 3
   },
   "file_extension": ".py",
   "mimetype": "text/x-python",
   "name": "python",
   "nbconvert_exporter": "python",
   "pygments_lexer": "ipython3",
   "version": "3.6.5"
  }
 },
 "nbformat": 4,
 "nbformat_minor": 2
}
