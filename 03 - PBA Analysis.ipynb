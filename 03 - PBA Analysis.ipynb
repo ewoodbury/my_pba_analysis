{
 "cells": [
  {
   "cell_type": "markdown",
   "metadata": {},
   "source": [
    "# PBA Analysis"
   ]
  },
  {
   "cell_type": "markdown",
   "metadata": {},
   "source": [
    "1. How unstable are the 100% hydration PBAs? Median and mean? Compared to other hydration levels?\n",
    "2. Add commentary on how much distortion is acceptable regarding PBA stability - want to understand why there is little dependence on P site but significant dependence on A and R sites.\n",
    "3. Instead of saying the Ca and Mg PBAs never reach stability and have ~0meV, describe how many have <25meV e_hull values.\n",
    "4. Check all stability calculations using threshold of <25meV as requirement for \"stability\"."
   ]
  },
  {
   "cell_type": "code",
   "execution_count": 9,
   "metadata": {},
   "outputs": [],
   "source": [
    "import numpy as np\n",
    "import pandas as pd\n",
    "import matplotlib.pyplot as plt\n",
    "%matplotlib inline\n",
    "plt.rcParams['figure.figsize'] = [12,8]"
   ]
  },
  {
   "cell_type": "code",
   "execution_count": 22,
   "metadata": {},
   "outputs": [],
   "source": [
    "#Importing pba_e_hull_df back into the workspace:\n",
    "pba_e_hull_df = pd.read_csv('pba_e_hull_df.csv')\n",
    "pba_e_hull_df.drop('Unnamed: 0', axis = 1, inplace = True)"
   ]
  },
  {
   "cell_type": "code",
   "execution_count": 23,
   "metadata": {},
   "outputs": [
    {
     "data": {
      "text/plain": [
       "3783"
      ]
     },
     "execution_count": 23,
     "metadata": {},
     "output_type": "execute_result"
    }
   ],
   "source": [
    "len(pba_e_hull_df)"
   ]
  },
  {
   "cell_type": "code",
   "execution_count": 24,
   "metadata": {},
   "outputs": [],
   "source": [
    "pba_e_hull_df = pba_e_hull_df.dropna()"
   ]
  },
  {
   "cell_type": "code",
   "execution_count": 25,
   "metadata": {},
   "outputs": [
    {
     "data": {
      "text/plain": [
       "1570"
      ]
     },
     "execution_count": 25,
     "metadata": {},
     "output_type": "execute_result"
    }
   ],
   "source": [
    "len(pba_e_hull_df)"
   ]
  },
  {
   "cell_type": "code",
   "execution_count": 26,
   "metadata": {},
   "outputs": [
    {
     "data": {
      "text/html": [
       "<div>\n",
       "<style scoped>\n",
       "    .dataframe tbody tr th:only-of-type {\n",
       "        vertical-align: middle;\n",
       "    }\n",
       "\n",
       "    .dataframe tbody tr th {\n",
       "        vertical-align: top;\n",
       "    }\n",
       "\n",
       "    .dataframe thead th {\n",
       "        text-align: right;\n",
       "    }\n",
       "</style>\n",
       "<table border=\"1\" class=\"dataframe\">\n",
       "  <thead>\n",
       "    <tr style=\"text-align: right;\">\n",
       "      <th></th>\n",
       "      <th>Composition</th>\n",
       "      <th>Formula</th>\n",
       "      <th>e_above_hull</th>\n",
       "      <th>A_atom</th>\n",
       "      <th>P_atom</th>\n",
       "      <th>R_atom</th>\n",
       "      <th>n_A</th>\n",
       "    </tr>\n",
       "  </thead>\n",
       "  <tbody>\n",
       "    <tr>\n",
       "      <th>0</th>\n",
       "      <td>Ca4 Fe4 Co4 C24 N24</td>\n",
       "      <td>Ca4 Fe4 Co4 C24 N24</td>\n",
       "      <td>0.418517</td>\n",
       "      <td>Ca</td>\n",
       "      <td>Fe</td>\n",
       "      <td>Co</td>\n",
       "      <td>4.0</td>\n",
       "    </tr>\n",
       "    <tr>\n",
       "      <th>1</th>\n",
       "      <td>Mg4 Cr4 Os4 C24 N24</td>\n",
       "      <td>Mg4 Cr4 Os4 C24 N24</td>\n",
       "      <td>0.039182</td>\n",
       "      <td>Mg</td>\n",
       "      <td>Cr</td>\n",
       "      <td>Os</td>\n",
       "      <td>4.0</td>\n",
       "    </tr>\n",
       "    <tr>\n",
       "      <th>2</th>\n",
       "      <td>Ca4 Mn4 Fe4 C24 N24</td>\n",
       "      <td>Ca4 Mn4 Fe4 C24 N24</td>\n",
       "      <td>0.382604</td>\n",
       "      <td>Ca</td>\n",
       "      <td>Fe</td>\n",
       "      <td>Mn</td>\n",
       "      <td>4.0</td>\n",
       "    </tr>\n",
       "    <tr>\n",
       "      <th>3</th>\n",
       "      <td>Ca4 Mn4 Os4 C24 N24</td>\n",
       "      <td>Ca4 Mn4 Os4 C24 N24</td>\n",
       "      <td>0.418517</td>\n",
       "      <td>Ca</td>\n",
       "      <td>Mn</td>\n",
       "      <td>Os</td>\n",
       "      <td>4.0</td>\n",
       "    </tr>\n",
       "    <tr>\n",
       "      <th>4</th>\n",
       "      <td>Li4 Cr8 C24 N24</td>\n",
       "      <td>Li4 Cr8 C24 N24</td>\n",
       "      <td>0.002860</td>\n",
       "      <td>Li</td>\n",
       "      <td>Cr</td>\n",
       "      <td>Cr</td>\n",
       "      <td>4.0</td>\n",
       "    </tr>\n",
       "  </tbody>\n",
       "</table>\n",
       "</div>"
      ],
      "text/plain": [
       "           Composition              Formula  e_above_hull A_atom P_atom  \\\n",
       "0  Ca4 Fe4 Co4 C24 N24  Ca4 Fe4 Co4 C24 N24      0.418517     Ca     Fe   \n",
       "1  Mg4 Cr4 Os4 C24 N24  Mg4 Cr4 Os4 C24 N24      0.039182     Mg     Cr   \n",
       "2  Ca4 Mn4 Fe4 C24 N24  Ca4 Mn4 Fe4 C24 N24      0.382604     Ca     Fe   \n",
       "3  Ca4 Mn4 Os4 C24 N24  Ca4 Mn4 Os4 C24 N24      0.418517     Ca     Mn   \n",
       "4      Li4 Cr8 C24 N24      Li4 Cr8 C24 N24      0.002860     Li     Cr   \n",
       "\n",
       "  R_atom  n_A  \n",
       "0     Co  4.0  \n",
       "1     Os  4.0  \n",
       "2     Mn  4.0  \n",
       "3     Os  4.0  \n",
       "4     Cr  4.0  "
      ]
     },
     "execution_count": 26,
     "metadata": {},
     "output_type": "execute_result"
    }
   ],
   "source": [
    "pba_e_hull_df.head()"
   ]
  },
  {
   "cell_type": "code",
   "execution_count": 7,
   "metadata": {},
   "outputs": [
    {
     "data": {
      "text/plain": [
       "count    1570.000000\n",
       "mean        0.094176\n",
       "std         0.129382\n",
       "min         0.002860\n",
       "25%         0.004879\n",
       "50%         0.039182\n",
       "75%         0.128501\n",
       "max         0.418517\n",
       "Name: e_above_hull, dtype: float64"
      ]
     },
     "execution_count": 7,
     "metadata": {},
     "output_type": "execute_result"
    }
   ],
   "source": [
    "pba_e_hull_df['e_above_hull'].describe()"
   ]
  },
  {
   "cell_type": "code",
   "execution_count": 16,
   "metadata": {},
   "outputs": [
    {
     "data": {
      "text/plain": [
       "Text(0,0.5,'Frequency')"
      ]
     },
     "execution_count": 16,
     "metadata": {},
     "output_type": "execute_result"
    },
    {
     "data": {
      "image/png": "[encoded data removed]",
      "text/plain": [
       "<Figure size 864x576 with 1 Axes>"
      ]
     },
     "metadata": {},
     "output_type": "display_data"
    }
   ],
   "source": [
    "plt.hist(pba_e_hull_df['e_above_hull'], bins = 20)\n",
    "plt.xlabel('E above hull, eV')\n",
    "plt.ylabel('Frequency')"
   ]
  },
  {
   "cell_type": "code",
   "execution_count": 14,
   "metadata": {},
   "outputs": [],
   "source": [
    "ca_pbas = pba_e_hull_df[(pba_e_hull_df['A_atom'] == 'Ca')]"
   ]
  },
  {
   "cell_type": "code",
   "execution_count": 17,
   "metadata": {},
   "outputs": [
    {
     "data": {
      "text/plain": [
       "206"
      ]
     },
     "execution_count": 17,
     "metadata": {},
     "output_type": "execute_result"
    }
   ],
   "source": [
    "len(ca_pbas)"
   ]
  },
  {
   "cell_type": "code",
   "execution_count": 19,
   "metadata": {},
   "outputs": [
    {
     "data": {
      "text/html": [
       "<div>\n",
       "<style scoped>\n",
       "    .dataframe tbody tr th:only-of-type {\n",
       "        vertical-align: middle;\n",
       "    }\n",
       "\n",
       "    .dataframe tbody tr th {\n",
       "        vertical-align: top;\n",
       "    }\n",
       "\n",
       "    .dataframe thead th {\n",
       "        text-align: right;\n",
       "    }\n",
       "</style>\n",
       "<table border=\"1\" class=\"dataframe\">\n",
       "  <thead>\n",
       "    <tr style=\"text-align: right;\">\n",
       "      <th></th>\n",
       "      <th>Composition</th>\n",
       "      <th>Formula</th>\n",
       "      <th>e_above_hull</th>\n",
       "      <th>A_atom</th>\n",
       "      <th>P_atom</th>\n",
       "      <th>R_atom</th>\n",
       "      <th>n_A</th>\n",
       "    </tr>\n",
       "  </thead>\n",
       "  <tbody>\n",
       "  </tbody>\n",
       "</table>\n",
       "</div>"
      ],
      "text/plain": [
       "Empty DataFrame\n",
       "Columns: [Composition, Formula, e_above_hull, A_atom, P_atom, R_atom, n_A]\n",
       "Index: []"
      ]
     },
     "execution_count": 19,
     "metadata": {},
     "output_type": "execute_result"
    }
   ],
   "source": [
    "ca_pbas[ca_pbas['e_above_hull'] < .025]"
   ]
  },
  {
   "cell_type": "code",
   "execution_count": 30,
   "metadata": {},
   "outputs": [],
   "source": [
    "mg_pbas = pba_e_hull_df[(pba_e_hull_df['A_atom'] == 'Mg')]"
   ]
  },
  {
   "cell_type": "code",
   "execution_count": 31,
   "metadata": {},
   "outputs": [
    {
     "data": {
      "text/plain": [
       "225"
      ]
     },
     "execution_count": 31,
     "metadata": {},
     "output_type": "execute_result"
    }
   ],
   "source": [
    "len(mg_pbas)"
   ]
  },
  {
   "cell_type": "code",
   "execution_count": 32,
   "metadata": {},
   "outputs": [
    {
     "data": {
      "text/html": [
       "<div>\n",
       "<style scoped>\n",
       "    .dataframe tbody tr th:only-of-type {\n",
       "        vertical-align: middle;\n",
       "    }\n",
       "\n",
       "    .dataframe tbody tr th {\n",
       "        vertical-align: top;\n",
       "    }\n",
       "\n",
       "    .dataframe thead th {\n",
       "        text-align: right;\n",
       "    }\n",
       "</style>\n",
       "<table border=\"1\" class=\"dataframe\">\n",
       "  <thead>\n",
       "    <tr style=\"text-align: right;\">\n",
       "      <th></th>\n",
       "      <th>Composition</th>\n",
       "      <th>Formula</th>\n",
       "      <th>e_above_hull</th>\n",
       "      <th>A_atom</th>\n",
       "      <th>P_atom</th>\n",
       "      <th>R_atom</th>\n",
       "      <th>n_A</th>\n",
       "    </tr>\n",
       "  </thead>\n",
       "  <tbody>\n",
       "  </tbody>\n",
       "</table>\n",
       "</div>"
      ],
      "text/plain": [
       "Empty DataFrame\n",
       "Columns: [Composition, Formula, e_above_hull, A_atom, P_atom, R_atom, n_A]\n",
       "Index: []"
      ]
     },
     "execution_count": 32,
     "metadata": {},
     "output_type": "execute_result"
    }
   ],
   "source": [
    "mg_pbas[mg_pbas['e_above_hull'] < .025]"
   ]
  },
  {
   "cell_type": "code",
   "execution_count": null,
   "metadata": {},
   "outputs": [],
   "source": []
  }
 ],
 "metadata": {
  "kernelspec": {
   "display_name": "Python 3",
   "language": "python",
   "name": "python3"
  },
  "language_info": {
   "codemirror_mode": {
    "name": "ipython",
    "version": 3
   },
   "file_extension": ".py",
   "mimetype": "text/x-python",
   "name": "python",
   "nbconvert_exporter": "python",
   "pygments_lexer": "ipython3",
   "version": "3.6.5"
  }
 },
 "nbformat": 4,
 "nbformat_minor": 2
}
